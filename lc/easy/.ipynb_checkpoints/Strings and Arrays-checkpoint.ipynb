{
 "cells": [
  {
   "cell_type": "markdown",
   "metadata": {},
   "source": [
    "# Two Sum\n",
    "\n",
    "Given an array of integers, return indices of the two numbers such that they add up to a specific target.\n",
    "\n",
    "You may assume that each input would have exactly one solution, and you may not use the same element twice.\n",
    "\n",
    "What if no additional datastructures can be used?\n",
    "\n",
    "https://leetcode.com/problems/two-sum/"
   ]
  },
  {
   "cell_type": "code",
   "execution_count": 13,
   "metadata": {},
   "outputs": [],
   "source": [
    "def two_sum(arr, target):\n",
    "    dict_1 = {}\n",
    "    for idx in range(len(arr)):\n",
    "        # a + b = target\n",
    "        # Store (target-a) as key, index of a as value\n",
    "        a = arr[idx]\n",
    "        # \n",
    "        if a in dict_1:\n",
    "            return [dict_1[a], idx]\n",
    "        \n",
    "        dict_1[target-a] = idx\n",
    "    \n",
    "    return [-1, -1]\n",
    "        \n",
    "    \n",
    "        "
   ]
  },
  {
   "cell_type": "code",
   "execution_count": 14,
   "metadata": {},
   "outputs": [
    {
     "data": {
      "text/plain": [
       "[0, 1]"
      ]
     },
     "execution_count": 14,
     "metadata": {},
     "output_type": "execute_result"
    }
   ],
   "source": [
    "two_sum([2, 7, 11, 15], 9)"
   ]
  },
  {
   "cell_type": "code",
   "execution_count": 17,
   "metadata": {},
   "outputs": [
    {
     "data": {
      "text/plain": [
       "[-1, -1]"
      ]
     },
     "execution_count": 17,
     "metadata": {},
     "output_type": "execute_result"
    }
   ],
   "source": [
    "two_sum([2,4,-1,10], 5)"
   ]
  },
  {
   "cell_type": "code",
   "execution_count": 22,
   "metadata": {},
   "outputs": [],
   "source": [
    "# O(nlogn) solution due to sorting\n",
    "def two_sum_special(arr, target):\n",
    "    arr = sorted(arr)\n",
    "    ptr_1 = 0\n",
    "    ptr_2 = len(arr) -1 \n",
    "    while ptr_1 != ptr_2:\n",
    "        if arr[ptr_1] + arr[ptr_2] == target:\n",
    "            return [ptr_1, ptr_2]\n",
    "        # Sum too small, increment start pointer\n",
    "        elif arr[ptr_1] + arr[ptr_2] < target:\n",
    "            ptr_1 += 1\n",
    "        # Sum too big, decrease end pointer\n",
    "        elif arr[ptr_1] + arr[ptr_2] > target:\n",
    "            ptr_2 -= 1\n",
    "            \n",
    "    return [-1, -1]"
   ]
  },
  {
   "cell_type": "code",
   "execution_count": 21,
   "metadata": {},
   "outputs": [
    {
     "data": {
      "text/plain": [
       "[0, 1]"
      ]
     },
     "execution_count": 21,
     "metadata": {},
     "output_type": "execute_result"
    }
   ],
   "source": [
    "two_sum_special([2, 7, 11, 15], 9)"
   ]
  },
  {
   "cell_type": "code",
   "execution_count": 23,
   "metadata": {},
   "outputs": [
    {
     "data": {
      "text/plain": [
       "[-1, -1]"
      ]
     },
     "execution_count": 23,
     "metadata": {},
     "output_type": "execute_result"
    }
   ],
   "source": [
    "two_sum([2,4,-1,10], 5)"
   ]
  },
  {
   "cell_type": "markdown",
   "metadata": {},
   "source": [
    "# 771. Jewels and Stones"
   ]
  },
  {
   "cell_type": "markdown",
   "metadata": {},
   "source": [
    "You're given strings J representing the types of stones that are jewels, and S representing the stones you have.  Each character in S is a type of stone you have.  You want to know how many of the stones you have are also jewels. The letters in J are guaranteed distinct, and all characters in J and S are letters. Letters are case sensitive, so \"a\" is considered a different type of stone from \"A\".\n",
    "\n",
    "https://leetcode.com/problems/jewels-and-stones/\n"
   ]
  },
  {
   "cell_type": "markdown",
   "metadata": {},
   "source": [
    "## Using a set. O(n+m) time complexity. O(1) space."
   ]
  },
  {
   "cell_type": "code",
   "execution_count": 15,
   "metadata": {},
   "outputs": [],
   "source": [
    "def jewels_and_stones(j_str, s_str):\n",
    "    _set = set()\n",
    "    \n",
    "    for char in j_str:\n",
    "        _set.add(char)\n",
    "    \n",
    "    num_jewels = 0\n",
    "    for char in s_str:\n",
    "        if char in _set:\n",
    "            num_jewels += 1\n",
    "    \n",
    "    return num_jewels\n",
    "\n",
    "            \n",
    "    "
   ]
  },
  {
   "cell_type": "markdown",
   "metadata": {},
   "source": [
    "## Using bit-vector. O(n+m) time complexity. O(1) space.\n",
    "\n",
    "Assume only lower-case"
   ]
  },
  {
   "cell_type": "code",
   "execution_count": 29,
   "metadata": {},
   "outputs": [],
   "source": [
    "def jewels_and_stones(j_str, s_str):\n",
    "    a_int = ord('a')\n",
    "    # Build bitvector\n",
    "    bit_vec = 0\n",
    "    for char in j_str:\n",
    "        char_int = ord(char) - a_int\n",
    "        bit_vec |= (1 << char_int) \n",
    "    \n",
    "    num_jewels = 0\n",
    "    for char in s_str:\n",
    "        char_int = ord(char) - a_int\n",
    "        if (1 << char_int & bit_vec) > 0:\n",
    "            num_jewels += 1\n",
    "    \n",
    "    return num_jewels"
   ]
  },
  {
   "cell_type": "code",
   "execution_count": 30,
   "metadata": {},
   "outputs": [
    {
     "data": {
      "text/plain": [
       "2"
      ]
     },
     "execution_count": 30,
     "metadata": {},
     "output_type": "execute_result"
    }
   ],
   "source": [
    "jewels_and_stones('abcde', 'cdfgh')"
   ]
  },
  {
   "cell_type": "code",
   "execution_count": 31,
   "metadata": {},
   "outputs": [
    {
     "data": {
      "text/plain": [
       "0"
      ]
     },
     "execution_count": 31,
     "metadata": {},
     "output_type": "execute_result"
    }
   ],
   "source": [
    "jewels_and_stones('abc', 'def')"
   ]
  },
  {
   "cell_type": "code",
   "execution_count": 32,
   "metadata": {},
   "outputs": [
    {
     "data": {
      "text/plain": [
       "3"
      ]
     },
     "execution_count": 32,
     "metadata": {},
     "output_type": "execute_result"
    }
   ],
   "source": [
    "jewels_and_stones('abc', 'abc')"
   ]
  },
  {
   "cell_type": "code",
   "execution_count": 33,
   "metadata": {},
   "outputs": [
    {
     "data": {
      "text/plain": [
       "4"
      ]
     },
     "execution_count": 33,
     "metadata": {},
     "output_type": "execute_result"
    }
   ],
   "source": [
    "jewels_and_stones('abcde', 'aabb')"
   ]
  },
  {
   "cell_type": "code",
   "execution_count": null,
   "metadata": {},
   "outputs": [],
   "source": []
  }
 ],
 "metadata": {
  "kernelspec": {
   "display_name": "Python 3",
   "language": "python",
   "name": "python3"
  },
  "language_info": {
   "codemirror_mode": {
    "name": "ipython",
    "version": 3
   },
   "file_extension": ".py",
   "mimetype": "text/x-python",
   "name": "python",
   "nbconvert_exporter": "python",
   "pygments_lexer": "ipython3",
   "version": "3.6.9"
  }
 },
 "nbformat": 4,
 "nbformat_minor": 4
}
