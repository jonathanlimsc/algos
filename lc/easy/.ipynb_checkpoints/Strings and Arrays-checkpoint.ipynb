{
 "cells": [
  {
   "cell_type": "markdown",
   "metadata": {},
   "source": [
    "# Two Sum\n",
    "\n",
    "Given an array of integers, return indices of the two numbers such that they add up to a specific target.\n",
    "\n",
    "You may assume that each input would have exactly one solution, and you may not use the same element twice.\n",
    "\n",
    "What if no additional datastructures can be used?\n",
    "\n",
    "https://leetcode.com/problems/two-sum/"
   ]
  },
  {
   "cell_type": "code",
   "execution_count": 13,
   "metadata": {},
   "outputs": [],
   "source": [
    "def two_sum(arr, target):\n",
    "    dict_1 = {}\n",
    "    for idx in range(len(arr)):\n",
    "        # a + b = target\n",
    "        # Store (target-a) as key, index of a as value\n",
    "        a = arr[idx]\n",
    "        # \n",
    "        if a in dict_1:\n",
    "            return [dict_1[a], idx]\n",
    "        \n",
    "        dict_1[target-a] = idx\n",
    "    \n",
    "    return [-1, -1]\n",
    "        \n",
    "    \n",
    "        "
   ]
  },
  {
   "cell_type": "code",
   "execution_count": 14,
   "metadata": {},
   "outputs": [
    {
     "data": {
      "text/plain": [
       "[0, 1]"
      ]
     },
     "execution_count": 14,
     "metadata": {},
     "output_type": "execute_result"
    }
   ],
   "source": [
    "two_sum([2, 7, 11, 15], 9)"
   ]
  },
  {
   "cell_type": "code",
   "execution_count": 17,
   "metadata": {},
   "outputs": [
    {
     "data": {
      "text/plain": [
       "[-1, -1]"
      ]
     },
     "execution_count": 17,
     "metadata": {},
     "output_type": "execute_result"
    }
   ],
   "source": [
    "two_sum([2,4,-1,10], 5)"
   ]
  },
  {
   "cell_type": "code",
   "execution_count": 22,
   "metadata": {},
   "outputs": [],
   "source": [
    "# O(nlogn) solution due to sorting\n",
    "def two_sum_special(arr, target):\n",
    "    arr = sorted(arr)\n",
    "    ptr_1 = 0\n",
    "    ptr_2 = len(arr) -1 \n",
    "    while ptr_1 != ptr_2:\n",
    "        if arr[ptr_1] + arr[ptr_2] == target:\n",
    "            return [ptr_1, ptr_2]\n",
    "        # Sum too small, increment start pointer\n",
    "        elif arr[ptr_1] + arr[ptr_2] < target:\n",
    "            ptr_1 += 1\n",
    "        # Sum too big, decrease end pointer\n",
    "        elif arr[ptr_1] + arr[ptr_2] > target:\n",
    "            ptr_2 -= 1\n",
    "            \n",
    "    return [-1, -1]"
   ]
  },
  {
   "cell_type": "code",
   "execution_count": 21,
   "metadata": {},
   "outputs": [
    {
     "data": {
      "text/plain": [
       "[0, 1]"
      ]
     },
     "execution_count": 21,
     "metadata": {},
     "output_type": "execute_result"
    }
   ],
   "source": [
    "two_sum_special([2, 7, 11, 15], 9)"
   ]
  },
  {
   "cell_type": "code",
   "execution_count": 23,
   "metadata": {},
   "outputs": [
    {
     "data": {
      "text/plain": [
       "[-1, -1]"
      ]
     },
     "execution_count": 23,
     "metadata": {},
     "output_type": "execute_result"
    }
   ],
   "source": [
    "two_sum([2,4,-1,10], 5)"
   ]
  },
  {
   "cell_type": "markdown",
   "metadata": {},
   "source": [
    "# 771. Jewels and Stones"
   ]
  },
  {
   "cell_type": "markdown",
   "metadata": {},
   "source": [
    "You're given strings J representing the types of stones that are jewels, and S representing the stones you have.  Each character in S is a type of stone you have.  You want to know how many of the stones you have are also jewels. The letters in J are guaranteed distinct, and all characters in J and S are letters. Letters are case sensitive, so \"a\" is considered a different type of stone from \"A\".\n",
    "\n",
    "https://leetcode.com/problems/jewels-and-stones/\n"
   ]
  },
  {
   "cell_type": "markdown",
   "metadata": {},
   "source": [
    "## Using a set. O(n+m) time complexity. O(1) space."
   ]
  },
  {
   "cell_type": "code",
   "execution_count": 15,
   "metadata": {},
   "outputs": [],
   "source": [
    "def jewels_and_stones(j_str, s_str):\n",
    "    _set = set()\n",
    "    \n",
    "    for char in j_str:\n",
    "        _set.add(char)\n",
    "    \n",
    "    num_jewels = 0\n",
    "    for char in s_str:\n",
    "        if char in _set:\n",
    "            num_jewels += 1\n",
    "    \n",
    "    return num_jewels\n",
    "\n",
    "            \n",
    "    "
   ]
  },
  {
   "cell_type": "markdown",
   "metadata": {},
   "source": [
    "## Using bit-vector. O(n+m) time complexity. O(1) space.\n",
    "\n",
    "Assume only lower-case"
   ]
  },
  {
   "cell_type": "code",
   "execution_count": 35,
   "metadata": {},
   "outputs": [],
   "source": [
    "def jewels_and_stones(j_str, s_str):\n",
    "    a_int = ord('a')\n",
    "    # Build bitvector\n",
    "    bit_vec = 0\n",
    "    for char in j_str:\n",
    "        char_int = ord(char) - a_int\n",
    "        bit_vec |= (1 << char_int) \n",
    "    \n",
    "    num_jewels = 0\n",
    "    for char in s_str:\n",
    "        char_int = ord(char) - a_int\n",
    "        if ((1 << char_int) & bit_vec) > 0:\n",
    "            num_jewels += 1\n",
    "    \n",
    "    return num_jewels"
   ]
  },
  {
   "cell_type": "code",
   "execution_count": 36,
   "metadata": {},
   "outputs": [
    {
     "data": {
      "text/plain": [
       "2"
      ]
     },
     "execution_count": 36,
     "metadata": {},
     "output_type": "execute_result"
    }
   ],
   "source": [
    "jewels_and_stones('abcde', 'cdfgh')"
   ]
  },
  {
   "cell_type": "code",
   "execution_count": 37,
   "metadata": {},
   "outputs": [
    {
     "data": {
      "text/plain": [
       "0"
      ]
     },
     "execution_count": 37,
     "metadata": {},
     "output_type": "execute_result"
    }
   ],
   "source": [
    "jewels_and_stones('abc', 'def')"
   ]
  },
  {
   "cell_type": "code",
   "execution_count": 38,
   "metadata": {},
   "outputs": [
    {
     "data": {
      "text/plain": [
       "3"
      ]
     },
     "execution_count": 38,
     "metadata": {},
     "output_type": "execute_result"
    }
   ],
   "source": [
    "jewels_and_stones('abc', 'abc')"
   ]
  },
  {
   "cell_type": "code",
   "execution_count": 39,
   "metadata": {},
   "outputs": [
    {
     "data": {
      "text/plain": [
       "4"
      ]
     },
     "execution_count": 39,
     "metadata": {},
     "output_type": "execute_result"
    }
   ],
   "source": [
    "jewels_and_stones('abcde', 'aabb')"
   ]
  },
  {
   "cell_type": "markdown",
   "metadata": {},
   "source": [
    "## 852. Peak index in a mountain array"
   ]
  },
  {
   "cell_type": "markdown",
   "metadata": {},
   "source": [
    "Let's call an array A a mountain if the following properties hold:\n",
    "\n",
    "A.length >= 3\n",
    "There exists some 0 < i < A.length - 1 such that A[0] < A[1] < ... A[i-1] < A[i] > A[i+1] > ... > A[A.length - 1]\n",
    "Given an array that is definitely a mountain, return any i such that A[0] < A[1] < ... A[i-1] < A[i] > A[i+1] > ... > A[A.length - 1].\n",
    "\n",
    "Example 1:\n",
    "\n",
    "Input: [0,1,0]\n",
    "Output: 1\n",
    "Example 2:\n",
    "\n",
    "Input: [0,2,1,0]\n",
    "Output: 1\n",
    "Note:\n",
    "\n",
    "3 <= A.length <= 10000\n",
    "0 <= A[i] <= 10^6\n",
    "A is a mountain, as defined above.\n",
    "\n",
    "https://leetcode.com/problems/peak-index-in-a-mountain-array"
   ]
  },
  {
   "cell_type": "markdown",
   "metadata": {},
   "source": [
    "## Using Binary search, O(logn) time, O(1) space"
   ]
  },
  {
   "cell_type": "code",
   "execution_count": 63,
   "metadata": {},
   "outputs": [],
   "source": [
    "from typing import List\n",
    "\n",
    "def peakIndexInMountainArray(A: List[int]) -> int:\n",
    "    if len(A) == 3:\n",
    "        return 1\n",
    "    left_bound, right_bound = 0, len(A) - 1\n",
    "\n",
    "    while left_bound < right_bound:\n",
    "        curr_idx = int((right_bound + left_bound)/2)\n",
    "        # Left side of mountain\n",
    "        if A[curr_idx] < A[curr_idx+1]:\n",
    "            left_bound = curr_idx + 1\n",
    "\n",
    "        # Right side of mountain\n",
    "        else:\n",
    "            right_bound = curr_idx\n",
    "            \n",
    "    return left_bound\n",
    "\n",
    "            "
   ]
  },
  {
   "cell_type": "code",
   "execution_count": 64,
   "metadata": {},
   "outputs": [
    {
     "data": {
      "text/plain": [
       "3"
      ]
     },
     "execution_count": 64,
     "metadata": {},
     "output_type": "execute_result"
    }
   ],
   "source": [
    "peakIndexInMountainArray([3,4,5,6,3,2])"
   ]
  },
  {
   "cell_type": "code",
   "execution_count": 65,
   "metadata": {},
   "outputs": [
    {
     "data": {
      "text/plain": [
       "3"
      ]
     },
     "execution_count": 65,
     "metadata": {},
     "output_type": "execute_result"
    }
   ],
   "source": [
    "peakIndexInMountainArray([0,3,4,5,3,2,1])"
   ]
  },
  {
   "cell_type": "code",
   "execution_count": 66,
   "metadata": {},
   "outputs": [
    {
     "data": {
      "text/plain": [
       "0"
      ]
     },
     "execution_count": 66,
     "metadata": {},
     "output_type": "execute_result"
    }
   ],
   "source": [
    "peakIndexInMountainArray([5,4,3,2,1])"
   ]
  },
  {
   "cell_type": "code",
   "execution_count": 67,
   "metadata": {},
   "outputs": [
    {
     "data": {
      "text/plain": [
       "4"
      ]
     },
     "execution_count": 67,
     "metadata": {},
     "output_type": "execute_result"
    }
   ],
   "source": [
    "peakIndexInMountainArray([1,2,3,4,5])"
   ]
  },
  {
   "cell_type": "markdown",
   "metadata": {},
   "source": [
    "## 459. Repeated Substring Pattern"
   ]
  },
  {
   "cell_type": "markdown",
   "metadata": {},
   "source": [
    "Given a non-empty string check if it can be constructed by taking a substring of it and appending multiple copies of the substring together. You may assume the given string consists of lowercase English letters only and its length will not exceed 10000.\n",
    "\n",
    "Example 1:\n",
    "\n",
    "Input: \"abab\"\n",
    "Output: True\n",
    "Explanation: It's the substring \"ab\" twice.\n",
    "\n",
    "https://leetcode.com/problems/repeated-substring-pattern/"
   ]
  },
  {
   "cell_type": "markdown",
   "metadata": {},
   "source": [
    "## Find factors of string length, use factors as the sliding windows to verify repeated substring O(n*sqrt(n)) time, O(k) space where k is the sliding window"
   ]
  },
  {
   "cell_type": "code",
   "execution_count": 2,
   "metadata": {},
   "outputs": [],
   "source": [
    "def repeated_substring_pattern(s):\n",
    "    def getFactors(num):\n",
    "        factors = [1]\n",
    "        curr_num = 2\n",
    "        # The biggest factor we should look for is one that breaks the string into 2 halves\n",
    "        # limit = int(num / 2) if num % 2 == 0 else int(num / 2) - 1\n",
    "        limit = int(num ** 0.5)\n",
    "        for factor in range(2, limit+1):\n",
    "            if num % factor == 0:\n",
    "                factors.append(factor)\n",
    "                second_factor = int(num/factor)\n",
    "                if second_factor <= int(num/2):\n",
    "                    factors.append(second_factor)\n",
    "        return factors\n",
    "\n",
    "    # A string of len 1 has no repeated substrings\n",
    "    if len(s) == 1:\n",
    "        return False\n",
    "\n",
    "    factors = getFactors(len(s))\n",
    "\n",
    "    for window_size in factors:\n",
    "        left_idx = 0\n",
    "        right_idx = left_idx + window_size\n",
    "        template_str = s[0:window_size]\n",
    "        left_idx = window_size\n",
    "        right_idx = window_size * 2\n",
    "        found_pattern = True\n",
    "\n",
    "        # Check if sliding window string is same as template_str\n",
    "        while left_idx <= len(s)-window_size:\n",
    "            curr_window = s[left_idx:right_idx]\n",
    "\n",
    "            if curr_window != template_str:\n",
    "                found_pattern = False\n",
    "                break\n",
    "            left_idx += window_size\n",
    "            right_idx += window_size\n",
    "\n",
    "        if found_pattern:\n",
    "            return True\n",
    "\n",
    "    return False"
   ]
  },
  {
   "cell_type": "code",
   "execution_count": 3,
   "metadata": {},
   "outputs": [
    {
     "data": {
      "text/plain": [
       "True"
      ]
     },
     "execution_count": 3,
     "metadata": {},
     "output_type": "execute_result"
    }
   ],
   "source": [
    "repeated_substring_pattern(\"abababab\")"
   ]
  },
  {
   "cell_type": "code",
   "execution_count": 4,
   "metadata": {},
   "outputs": [
    {
     "data": {
      "text/plain": [
       "False"
      ]
     },
     "execution_count": 4,
     "metadata": {},
     "output_type": "execute_result"
    }
   ],
   "source": [
    "repeated_substring_pattern(\"ababababc\")"
   ]
  },
  {
   "cell_type": "markdown",
   "metadata": {},
   "source": [
    "# 165. Compare Version Numbers"
   ]
  },
  {
   "cell_type": "markdown",
   "metadata": {},
   "source": [
    "Compare two version numbers version1 and version2.\n",
    "If version1 > version2 return 1; if version1 < version2 return -1;otherwise return 0.\n",
    "\n",
    "You may assume that the version strings are non-empty and contain only digits and the . character.\n",
    "\n",
    "The . character does not represent a decimal point and is used to separate number sequences.\n",
    "\n",
    "For instance, 2.5 is not \"two and a half\" or \"half way to version three\", it is the fifth second-level revision of the second first-level revision.\n",
    "\n",
    "You may assume the default revision number for each level of a version number to be 0. For example, version number 3.4 has a revision number of 3 and 4 for its first and second level revision number. Its third and fourth level revision number are both 0.\n",
    "\n",
    " \n",
    "\n",
    "Example 1:\n",
    "\n",
    "Input: version1 = \"0.1\", version2 = \"1.1\"\n",
    "Output: -1\n",
    "Example 2:\n",
    "\n",
    "Input: version1 = \"1.0.1\", version2 = \"1\"\n",
    "Output: 1\n",
    "\n",
    "https://leetcode.com/problems/compare-version-numbers/"
   ]
  },
  {
   "cell_type": "markdown",
   "metadata": {},
   "source": [
    "## Compare the number converted from string between each '.'. If a string ends prematurely without dots, treat that integer to be 0. O(n) time, O(1) space"
   ]
  },
  {
   "cell_type": "code",
   "execution_count": 8,
   "metadata": {},
   "outputs": [],
   "source": [
    "def compare_version(version1, version2):\n",
    "    prev_dot_1 = 0\n",
    "    curr_1 = 0\n",
    "    prev_dot_2 = 0\n",
    "    curr_2 = 0\n",
    "\n",
    "    while curr_1 < len(version1) or curr_2 < len(version2):\n",
    "        # Iterate until dot is found or is within bounds\n",
    "        while curr_1 < len(version1) and version1[curr_1] != '.':\n",
    "            curr_1 += 1\n",
    "        # Found v1 dot\n",
    "        v1_int = int(version1[prev_dot_1:curr_1]) if prev_dot_1 < len(version1) else 0\n",
    "\n",
    "        # Update prev dot\n",
    "        curr_1 += 1\n",
    "        prev_dot_1 = curr_1\n",
    "\n",
    "        # Iterate until dot is found or is within bounds\n",
    "        while curr_2 < len(version2) and version2[curr_2] != '.':\n",
    "            curr_2 += 1\n",
    "\n",
    "        # Found v2 dot\n",
    "        v2_int = int(version2[prev_dot_2:curr_2]) if prev_dot_2 < len(version2) else 0\n",
    "\n",
    "        # Update prev dot\n",
    "        curr_2 += 1\n",
    "        prev_dot_2 = curr_2\n",
    "\n",
    "        # Compare v1_int and v2_int\n",
    "        if v1_int > v2_int:\n",
    "            return 1\n",
    "        elif v2_int > v1_int:\n",
    "            return -1\n",
    "\n",
    "    return 0"
   ]
  },
  {
   "cell_type": "code",
   "execution_count": 9,
   "metadata": {},
   "outputs": [
    {
     "data": {
      "text/plain": [
       "-1"
      ]
     },
     "execution_count": 9,
     "metadata": {},
     "output_type": "execute_result"
    }
   ],
   "source": [
    "compare_version(\"1.0.1\", \"1.2.1\")"
   ]
  },
  {
   "cell_type": "code",
   "execution_count": 10,
   "metadata": {},
   "outputs": [
    {
     "data": {
      "text/plain": [
       "1"
      ]
     },
     "execution_count": 10,
     "metadata": {},
     "output_type": "execute_result"
    }
   ],
   "source": [
    "compare_version(\"1.0.1\", \"1\")"
   ]
  },
  {
   "cell_type": "code",
   "execution_count": 11,
   "metadata": {},
   "outputs": [
    {
     "data": {
      "text/plain": [
       "1"
      ]
     },
     "execution_count": 11,
     "metadata": {},
     "output_type": "execute_result"
    }
   ],
   "source": [
    "compare_version(\"2.100.1\", \"2.1.2\")"
   ]
  },
  {
   "cell_type": "code",
   "execution_count": null,
   "metadata": {},
   "outputs": [],
   "source": []
  }
 ],
 "metadata": {
  "kernelspec": {
   "display_name": "Python 3",
   "language": "python",
   "name": "python3"
  },
  "language_info": {
   "codemirror_mode": {
    "name": "ipython",
    "version": 3
   },
   "file_extension": ".py",
   "mimetype": "text/x-python",
   "name": "python",
   "nbconvert_exporter": "python",
   "pygments_lexer": "ipython3",
   "version": "3.6.7"
  }
 },
 "nbformat": 4,
 "nbformat_minor": 4
}
