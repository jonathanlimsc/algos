{
 "cells": [
  {
   "cell_type": "markdown",
   "metadata": {},
   "source": [
    "# 226. Invert Binary Tree"
   ]
  },
  {
   "cell_type": "markdown",
   "metadata": {},
   "source": [
    "Invert a binary tree.\n",
    "\n",
    "Example:\n",
    "\n",
    "Input:\n",
    "```\n",
    "     4\n",
    "   /   \\\n",
    "  2     7\n",
    " / \\   / \\\n",
    "1   3 6   9\n",
    "Output:\n",
    "\n",
    "     4\n",
    "   /   \\\n",
    "  7     2\n",
    " / \\   / \\\n",
    "9   6 3   1\n",
    "```\n",
    "    \n",
    "https://leetcode.com/problems/invert-binary-tree/solution/"
   ]
  },
  {
   "cell_type": "markdown",
   "metadata": {},
   "source": [
    "## Recursion, O(n) time, O(n) space where O(h) function calls will be placed onto the stack, h<n and h=height of tree"
   ]
  },
  {
   "cell_type": "code",
   "execution_count": 6,
   "metadata": {},
   "outputs": [],
   "source": [
    "# Definition for a binary tree node.\n",
    "class TreeNode:\n",
    "    def __init__(self, val=0, left=None, right=None):\n",
    "        self.val = val\n",
    "        self.left = left\n",
    "        self.right = right\n",
    "\n",
    "def invertTree(root: TreeNode) -> TreeNode:\n",
    "    # Base case\n",
    "    if root is None:\n",
    "        return None\n",
    "\n",
    "    right = invertTree(root.right)\n",
    "    left = invertTree(root.left)\n",
    "    root.left = right\n",
    "    root.right = left\n",
    "\n",
    "    return root"
   ]
  },
  {
   "cell_type": "code",
   "execution_count": 12,
   "metadata": {},
   "outputs": [],
   "source": [
    "def printTreeInOrder(root):\n",
    "    if root is None:\n",
    "        return None\n",
    "    print(root.val)\n",
    "    printTree(root.left)\n",
    "    printTree(root.right)"
   ]
  },
  {
   "cell_type": "code",
   "execution_count": 13,
   "metadata": {},
   "outputs": [],
   "source": [
    "n_4 = TreeNode(4)\n",
    "n_2 = TreeNode(2)\n",
    "n_1 = TreeNode(1)\n",
    "n_3 = TreeNode(3)\n",
    "n_7 = TreeNode(7)\n",
    "n_6 = TreeNode(6)\n",
    "n_9 = TreeNode(9)\n",
    "\n",
    "n_4.left = n_2\n",
    "n_4.right = n_7\n",
    "n_2.left= n_1\n",
    "n_2.right = n_3\n",
    "n_7.left = n_6\n",
    "n_7.right = n_9"
   ]
  },
  {
   "cell_type": "code",
   "execution_count": 14,
   "metadata": {},
   "outputs": [],
   "source": [
    "tree = invertTree(n_4)"
   ]
  },
  {
   "cell_type": "code",
   "execution_count": 15,
   "metadata": {},
   "outputs": [
    {
     "name": "stdout",
     "output_type": "stream",
     "text": [
      "4\n",
      "7\n",
      "9\n",
      "6\n",
      "2\n",
      "3\n",
      "1\n"
     ]
    }
   ],
   "source": [
    "printTreeInOrder(tree)"
   ]
  },
  {
   "cell_type": "code",
   "execution_count": null,
   "metadata": {},
   "outputs": [],
   "source": []
  }
 ],
 "metadata": {
  "kernelspec": {
   "display_name": "Python (py35)",
   "language": "python",
   "name": "py35"
  },
  "language_info": {
   "codemirror_mode": {
    "name": "ipython",
    "version": 3
   },
   "file_extension": ".py",
   "mimetype": "text/x-python",
   "name": "python",
   "nbconvert_exporter": "python",
   "pygments_lexer": "ipython3",
   "version": "3.5.4"
  }
 },
 "nbformat": 4,
 "nbformat_minor": 2
}
