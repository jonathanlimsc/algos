{
 "cells": [
  {
   "cell_type": "markdown",
   "metadata": {},
   "source": [
    "## 11. Container with most water\n",
    "\n",
    "Given n non-negative integers a1, a2, ..., an , where each represents a point at coordinate (i, ai). n vertical lines are drawn such that the two endpoints of line i is at (i, ai) and (i, 0). Find two lines, which together with x-axis forms a container, such that the container contains the most water.\n",
    "\n",
    "Note: You may not slant the container and n is at least 2."
   ]
  },
  {
   "cell_type": "markdown",
   "metadata": {},
   "source": [
    "### 11.1 Two pointers, O(n) time complexity, O(1) space complexity"
   ]
  },
  {
   "cell_type": "code",
   "execution_count": 6,
   "metadata": {},
   "outputs": [],
   "source": [
    "def max_area(height):\n",
    "    max_area = 0\n",
    "    left_ptr = 0\n",
    "    right_ptr = len(height) - 1\n",
    "    while left_ptr != right_ptr:\n",
    "        width = right_ptr - left_ptr\n",
    "        if height[left_ptr] <= height[right_ptr]:\n",
    "            curr_area = height[left_ptr] * width\n",
    "            max_area = curr_area if curr_area > max_area else max_area\n",
    "            left_ptr += 1\n",
    "        else:\n",
    "            curr_area = height[right_ptr] * width\n",
    "            max_area = curr_area if curr_area > max_area else max_area\n",
    "            right_ptr -= 1\n",
    "\n",
    "    return max_area"
   ]
  },
  {
   "cell_type": "code",
   "execution_count": 7,
   "metadata": {},
   "outputs": [
    {
     "data": {
      "text/plain": [
       "49"
      ]
     },
     "execution_count": 7,
     "metadata": {},
     "output_type": "execute_result"
    }
   ],
   "source": [
    "max_area([1,8,6,2,5,4,8,3,7])"
   ]
  },
  {
   "cell_type": "code",
   "execution_count": 8,
   "metadata": {},
   "outputs": [
    {
     "data": {
      "text/plain": [
       "1"
      ]
     },
     "execution_count": 8,
     "metadata": {},
     "output_type": "execute_result"
    }
   ],
   "source": [
    "max_area([1,10])"
   ]
  },
  {
   "cell_type": "markdown",
   "metadata": {},
   "source": [
    "## 22. Generate Parentheses"
   ]
  },
  {
   "cell_type": "markdown",
   "metadata": {},
   "source": [
    "Given n pairs of parentheses, write a function to generate all combinations of well-formed parentheses.\n",
    "\n",
    "For example, given n = 3, a solution set is:\n",
    "\n",
    "[\n",
    "  \"((()))\",\n",
    "  \"(()())\",\n",
    "  \"(())()\",\n",
    "  \"()(())\",\n",
    "  \"()()()\"\n",
    "]\n",
    "\n",
    "https://leetcode.com/problems/generate-parentheses/"
   ]
  },
  {
   "cell_type": "markdown",
   "metadata": {},
   "source": [
    "### 22.1 Recursion. O(exp(n)) time, O(exp(n)) space"
   ]
  },
  {
   "cell_type": "code",
   "execution_count": 1,
   "metadata": {},
   "outputs": [],
   "source": [
    "from typing import List\n",
    "\n",
    "def generate_new_parens_by_shifting(paren: str) -> List[str]:\n",
    "    new_parens = []\n",
    "    for i in range(len(paren)):\n",
    "        new_paren = paren[:i] + \"()\" + paren[i:]\n",
    "        new_parens.append(new_paren)\n",
    "\n",
    "    return new_parens\n",
    "\n",
    "def generate_parentheses(num: int) -> List[str]:\n",
    "    if num == 0:\n",
    "        return []\n",
    "    if num == 1:\n",
    "        return [\"()\"]\n",
    "    \n",
    "    # If num > 2\n",
    "    arr = generate_parentheses(num-1)\n",
    "    new_parens = []\n",
    "    for paren in arr:\n",
    "        new_parens.extend(generate_new_parens_by_shifting(paren))\n",
    "    \n",
    "    # Make unique, remove repeated new parens\n",
    "    new_parens = list(set(new_parens))\n",
    "    return new_parens"
   ]
  },
  {
   "cell_type": "code",
   "execution_count": 2,
   "metadata": {},
   "outputs": [
    {
     "data": {
      "text/plain": [
       "['(())()', '()()()', '(()())', '((()))', '()(())']"
      ]
     },
     "execution_count": 2,
     "metadata": {},
     "output_type": "execute_result"
    }
   ],
   "source": [
    "generate_parentheses(3)"
   ]
  },
  {
   "cell_type": "code",
   "execution_count": 3,
   "metadata": {},
   "outputs": [
    {
     "data": {
      "text/plain": [
       "['()()(())',\n",
       " '(()()())',\n",
       " '((())())',\n",
       " '()(()())',\n",
       " '()((()))',\n",
       " '(())(())',\n",
       " '()(())()',\n",
       " '(()(()))',\n",
       " '(((())))',\n",
       " '((()))()',\n",
       " '((()()))',\n",
       " '(()())()',\n",
       " '()()()()',\n",
       " '(())()()']"
      ]
     },
     "execution_count": 3,
     "metadata": {},
     "output_type": "execute_result"
    }
   ],
   "source": [
    "generate_parentheses(4)"
   ]
  },
  {
   "cell_type": "code",
   "execution_count": null,
   "metadata": {},
   "outputs": [],
   "source": []
  },
  {
   "cell_type": "code",
   "execution_count": null,
   "metadata": {},
   "outputs": [],
   "source": []
  }
 ],
 "metadata": {
  "kernelspec": {
   "display_name": "Python (py35)",
   "language": "python",
   "name": "py35"
  },
  "language_info": {
   "codemirror_mode": {
    "name": "ipython",
    "version": 3
   },
   "file_extension": ".py",
   "mimetype": "text/x-python",
   "name": "python",
   "nbconvert_exporter": "python",
   "pygments_lexer": "ipython3",
   "version": "3.5.4"
  }
 },
 "nbformat": 4,
 "nbformat_minor": 4
}
