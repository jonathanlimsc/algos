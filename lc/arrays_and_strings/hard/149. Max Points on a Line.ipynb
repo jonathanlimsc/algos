{
 "cells": [
  {
   "cell_type": "code",
   "execution_count": 1,
   "metadata": {},
   "outputs": [
    {
     "data": {
      "text/plain": [
       "'\\n^\\n|\\n|  o\\n|     o        o\\n|        o\\n|  o        o\\n+------------------->\\n0  1  2  3  4  5  6\\n\\nInput: [[1,1],[3,2],[5,3],[4,1],[2,3],[1,4]]\\nOutput: 4\\n'"
      ]
     },
     "execution_count": 1,
     "metadata": {},
     "output_type": "execute_result"
    }
   ],
   "source": [
    "'''\n",
    "^\n",
    "|\n",
    "|  o\n",
    "|     o        o\n",
    "|        o\n",
    "|  o        o\n",
    "+------------------->\n",
    "0  1  2  3  4  5  6\n",
    "\n",
    "Input: [[1,1],[3,2],[5,3],[4,1],[2,3],[1,4]]\n",
    "Output: 4\n",
    "'''"
   ]
  },
  {
   "cell_type": "code",
   "execution_count": 2,
   "metadata": {},
   "outputs": [],
   "source": [
    "def get_simplest_fraction(a, b):\n",
    "    # a = 0 => 0 gradient\n",
    "    if a == 0:\n",
    "        return \"0\"\n",
    "    \n",
    "    # b = 0 => inf gradient\n",
    "    if b == 0:\n",
    "        return \"inf\"\n",
    "    \n",
    "    neg = False\n",
    "\n",
    "    if a < 0:\n",
    "        neg = True\n",
    "        a *= -1\n",
    "    if b < 0:\n",
    "        neg = True\n",
    "        b *= -1\n",
    "        \n",
    "    max_divisor = min(a,b)\n",
    "    for i in range(1, max_divisor+1):\n",
    "        if (a % i) == 0 and (a / i) != 0 and (b % i) == 0 and (b / i) != 0:\n",
    "            a /= i\n",
    "            b /= i\n",
    "    \n",
    "    # 1/1 => 1\n",
    "    if a / b == 1:\n",
    "        return \"1\"\n",
    "    \n",
    "    # Standardize a to be the negative case\n",
    "        if neg:\n",
    "            a *= -1\n",
    "    \n",
    "    return f\"{int(a)}/{int(b)}\"\n",
    "            "
   ]
  },
  {
   "cell_type": "markdown",
   "metadata": {},
   "source": [
    "## 149.1 Iterate through every possible line O(n^2) Time, O(1) Time"
   ]
  },
  {
   "cell_type": "code",
   "execution_count": 4,
   "metadata": {},
   "outputs": [],
   "source": [
    "def max_points(points):\n",
    "    max_points = 0\n",
    "    for i in range(len(points)):\n",
    "        gradient_dict = {}\n",
    "        for j in range(len(points)):\n",
    "            if j == i:\n",
    "                continue\n",
    "            point_i = points[i]\n",
    "            point_j = points[j]\n",
    "            delta_y = (point_i[1] - point_j[1])\n",
    "            delta_x = (point_i[0] - point_j[0])\n",
    "  \n",
    "#             base_gradient = get_simplest_fraction(delta_y, delta_x)\n",
    "            if delta_x == 0:\n",
    "                base_gradient = 'inf'\n",
    "            elif delta_y == 0:\n",
    "                base_gradient = 0\n",
    "            else:\n",
    "                base_gradient = str(delta_y / delta_x * 10e16)\n",
    "            if base_gradient not in gradient_dict:\n",
    "                gradient_dict[base_gradient] = 0\n",
    "\n",
    "            gradient_dict[base_gradient] += 1\n",
    "        \n",
    "        # Find max points in each gradient so far\n",
    "        for grad in gradient_dict:\n",
    "            if gradient_dict[grad] > max_points:\n",
    "                max_points = gradient_dict[grad]\n",
    "    \n",
    "    return max_points + 1\n",
    "            \n",
    "            \n",
    "            "
   ]
  },
  {
   "cell_type": "code",
   "execution_count": 5,
   "metadata": {},
   "outputs": [
    {
     "data": {
      "text/plain": [
       "4"
      ]
     },
     "execution_count": 5,
     "metadata": {},
     "output_type": "execute_result"
    }
   ],
   "source": [
    "max_points([[1,1],[2,2],[3,3],[4,4]])"
   ]
  },
  {
   "cell_type": "code",
   "execution_count": 6,
   "metadata": {},
   "outputs": [
    {
     "data": {
      "text/plain": [
       "4"
      ]
     },
     "execution_count": 6,
     "metadata": {},
     "output_type": "execute_result"
    }
   ],
   "source": [
    "max_points([[1,1],[3,2],[5,3],[4,1],[2,3],[1,4]])"
   ]
  },
  {
   "cell_type": "code",
   "execution_count": null,
   "metadata": {},
   "outputs": [],
   "source": []
  }
 ],
 "metadata": {
  "kernelspec": {
   "display_name": "Python 3",
   "language": "python",
   "name": "python3"
  },
  "language_info": {
   "codemirror_mode": {
    "name": "ipython",
    "version": 3
   },
   "file_extension": ".py",
   "mimetype": "text/x-python",
   "name": "python",
   "nbconvert_exporter": "python",
   "pygments_lexer": "ipython3",
   "version": "3.6.7"
  }
 },
 "nbformat": 4,
 "nbformat_minor": 2
}
