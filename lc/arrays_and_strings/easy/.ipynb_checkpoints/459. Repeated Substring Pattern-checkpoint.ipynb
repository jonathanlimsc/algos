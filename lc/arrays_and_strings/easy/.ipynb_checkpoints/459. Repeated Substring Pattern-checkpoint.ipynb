{
 "cells": [
  {
   "cell_type": "markdown",
   "metadata": {},
   "source": [
    "Given a non-empty string check if it can be constructed by taking a substring of it and appending multiple copies of the substring together. You may assume the given string consists of lowercase English letters only and its length will not exceed 10000.\n",
    "\n",
    "Example 1:\n",
    "\n",
    "Input: \"abab\"\n",
    "Output: True\n",
    "Explanation: It's the substring \"ab\" twice.\n",
    "\n",
    "https://leetcode.com/problems/repeated-substring-pattern/"
   ]
  },
  {
   "cell_type": "markdown",
   "metadata": {},
   "source": [
    "## Find factors of string length, use factors as the sliding windows to verify repeated substring O(n*sqrt(n)) time, O(k) space where k is the sliding window"
   ]
  },
  {
   "cell_type": "code",
   "execution_count": 3,
   "metadata": {},
   "outputs": [],
   "source": [
    "def repeated_substring_pattern(s):\n",
    "    def getFactors(num):\n",
    "        factors = [1]\n",
    "        curr_num = 2\n",
    "        # The biggest factor we should look for is one that breaks the string into 2 halves\n",
    "        # limit = int(num / 2) if num % 2 == 0 else int(num / 2) - 1\n",
    "        limit = int(num ** 0.5)\n",
    "        for factor in range(2, limit+1):\n",
    "            if num % factor == 0:\n",
    "                factors.append(factor)\n",
    "                second_factor = int(num/factor)\n",
    "                if second_factor <= int(num/2):\n",
    "                    factors.append(second_factor)\n",
    "        return factors\n",
    "\n",
    "    # A string of len 1 has no repeated substrings\n",
    "    if len(s) == 1:\n",
    "        return False\n",
    "\n",
    "    factors = getFactors(len(s))\n",
    "\n",
    "    for window_size in factors:\n",
    "        left_idx = 0\n",
    "        right_idx = left_idx + window_size\n",
    "        template_str = s[0:window_size]\n",
    "        left_idx = window_size\n",
    "        right_idx = window_size * 2\n",
    "        found_pattern = True\n",
    "\n",
    "        # Check if sliding window string is same as template_str\n",
    "        while left_idx <= len(s)-window_size:\n",
    "            curr_window = s[left_idx:right_idx]\n",
    "\n",
    "            if curr_window != template_str:\n",
    "                found_pattern = False\n",
    "                break\n",
    "            left_idx += window_size\n",
    "            right_idx += window_size\n",
    "\n",
    "        if found_pattern:\n",
    "            return True\n",
    "\n",
    "    return False"
   ]
  },
  {
   "cell_type": "code",
   "execution_count": 4,
   "metadata": {},
   "outputs": [
    {
     "data": {
      "text/plain": [
       "True"
      ]
     },
     "execution_count": 4,
     "metadata": {},
     "output_type": "execute_result"
    }
   ],
   "source": [
    "repeated_substring_pattern(\"abababab\")"
   ]
  },
  {
   "cell_type": "code",
   "execution_count": 5,
   "metadata": {},
   "outputs": [
    {
     "data": {
      "text/plain": [
       "False"
      ]
     },
     "execution_count": 5,
     "metadata": {},
     "output_type": "execute_result"
    }
   ],
   "source": [
    "repeated_substring_pattern(\"ababababc\")"
   ]
  },
  {
   "cell_type": "code",
   "execution_count": null,
   "metadata": {},
   "outputs": [],
   "source": []
  }
 ],
 "metadata": {
  "kernelspec": {
   "display_name": "Python (py35)",
   "language": "python",
   "name": "py35"
  },
  "language_info": {
   "codemirror_mode": {
    "name": "ipython",
    "version": 3
   },
   "file_extension": ".py",
   "mimetype": "text/x-python",
   "name": "python",
   "nbconvert_exporter": "python",
   "pygments_lexer": "ipython3",
   "version": "3.5.4"
  }
 },
 "nbformat": 4,
 "nbformat_minor": 2
}
