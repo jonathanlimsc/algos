{
 "cells": [
  {
   "cell_type": "markdown",
   "metadata": {},
   "source": [
    "Compare two version numbers version1 and version2.\n",
    "If version1 > version2 return 1; if version1 < version2 return -1;otherwise return 0.\n",
    "\n",
    "You may assume that the version strings are non-empty and contain only digits and the . character.\n",
    "\n",
    "The . character does not represent a decimal point and is used to separate number sequences.\n",
    "\n",
    "For instance, 2.5 is not \"two and a half\" or \"half way to version three\", it is the fifth second-level revision of the second first-level revision.\n",
    "\n",
    "You may assume the default revision number for each level of a version number to be 0. For example, version number 3.4 has a revision number of 3 and 4 for its first and second level revision number. Its third and fourth level revision number are both 0.\n",
    "\n",
    " \n",
    "\n",
    "Example 1:\n",
    "\n",
    "Input: version1 = \"0.1\", version2 = \"1.1\"\n",
    "Output: -1\n",
    "Example 2:\n",
    "\n",
    "Input: version1 = \"1.0.1\", version2 = \"1\"\n",
    "Output: 1\n",
    "\n",
    "https://leetcode.com/problems/compare-version-numbers/"
   ]
  },
  {
   "cell_type": "markdown",
   "metadata": {},
   "source": [
    "## Compare the number converted from string between each '.'. If a string ends prematurely without dots, treat that integer to be 0. O(n) time, O(1) space"
   ]
  },
  {
   "cell_type": "code",
   "execution_count": 3,
   "metadata": {},
   "outputs": [],
   "source": [
    "def compare_version(version1, version2):\n",
    "    prev_dot_1 = 0\n",
    "    curr_1 = 0\n",
    "    prev_dot_2 = 0\n",
    "    curr_2 = 0\n",
    "\n",
    "    while curr_1 < len(version1) or curr_2 < len(version2):\n",
    "        # Iterate until dot is found or is within bounds\n",
    "        while curr_1 < len(version1) and version1[curr_1] != '.':\n",
    "            curr_1 += 1\n",
    "        # Found v1 dot\n",
    "        v1_int = int(version1[prev_dot_1:curr_1]) if prev_dot_1 < len(version1) else 0\n",
    "\n",
    "        # Update prev dot\n",
    "        curr_1 += 1\n",
    "        prev_dot_1 = curr_1\n",
    "\n",
    "        # Iterate until dot is found or is within bounds\n",
    "        while curr_2 < len(version2) and version2[curr_2] != '.':\n",
    "            curr_2 += 1\n",
    "\n",
    "        # Found v2 dot\n",
    "        v2_int = int(version2[prev_dot_2:curr_2]) if prev_dot_2 < len(version2) else 0\n",
    "\n",
    "        # Update prev dot\n",
    "        curr_2 += 1\n",
    "        prev_dot_2 = curr_2\n",
    "\n",
    "        # Compare v1_int and v2_int\n",
    "        if v1_int > v2_int:\n",
    "            return 1\n",
    "        elif v2_int > v1_int:\n",
    "            return -1\n",
    "\n",
    "    return 0"
   ]
  },
  {
   "cell_type": "code",
   "execution_count": 4,
   "metadata": {},
   "outputs": [
    {
     "data": {
      "text/plain": [
       "-1"
      ]
     },
     "execution_count": 4,
     "metadata": {},
     "output_type": "execute_result"
    }
   ],
   "source": [
    "compare_version(\"1.0.1\", \"1.2.1\")"
   ]
  },
  {
   "cell_type": "code",
   "execution_count": 5,
   "metadata": {},
   "outputs": [
    {
     "data": {
      "text/plain": [
       "1"
      ]
     },
     "execution_count": 5,
     "metadata": {},
     "output_type": "execute_result"
    }
   ],
   "source": [
    "compare_version(\"1.0.1\", \"1\")"
   ]
  },
  {
   "cell_type": "code",
   "execution_count": 6,
   "metadata": {},
   "outputs": [
    {
     "data": {
      "text/plain": [
       "1"
      ]
     },
     "execution_count": 6,
     "metadata": {},
     "output_type": "execute_result"
    }
   ],
   "source": [
    "compare_version(\"2.100.1\", \"2.1.2\")"
   ]
  },
  {
   "cell_type": "code",
   "execution_count": null,
   "metadata": {},
   "outputs": [],
   "source": []
  }
 ],
 "metadata": {
  "kernelspec": {
   "display_name": "Python (py35)",
   "language": "python",
   "name": "py35"
  },
  "language_info": {
   "codemirror_mode": {
    "name": "ipython",
    "version": 3
   },
   "file_extension": ".py",
   "mimetype": "text/x-python",
   "name": "python",
   "nbconvert_exporter": "python",
   "pygments_lexer": "ipython3",
   "version": "3.5.4"
  }
 },
 "nbformat": 4,
 "nbformat_minor": 2
}
