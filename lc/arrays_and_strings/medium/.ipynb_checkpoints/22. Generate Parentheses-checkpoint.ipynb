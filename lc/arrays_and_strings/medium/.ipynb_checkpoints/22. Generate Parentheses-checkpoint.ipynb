{
 "cells": [
  {
   "cell_type": "markdown",
   "metadata": {},
   "source": [
    "Given n pairs of parentheses, write a function to generate all combinations of well-formed parentheses.\n",
    "\n",
    "For example, given n = 3, a solution set is:\n",
    "\n",
    "[\n",
    "  \"((()))\",\n",
    "  \"(()())\",\n",
    "  \"(())()\",\n",
    "  \"()(())\",\n",
    "  \"()()()\"\n",
    "]\n",
    "\n",
    "https://leetcode.com/problems/generate-parentheses/"
   ]
  },
  {
   "cell_type": "markdown",
   "metadata": {},
   "source": [
    "### 22.1 Recursion. O(exp(n)) time, O(exp(n)) space"
   ]
  },
  {
   "cell_type": "code",
   "execution_count": 1,
   "metadata": {},
   "outputs": [],
   "source": [
    "from typing import List\n",
    "\n",
    "def generate_new_parens_by_shifting(paren: str) -> List[str]:\n",
    "    new_parens = []\n",
    "    for i in range(len(paren)):\n",
    "        new_paren = paren[:i] + \"()\" + paren[i:]\n",
    "        new_parens.append(new_paren)\n",
    "\n",
    "    return new_parens\n",
    "\n",
    "def generate_parentheses(num: int) -> List[str]:\n",
    "    if num == 0:\n",
    "        return []\n",
    "    if num == 1:\n",
    "        return [\"()\"]\n",
    "    \n",
    "    # If num >= 2\n",
    "    arr = generate_parentheses(num-1)\n",
    "\n",
    "    new_parens = []\n",
    "    for paren in arr:\n",
    "        new_parens.extend(generate_new_parens_by_shifting(paren))\n",
    "        \n",
    "    # Make unique, remove repeated new parens\n",
    "    new_parens = list(set(new_parens))\n",
    "    return new_parens"
   ]
  },
  {
   "cell_type": "code",
   "execution_count": 2,
   "metadata": {},
   "outputs": [
    {
     "data": {
      "text/plain": [
       "['(()())', '((()))', '(())()', '()(())', '()()()']"
      ]
     },
     "execution_count": 2,
     "metadata": {},
     "output_type": "execute_result"
    }
   ],
   "source": [
    "generate_parentheses(3)"
   ]
  },
  {
   "cell_type": "code",
   "execution_count": 3,
   "metadata": {},
   "outputs": [
    {
     "data": {
      "text/plain": [
       "['()(()())',\n",
       " '(()(()))',\n",
       " '(()())()',\n",
       " '(()()())',\n",
       " '(())()()',\n",
       " '()()(())',\n",
       " '(((())))',\n",
       " '()()()()',\n",
       " '()((()))',\n",
       " '()(())()',\n",
       " '((()))()',\n",
       " '(())(())',\n",
       " '((())())',\n",
       " '((()()))']"
      ]
     },
     "execution_count": 3,
     "metadata": {},
     "output_type": "execute_result"
    }
   ],
   "source": [
    "generate_parentheses(4)"
   ]
  },
  {
   "cell_type": "code",
   "execution_count": 4,
   "metadata": {},
   "outputs": [],
   "source": [
    "def generate_p(N):\n",
    "    ans = []\n",
    "    def backtrack(S = '', left = 0, right = 0):\n",
    "        if len(S) == 2 * N:\n",
    "            ans.append(S)\n",
    "            return\n",
    "        if left < N:\n",
    "            backtrack(S+'(', left+1, right)\n",
    "        if right < left:\n",
    "            backtrack(S+')', left, right+1)\n",
    "\n",
    "    backtrack()\n",
    "    return ans"
   ]
  },
  {
   "cell_type": "code",
   "execution_count": 5,
   "metadata": {},
   "outputs": [
    {
     "data": {
      "text/plain": [
       "['(())', '()()']"
      ]
     },
     "execution_count": 5,
     "metadata": {},
     "output_type": "execute_result"
    }
   ],
   "source": [
    "generate_p(2)"
   ]
  },
  {
   "cell_type": "code",
   "execution_count": 6,
   "metadata": {},
   "outputs": [
    {
     "data": {
      "text/plain": [
       "['(((())))',\n",
       " '((()()))',\n",
       " '((())())',\n",
       " '((()))()',\n",
       " '(()(()))',\n",
       " '(()()())',\n",
       " '(()())()',\n",
       " '(())(())',\n",
       " '(())()()',\n",
       " '()((()))',\n",
       " '()(()())',\n",
       " '()(())()',\n",
       " '()()(())',\n",
       " '()()()()']"
      ]
     },
     "execution_count": 6,
     "metadata": {},
     "output_type": "execute_result"
    }
   ],
   "source": [
    "generate_p(4)"
   ]
  },
  {
   "cell_type": "code",
   "execution_count": null,
   "metadata": {},
   "outputs": [],
   "source": []
  }
 ],
 "metadata": {
  "kernelspec": {
   "display_name": "Python (py35)",
   "language": "python",
   "name": "py35"
  },
  "language_info": {
   "codemirror_mode": {
    "name": "ipython",
    "version": 3
   },
   "file_extension": ".py",
   "mimetype": "text/x-python",
   "name": "python",
   "nbconvert_exporter": "python",
   "pygments_lexer": "ipython3",
   "version": "3.5.4"
  }
 },
 "nbformat": 4,
 "nbformat_minor": 2
}
