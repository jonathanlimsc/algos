{
 "cells": [
  {
   "cell_type": "markdown",
   "metadata": {},
   "source": [
    "Given two strings s1 and s2, write a function to return true if s2 contains the permutation of s1. In other words, one of the first string's permutations is the substring of the second string.\n",
    "\n",
    " \n",
    "\n",
    "Example 1:\n",
    "\n",
    "Input: s1 = \"ab\" s2 = \"eidbaooo\"\n",
    "Output: True\n",
    "Explanation: s2 contains one permutation of s1 (\"ba\").\n",
    "Example 2:\n",
    "\n",
    "Input:s1= \"ab\" s2 = \"eidboaoo\"\n",
    "Output: False\n",
    " \n",
    "\n",
    "Constraints:\n",
    "\n",
    "The input strings only contain lower case letters.\n",
    "The length of both given strings is in range [1, 10,000].\n"
   ]
  },
  {
   "cell_type": "markdown",
   "metadata": {},
   "source": [
    "## Sliding window of size k, where k is the size of len(s1). Check whether the window substring in s2 is a permutation of s1 (same number of the same characters). O(nk) time complexity, O(k) space"
   ]
  },
  {
   "cell_type": "code",
   "execution_count": 2,
   "metadata": {},
   "outputs": [],
   "source": [
    "def checkInclusion(s1, s2):\n",
    "    import collections\n",
    "\n",
    "    # Impossible for s1 to be substring of s2\n",
    "    if len(s1) > len(s2):\n",
    "        return False\n",
    "\n",
    "    # Impossible to have substring of 0 length\n",
    "    if len(s1) < 1 or len(s2) < 1:\n",
    "        return False\n",
    "\n",
    "    start_idx = 0\n",
    "    end_idx = len(s1)\n",
    "    s1_dict = collections.Counter(s1)\n",
    "\n",
    "    while end_idx < len(s2) + 1:\n",
    "        if s1_dict == collections.Counter(s2[start_idx:end_idx]):\n",
    "            return True\n",
    "\n",
    "        start_idx += 1\n",
    "        end_idx += 1\n",
    "\n",
    "    return False"
   ]
  },
  {
   "cell_type": "code",
   "execution_count": null,
   "metadata": {},
   "outputs": [],
   "source": []
  }
 ],
 "metadata": {
  "kernelspec": {
   "display_name": "Python (py35)",
   "language": "python",
   "name": "py35"
  },
  "language_info": {
   "codemirror_mode": {
    "name": "ipython",
    "version": 3
   },
   "file_extension": ".py",
   "mimetype": "text/x-python",
   "name": "python",
   "nbconvert_exporter": "python",
   "pygments_lexer": "ipython3",
   "version": "3.5.4"
  }
 },
 "nbformat": 4,
 "nbformat_minor": 2
}
