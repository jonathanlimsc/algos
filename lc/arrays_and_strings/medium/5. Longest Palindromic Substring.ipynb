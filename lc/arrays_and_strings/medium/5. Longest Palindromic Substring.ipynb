{
 "cells": [
  {
   "cell_type": "markdown",
   "metadata": {},
   "source": [
    "Given a string s, return the longest palindromic substring in s.\n",
    "\n",
    " \n",
    "\n",
    "Example 1:\n",
    "\n",
    "Input: s = \"babad\"\n",
    "Output: \"bab\"\n",
    "Note: \"aba\" is also a valid answer.\n",
    "\n",
    "Example 2:\n",
    "\n",
    "Input: s = \"cbbd\"\n",
    "Output: \"bb\"\n",
    "\n",
    "Example 3:\n",
    "\n",
    "Input: s = \"a\"\n",
    "Output: \"a\"\n",
    "\n",
    "Example 4:\n",
    "\n",
    "Input: s = \"ac\"\n",
    "Output: \"a\"\n",
    "\n",
    "https://leetcode.com/problems/longest-palindromic-substring/"
   ]
  },
  {
   "cell_type": "markdown",
   "metadata": {},
   "source": [
    "### Concepts involved:\n",
    "1. Palindrome is a string that can be read back to front and be the same. Can be even or odd letters. Odd-length palindromes will have an extra letter in the middle, hash letter counts will see all letters with even counts except one letter with a count of 1. For even-length palindromes, all letters will have even counts\n",
    "2. Substring: a continuous subset of the string. (can be length 1 all the way up to length of string)"
   ]
  },
  {
   "cell_type": "markdown",
   "metadata": {},
   "source": [
    "## Brute-force all possible substrings by window size and verify whether they are palindromes. O(n^3) time, O(1) space"
   ]
  },
  {
   "cell_type": "code",
   "execution_count": 20,
   "metadata": {},
   "outputs": [],
   "source": [
    "def longest_palindrome(string):\n",
    "    def is_palindrome(s):\n",
    "        if len(s) <= 1:\n",
    "            return True\n",
    "        \n",
    "        start_idx = 0\n",
    "        end_idx = len(s) - 1\n",
    "        # <= to handle odd-length cases where start_idx will == end_idx\n",
    "        while start_idx <= end_idx:\n",
    "            if s[start_idx] != s[end_idx]:\n",
    "                return False\n",
    "            \n",
    "            start_idx += 1\n",
    "            end_idx -= 1\n",
    "        return True\n",
    "    \n",
    "    if len(string) <= 1:\n",
    "        return string\n",
    "    \n",
    "    max_substring = \"\"\n",
    "    \n",
    "    for window_size in range(1, len(string)+1):\n",
    "        \n",
    "        start_idx = 0\n",
    "        end_idx = start_idx + window_size - 1\n",
    "        \n",
    "        while end_idx < len(string):\n",
    "            substring = string[start_idx:end_idx+1]\n",
    "            # Check palindrome and length\n",
    "            if is_palindrome(substring) and len(substring) > len(max_substring):\n",
    "                max_substring = substring\n",
    "            \n",
    "            start_idx += window_size\n",
    "            end_idx += window_size\n",
    "                \n",
    "    return max_substring"
   ]
  },
  {
   "cell_type": "code",
   "execution_count": 22,
   "metadata": {},
   "outputs": [
    {
     "data": {
      "text/plain": [
       "'a'"
      ]
     },
     "execution_count": 22,
     "metadata": {},
     "output_type": "execute_result"
    }
   ],
   "source": [
    "longest_palindrome(\"ac\")"
   ]
  },
  {
   "cell_type": "code",
   "execution_count": 23,
   "metadata": {},
   "outputs": [
    {
     "data": {
      "text/plain": [
       "'bab'"
      ]
     },
     "execution_count": 23,
     "metadata": {},
     "output_type": "execute_result"
    }
   ],
   "source": [
    "longest_palindrome(\"babad\")"
   ]
  },
  {
   "cell_type": "code",
   "execution_count": 24,
   "metadata": {},
   "outputs": [
    {
     "data": {
      "text/plain": [
       "'aaabcbaaa'"
      ]
     },
     "execution_count": 24,
     "metadata": {},
     "output_type": "execute_result"
    }
   ],
   "source": [
    "longest_palindrome(\"aaabcbaaa\")"
   ]
  },
  {
   "cell_type": "markdown",
   "metadata": {},
   "source": [
    "## Use DP to solve. O(n^2) time, O(n^2) space\n",
    "\n",
    "State variable: S[i,j]. True if substring string[i:j+1] is a palindrome, False otherwise\n",
    "\n",
    "- Base case : \n",
    "    - S[i,i] (single letters) are palindromes\n",
    "\n",
    "- If i+1 = j and string[i] == string[j], string[i:j+1] is palindromic \n",
    "- If i+2 = j and string[i] == string[j] and S[i+1, j-1] is True, string[i:j+1] is palindromic \n",
    "- If i+dist = j and string[i] == string[j] and S[i+1, j-1] is True, string[i:j+1] is palindromic\n",
    "\n",
    "Goal:\n",
    "max(j-i+1)"
   ]
  },
  {
   "cell_type": "code",
   "execution_count": 58,
   "metadata": {},
   "outputs": [],
   "source": [
    "def longest_palindrome(string):\n",
    "    max_substring = \"\"\n",
    "    \n",
    "    S = [[False]*len(string) for i in range(len(string))]\n",
    "    \n",
    "    # Initialise state for S[i,i] = True since single letters are palindromes\n",
    "    for i in range(len(string)):\n",
    "        S[i][i] = True\n",
    "    \n",
    "    # Iterate from smallest substring possible when start index is at the end of the string\n",
    "    for start in range(len(string)-1, -1, -1):\n",
    "        end = start + 1\n",
    "        \n",
    "        while end < len(string):\n",
    "            if string[start] == string[end]:\n",
    "                substring_length = end - start + 1\n",
    "                \n",
    "                # Adjacent characters\n",
    "                if end - start == 1 or S[start+1][end-1] is True:\n",
    "                    S[start][end] = True\n",
    "                    if substring_length > len(max_substring):\n",
    "                        max_substring = string[start:end+1]\n",
    "                    \n",
    "            end += 1\n",
    "    \n",
    "    return max_substring"
   ]
  },
  {
   "cell_type": "code",
   "execution_count": 60,
   "metadata": {},
   "outputs": [
    {
     "data": {
      "text/plain": [
       "'aa'"
      ]
     },
     "execution_count": 60,
     "metadata": {},
     "output_type": "execute_result"
    }
   ],
   "source": [
    "longest_palindrome(\"aa\")"
   ]
  },
  {
   "cell_type": "code",
   "execution_count": 61,
   "metadata": {},
   "outputs": [
    {
     "data": {
      "text/plain": [
       "'abba'"
      ]
     },
     "execution_count": 61,
     "metadata": {},
     "output_type": "execute_result"
    }
   ],
   "source": [
    "longest_palindrome(\"abba\")"
   ]
  },
  {
   "cell_type": "code",
   "execution_count": 62,
   "metadata": {},
   "outputs": [
    {
     "data": {
      "text/plain": [
       "''"
      ]
     },
     "execution_count": 62,
     "metadata": {},
     "output_type": "execute_result"
    }
   ],
   "source": [
    "longest_palindrome(\"abca\")"
   ]
  },
  {
   "cell_type": "code",
   "execution_count": 63,
   "metadata": {},
   "outputs": [
    {
     "data": {
      "text/plain": [
       "'baaaab'"
      ]
     },
     "execution_count": 63,
     "metadata": {},
     "output_type": "execute_result"
    }
   ],
   "source": [
    "longest_palindrome(\"abaaaabd\")"
   ]
  },
  {
   "cell_type": "code",
   "execution_count": null,
   "metadata": {},
   "outputs": [],
   "source": []
  }
 ],
 "metadata": {
  "kernelspec": {
   "display_name": "Python (py35)",
   "language": "python",
   "name": "py35"
  },
  "language_info": {
   "codemirror_mode": {
    "name": "ipython",
    "version": 3
   },
   "file_extension": ".py",
   "mimetype": "text/x-python",
   "name": "python",
   "nbconvert_exporter": "python",
   "pygments_lexer": "ipython3",
   "version": "3.5.4"
  }
 },
 "nbformat": 4,
 "nbformat_minor": 2
}
