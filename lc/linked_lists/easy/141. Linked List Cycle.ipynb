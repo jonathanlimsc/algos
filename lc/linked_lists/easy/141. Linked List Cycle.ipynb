{
 "cells": [
  {
   "cell_type": "markdown",
   "metadata": {},
   "source": [
    "Given a linked list, determine if it has a cycle in it.\n",
    "\n",
    "To represent a cycle in the given linked list, we use an integer pos which represents the position (0-indexed) in the linked list where tail connects to. If pos is -1, then there is no cycle in the linked list.\n",
    "\n",
    " \n",
    "\n",
    "Example 1:\n",
    "\n",
    "Input: head = [3,2,0,-4], pos = 1\n",
    "Output: true\n",
    "Explanation: There is a cycle in the linked list, where tail connects to the second node.\n",
    "\n",
    "https://leetcode.com/problems/linked-list-cycle/"
   ]
  },
  {
   "cell_type": "markdown",
   "metadata": {},
   "source": [
    "## Two pointers, second pointer twice as fast as the first one. If there is a cycle they will eventually catch up. O(n)"
   ]
  },
  {
   "cell_type": "code",
   "execution_count": 3,
   "metadata": {},
   "outputs": [],
   "source": [
    "class ListNode:\n",
    "    def __init__(self, x):\n",
    "        self.val = x\n",
    "        self.next = None\n",
    "\n",
    "def hasCycle(head: ListNode) -> bool:\n",
    "    # Single node\n",
    "    if head is None or head.next is None:\n",
    "        return False\n",
    "\n",
    "    first_ptr = head\n",
    "    second_ptr = head.next\n",
    "\n",
    "    while second_ptr is not None:\n",
    "        second_ptr = second_ptr.next\n",
    "        # Reached the end of linked-list - no cycle\n",
    "        if second_ptr is None:\n",
    "            break\n",
    "        second_ptr = second_ptr.next\n",
    "        first_ptr = first_ptr.next\n",
    "        if first_ptr == second_ptr:\n",
    "            return True\n",
    "\n",
    "    return False"
   ]
  },
  {
   "cell_type": "code",
   "execution_count": 4,
   "metadata": {},
   "outputs": [],
   "source": [
    "n_3 = ListNode(3)\n",
    "n_2 = ListNode(2)\n",
    "n_0 = ListNode(0)\n",
    "n_4 = ListNode(-4)\n",
    "n_3.next = n_2\n",
    "n_2.next = n_0\n",
    "n_0.next = n_4"
   ]
  },
  {
   "cell_type": "code",
   "execution_count": 5,
   "metadata": {},
   "outputs": [
    {
     "data": {
      "text/plain": [
       "False"
      ]
     },
     "execution_count": 5,
     "metadata": {},
     "output_type": "execute_result"
    }
   ],
   "source": [
    "hasCycle(n_3)"
   ]
  },
  {
   "cell_type": "code",
   "execution_count": 6,
   "metadata": {},
   "outputs": [],
   "source": [
    "n_3 = ListNode(3)\n",
    "n_2 = ListNode(2)\n",
    "n_0 = ListNode(0)\n",
    "n_4 = ListNode(-4)\n",
    "n_3.next = n_2\n",
    "n_2.next = n_0\n",
    "n_0.next = n_4\n",
    "n_4.next = n_2"
   ]
  },
  {
   "cell_type": "code",
   "execution_count": 7,
   "metadata": {},
   "outputs": [
    {
     "data": {
      "text/plain": [
       "True"
      ]
     },
     "execution_count": 7,
     "metadata": {},
     "output_type": "execute_result"
    }
   ],
   "source": [
    "hasCycle(n_3)"
   ]
  },
  {
   "cell_type": "code",
   "execution_count": null,
   "metadata": {},
   "outputs": [],
   "source": []
  }
 ],
 "metadata": {
  "kernelspec": {
   "display_name": "Python (py35)",
   "language": "python",
   "name": "py35"
  },
  "language_info": {
   "codemirror_mode": {
    "name": "ipython",
    "version": 3
   },
   "file_extension": ".py",
   "mimetype": "text/x-python",
   "name": "python",
   "nbconvert_exporter": "python",
   "pygments_lexer": "ipython3",
   "version": "3.5.4"
  }
 },
 "nbformat": 4,
 "nbformat_minor": 2
}
