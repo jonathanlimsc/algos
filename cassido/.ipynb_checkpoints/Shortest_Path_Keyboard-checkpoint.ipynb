{
 "cells": [
  {
   "cell_type": "markdown",
   "metadata": {},
   "source": [
    "Given a QWERTY keyboard grid and a remote control with arrows and a “select” button, write a function that returns the \n",
    "buttons you have to press to type a certain word. The cursor will always start in the upper left at the letter Q.\n",
    "\n",
    "Example:\n",
    "```\n",
    "$ remoteControl('car')\n",
    "$ 'down, down, right, right, select, left, left, up, select, up, right, right, r\n",
    "```"
   ]
  },
  {
   "cell_type": "code",
   "execution_count": 8,
   "metadata": {},
   "outputs": [
    {
     "name": "stdout",
     "output_type": "stream",
     "text": [
      "letter q: [0, 0]\n",
      "letter w: [0, 1]\n",
      "letter e: [0, 2]\n",
      "letter r: [0, 3]\n",
      "letter t: [0, 4]\n",
      "letter y: [0, 5]\n",
      "letter u: [0, 6]\n",
      "letter i: [0, 7]\n",
      "letter o: [0, 8]\n",
      "letter p: [0, 9]\n",
      "letter a: [1, 0]\n",
      "letter s: [1, 1]\n",
      "letter d: [1, 2]\n",
      "letter f: [1, 3]\n",
      "letter g: [1, 4]\n",
      "letter h: [1, 5]\n",
      "letter j: [1, 6]\n",
      "letter k: [1, 7]\n",
      "letter l: [1, 8]\n",
      "letter z: [2, 0]\n",
      "letter x: [2, 1]\n",
      "letter c: [2, 2]\n",
      "letter v: [2, 3]\n",
      "letter b: [2, 4]\n",
      "letter n: [2, 5]\n",
      "letter m: [2, 6]\n"
     ]
    },
    {
     "data": {
      "text/plain": [
       "{'q': (0, 0),\n",
       " 'w': (0, 1),\n",
       " 'e': (0, 2),\n",
       " 'r': (0, 3),\n",
       " 't': (0, 4),\n",
       " 'y': (0, 5),\n",
       " 'u': (0, 6),\n",
       " 'i': (0, 7),\n",
       " 'o': (0, 8),\n",
       " 'p': (0, 9),\n",
       " 'a': (1, 0),\n",
       " 's': (1, 1),\n",
       " 'd': (1, 2),\n",
       " 'f': (1, 3),\n",
       " 'g': (1, 4),\n",
       " 'h': (1, 5),\n",
       " 'j': (1, 6),\n",
       " 'k': (1, 7),\n",
       " 'l': (1, 8),\n",
       " 'z': (2, 0),\n",
       " 'x': (2, 1),\n",
       " 'c': (2, 2),\n",
       " 'v': (2, 3),\n",
       " 'b': (2, 4),\n",
       " 'n': (2, 5),\n",
       " 'm': (2, 6)}"
      ]
     },
     "execution_count": 8,
     "metadata": {},
     "output_type": "execute_result"
    }
   ],
   "source": [
    "KEYBOARD_COORDS_DICT = {}\n",
    "key_rows = [\"qwertyuiop\",\n",
    " \"asdfghjkl\",\n",
    " \"zxcvbnm\"\n",
    "]\n",
    "for row_idx, row in enumerate(key_rows):\n",
    "    letters = [char for char in row]\n",
    "    for col_idx, letter in enumerate(letters):\n",
    "        print(f\"letter {letter}: [{row_idx}, {col_idx}]\")\n",
    "        KEYBOARD_COORDS_DICT[letter] = (row_idx, col_idx)\n",
    "KEYBOARD_COORDS_DICT"
   ]
  },
  {
   "cell_type": "code",
   "execution_count": 23,
   "metadata": {},
   "outputs": [],
   "source": [
    "def remoteControl(word):\n",
    "    word = word.lower()\n",
    "    actions = []\n",
    "    prev_char = 'q'\n",
    "    for idx, char in enumerate(word):\n",
    "        if char not in KEYBOARD_COORDS_DICT:\n",
    "            raise ValueError(f\"{char} not in known keyboard letters {KEYBOARD_COORDS_DICT.keys()}\")\n",
    "        curr_actions = []\n",
    "        if char != prev_char:\n",
    "            char_row, char_col = KEYBOARD_COORDS_DICT[char]\n",
    "            prev_char_row, prev_char_col = KEYBOARD_COORDS_DICT[prev_char]\n",
    "            row_steps = char_row - prev_char_row\n",
    "            col_steps = char_col - prev_char_col\n",
    "            # Move down\n",
    "            if row_steps > 0:\n",
    "                curr_actions.extend(['down' for i in range(abs(row_steps))])\n",
    "            # Move up\n",
    "            elif row_steps < 0:\n",
    "                curr_actions.extend(['up' for i in range(abs(row_steps))])\n",
    "            # Move right\n",
    "            if col_steps > 0:\n",
    "                curr_actions.extend(['right' for i in range(abs(col_steps))])\n",
    "            elif col_steps < 0:\n",
    "                curr_actions.extend(['left' for i in range(abs(col_steps))])\n",
    "        \n",
    "        curr_actions.append(\"select\")\n",
    "        prev_char = char\n",
    "        print(f\"char {char}: {curr_actions}\")\n",
    "        actions.extend(curr_actions)\n",
    "    actions.append('r')\n",
    "    return actions"
   ]
  },
  {
   "cell_type": "code",
   "execution_count": 19,
   "metadata": {},
   "outputs": [
    {
     "name": "stdout",
     "output_type": "stream",
     "text": [
      "char c: ['down', 'down', 'right', 'right', 'select']\n",
      "char a: ['up', 'left', 'left', 'select']\n",
      "char r: ['up', 'right', 'right', 'right', 'select']\n"
     ]
    },
    {
     "data": {
      "text/plain": [
       "['down',\n",
       " 'down',\n",
       " 'right',\n",
       " 'right',\n",
       " 'select',\n",
       " 'up',\n",
       " 'left',\n",
       " 'left',\n",
       " 'select',\n",
       " 'up',\n",
       " 'right',\n",
       " 'right',\n",
       " 'right',\n",
       " 'select',\n",
       " 'r']"
      ]
     },
     "execution_count": 19,
     "metadata": {},
     "output_type": "execute_result"
    }
   ],
   "source": [
    "remoteControl(\"car\")"
   ]
  },
  {
   "cell_type": "code",
   "execution_count": 20,
   "metadata": {},
   "outputs": [
    {
     "name": "stdout",
     "output_type": "stream",
     "text": [
      "char q: ['select']\n",
      "char q: ['select']\n",
      "char q: ['select']\n"
     ]
    },
    {
     "data": {
      "text/plain": [
       "['select', 'select', 'select', 'r']"
      ]
     },
     "execution_count": 20,
     "metadata": {},
     "output_type": "execute_result"
    }
   ],
   "source": [
    "remoteControl(\"qqq\")"
   ]
  },
  {
   "cell_type": "code",
   "execution_count": 25,
   "metadata": {},
   "outputs": [
    {
     "name": "stdout",
     "output_type": "stream",
     "text": [
      "char h: ['down', 'right', 'right', 'right', 'right', 'right', 'select']\n",
      "char e: ['up', 'left', 'left', 'left', 'select']\n",
      "char l: ['down', 'right', 'right', 'right', 'right', 'right', 'right', 'select']\n",
      "char l: ['select']\n",
      "char o: ['up', 'select']\n"
     ]
    },
    {
     "data": {
      "text/plain": [
       "['down',\n",
       " 'right',\n",
       " 'right',\n",
       " 'right',\n",
       " 'right',\n",
       " 'right',\n",
       " 'select',\n",
       " 'up',\n",
       " 'left',\n",
       " 'left',\n",
       " 'left',\n",
       " 'select',\n",
       " 'down',\n",
       " 'right',\n",
       " 'right',\n",
       " 'right',\n",
       " 'right',\n",
       " 'right',\n",
       " 'right',\n",
       " 'select',\n",
       " 'select',\n",
       " 'up',\n",
       " 'select',\n",
       " 'r']"
      ]
     },
     "execution_count": 25,
     "metadata": {},
     "output_type": "execute_result"
    }
   ],
   "source": [
    "remoteControl(\"hello\")"
   ]
  },
  {
   "cell_type": "code",
   "execution_count": null,
   "metadata": {},
   "outputs": [],
   "source": [
    "# TODO: Dijkstra version"
   ]
  }
 ],
 "metadata": {
  "kernelspec": {
   "display_name": "Python 3",
   "language": "python",
   "name": "python3"
  },
  "language_info": {
   "codemirror_mode": {
    "name": "ipython",
    "version": 3
   },
   "file_extension": ".py",
   "mimetype": "text/x-python",
   "name": "python",
   "nbconvert_exporter": "python",
   "pygments_lexer": "ipython3",
   "version": "3.8.5"
  }
 },
 "nbformat": 4,
 "nbformat_minor": 4
}
