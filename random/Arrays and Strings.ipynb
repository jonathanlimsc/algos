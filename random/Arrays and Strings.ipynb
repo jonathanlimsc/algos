{
 "cells": [
  {
   "cell_type": "markdown",
   "metadata": {},
   "source": [
    "## Flip String: given a string, return the same string spelt backwards. Eg: asdf -> fdsa"
   ]
  },
  {
   "cell_type": "code",
   "execution_count": 33,
   "metadata": {},
   "outputs": [],
   "source": [
    "def flip_string(str):\n",
    "    # Equivalent to str[len(str)::-1]\n",
    "    str = str[::-1]\n",
    "    return str"
   ]
  },
  {
   "cell_type": "code",
   "execution_count": 34,
   "metadata": {},
   "outputs": [
    {
     "data": {
      "text/plain": [
       "'fdsa'"
      ]
     },
     "execution_count": 34,
     "metadata": {},
     "output_type": "execute_result"
    }
   ],
   "source": [
    "flip_string('asdf')"
   ]
  },
  {
   "cell_type": "code",
   "execution_count": 1,
   "metadata": {},
   "outputs": [
    {
     "data": {
      "text/plain": [
       "0"
      ]
     },
     "execution_count": 1,
     "metadata": {},
     "output_type": "execute_result"
    }
   ],
   "source": [
    "1 >> 1"
   ]
  },
  {
   "cell_type": "code",
   "execution_count": 2,
   "metadata": {},
   "outputs": [],
   "source": [
    "x = 10"
   ]
  },
  {
   "cell_type": "code",
   "execution_count": 3,
   "metadata": {},
   "outputs": [],
   "source": [
    "x = x & (x-1)"
   ]
  },
  {
   "cell_type": "code",
   "execution_count": null,
   "metadata": {},
   "outputs": [],
   "source": [
    "x"
   ]
  },
  {
   "cell_type": "code",
   "execution_count": 13,
   "metadata": {},
   "outputs": [],
   "source": [
    "def permute(a, l, r, output): \n",
    "    if l==r: \n",
    "        print(a)\n",
    "        output.append(a.copy())\n",
    "    else: \n",
    "        for i in range(l,r+1): \n",
    "            a[l], a[i] = a[i], a[l] \n",
    "            permute(a, l+1, r, output) \n",
    "            a[l], a[i] = a[i], a[l]\n",
    "        \n",
    "        return output"
   ]
  },
  {
   "cell_type": "code",
   "execution_count": 14,
   "metadata": {},
   "outputs": [
    {
     "name": "stdout",
     "output_type": "stream",
     "text": [
      "[1, 2, 3]\n",
      "[1, 3, 2]\n",
      "[2, 1, 3]\n",
      "[2, 3, 1]\n",
      "[3, 2, 1]\n",
      "[3, 1, 2]\n"
     ]
    },
    {
     "data": {
      "text/plain": [
       "[[1, 2, 3], [1, 3, 2], [2, 1, 3], [2, 3, 1], [3, 2, 1], [3, 1, 2]]"
      ]
     },
     "execution_count": 14,
     "metadata": {},
     "output_type": "execute_result"
    }
   ],
   "source": [
    "permute([1,2,3], 0, 2, [])"
   ]
  },
  {
   "cell_type": "code",
   "execution_count": 35,
   "metadata": {},
   "outputs": [],
   "source": [
    "def permute(a):\n",
    "    if len(a) <= 1:\n",
    "        return [a]\n",
    "    else:\n",
    "        # Take first character\n",
    "        char = a[0]\n",
    "        permutations = permute(a[1:])\n",
    "        output = []\n",
    "        for permutation in permutations:\n",
    "            # Insert char at every indice\n",
    "            for i in range(len(permutation) + 1):\n",
    "                output.append(permutation[:i] + [char] + permutation[i:])\n",
    "    \n",
    "    return output\n",
    "        "
   ]
  },
  {
   "cell_type": "code",
   "execution_count": 41,
   "metadata": {},
   "outputs": [
    {
     "data": {
      "text/plain": [
       "[[1, 2, 3], [2, 1, 3], [2, 3, 1], [1, 3, 2], [3, 1, 2], [3, 2, 1]]"
      ]
     },
     "execution_count": 41,
     "metadata": {},
     "output_type": "execute_result"
    }
   ],
   "source": [
    "permute([1,2,3])"
   ]
  },
  {
   "cell_type": "markdown",
   "metadata": {},
   "source": [
    "## Palindrome Creator with discarding\n",
    "\n",
    "Given a string, check if at most 2 characters can be discarded to create a palindrome that is at least length 3. \n",
    "\n",
    "If not possible, return \"not possible\"\n",
    "Else, return the discarded characters"
   ]
  },
  {
   "cell_type": "code",
   "execution_count": 35,
   "metadata": {},
   "outputs": [],
   "source": [
    "def palindrome_creator(string):\n",
    "    left_ptr = 0\n",
    "    right_ptr = len(string) - 1\n",
    "    discarded = []\n",
    "    \n",
    "    while left_ptr < right_ptr:\n",
    "        if len(discarded) > 2:\n",
    "            return \"not possible\"\n",
    "        \n",
    "        left_char = string[left_ptr]\n",
    "        right_char = string[right_ptr]\n",
    "        \n",
    "        # Part of palindrome\n",
    "        if left_char == right_char:\n",
    "            left_ptr += 1\n",
    "            right_ptr -= 1\n",
    "            \n",
    "        else:                \n",
    "            if string[left_ptr + 1] == string[right_ptr]:\n",
    "                # Discard left_ptr char\n",
    "                discarded.append(string[left_ptr])\n",
    "                left_ptr += 1\n",
    "                \n",
    "            elif string[left_ptr] == string[right_ptr - 1]:\n",
    "                # Discard right_ptr char\n",
    "                discarded.append(string[right_ptr])\n",
    "                right_ptr -= 1\n",
    "            elif string[left_ptr + 1] == string[right_ptr-1]:\n",
    "                # Discard both chars\n",
    "                discarded.append(string[left_ptr])\n",
    "                discarded.append(string[right_ptr])\n",
    "                left_ptr += 1\n",
    "                right_ptr -= 1\n",
    "            elif string[left_ptr + 2] == string[right_ptr]:\n",
    "                # Discard 2 left chars\n",
    "                discarded.append(string[left_ptr])\n",
    "                discarded.append(string[left_ptr + 1])\n",
    "                left_ptr += 2\n",
    "            elif string[left_ptr] == string[right_ptr - 2]:\n",
    "                # Discard 2 right chars\n",
    "                discarded.append(string[right_ptr])\n",
    "                discarded.append(string[right_ptr-1])\n",
    "                right_ptr -= 2\n",
    "                \n",
    "    # Palindrome is < 3\n",
    "    if len(string) - len(discarded) <= 2:\n",
    "        return \"Not possible\"\n",
    "    else:\n",
    "        if len(discarded) == 0:\n",
    "            return \"Possible without discarding\"\n",
    "        else:\n",
    "            return ''.join(discarded)\n",
    "    \n",
    "            \n",
    "            "
   ]
  },
  {
   "cell_type": "code",
   "execution_count": 36,
   "metadata": {},
   "outputs": [
    {
     "data": {
      "text/plain": [
       "'kc'"
      ]
     },
     "execution_count": 36,
     "metadata": {},
     "output_type": "execute_result"
    }
   ],
   "source": [
    "palindrome_creator(\"kaabbaca\")"
   ]
  },
  {
   "cell_type": "code",
   "execution_count": 37,
   "metadata": {},
   "outputs": [
    {
     "data": {
      "text/plain": [
       "'k'"
      ]
     },
     "execution_count": 37,
     "metadata": {},
     "output_type": "execute_result"
    }
   ],
   "source": [
    "palindrome_creator(\"kaabbaa\")"
   ]
  },
  {
   "cell_type": "code",
   "execution_count": 38,
   "metadata": {},
   "outputs": [
    {
     "data": {
      "text/plain": [
       "'Not possible'"
      ]
     },
     "execution_count": 38,
     "metadata": {},
     "output_type": "execute_result"
    }
   ],
   "source": [
    "palindrome_creator(\"mmop\")"
   ]
  },
  {
   "cell_type": "code",
   "execution_count": 39,
   "metadata": {},
   "outputs": [
    {
     "data": {
      "text/plain": [
       "'po'"
      ]
     },
     "execution_count": 39,
     "metadata": {},
     "output_type": "execute_result"
    }
   ],
   "source": [
    "palindrome_creator(\"mnmop\")"
   ]
  },
  {
   "cell_type": "code",
   "execution_count": 40,
   "metadata": {},
   "outputs": [
    {
     "data": {
      "text/plain": [
       "'Possible without discarding'"
      ]
     },
     "execution_count": 40,
     "metadata": {},
     "output_type": "execute_result"
    }
   ],
   "source": [
    "palindrome_creator(\"mnm\")"
   ]
  },
  {
   "cell_type": "code",
   "execution_count": 41,
   "metadata": {},
   "outputs": [
    {
     "data": {
      "text/plain": [
       "'km'"
      ]
     },
     "execution_count": 41,
     "metadata": {},
     "output_type": "execute_result"
    }
   ],
   "source": [
    "palindrome_creator(\"kmmmcmm\")"
   ]
  },
  {
   "cell_type": "code",
   "execution_count": 42,
   "metadata": {},
   "outputs": [
    {
     "data": {
      "text/plain": [
       "'Not possible'"
      ]
     },
     "execution_count": 42,
     "metadata": {},
     "output_type": "execute_result"
    }
   ],
   "source": [
    "palindrome_creator(\"m\")"
   ]
  },
  {
   "cell_type": "code",
   "execution_count": 43,
   "metadata": {},
   "outputs": [
    {
     "data": {
      "text/plain": [
       "'Possible without discarding'"
      ]
     },
     "execution_count": 43,
     "metadata": {},
     "output_type": "execute_result"
    }
   ],
   "source": [
    "palindrome_creator(\"kmk\")"
   ]
  }
 ],
 "metadata": {
  "kernelspec": {
   "display_name": "Python 3",
   "language": "python",
   "name": "python3"
  },
  "language_info": {
   "codemirror_mode": {
    "name": "ipython",
    "version": 3
   },
   "file_extension": ".py",
   "mimetype": "text/x-python",
   "name": "python",
   "nbconvert_exporter": "python",
   "pygments_lexer": "ipython3",
   "version": "3.6.7"
  }
 },
 "nbformat": 4,
 "nbformat_minor": 4
}
