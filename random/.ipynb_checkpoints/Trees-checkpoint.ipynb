{
 "cells": [
  {
   "cell_type": "code",
   "execution_count": 1,
   "metadata": {},
   "outputs": [
    {
     "data": {
      "text/plain": [
       "'\\nSecond problem: 50 marks\\n--------------------------------------------------------------------------------------------------------------------\\nGiven a binary tree containing digits from 0-9 only, each root-to-leaf path could represent a number.\\n\\nAn example is the root-to-leaf path 1->2->3 which represents the number 123.\\n\\nFind the total sum of all root-to-leaf numbers.\\n\\nNote: A leaf is a node with no children.\\n\\nExample:\\n\\nInput: [1,2,3]\\n    1\\n   /    2   3\\n\\nOutput: 25\\nExplanation:\\nThe root-to-leaf path 1->2 represents the number 12.\\nThe root-to-leaf path 1->3 represents the number 13.\\nTherefore, sum = 12 + 13 = 25.\\n\\n\\nExample 2:\\n\\nInput: [4,9,0,5,1]\\n    4\\n   /    9   0\\n /  5   1\\n\\nOutput: 1026\\nExplanation:\\nThe root-to-leaf path 4->9->5 represents the number 495.\\nThe root-to-leaf path 4->9->1 represents the number 491.\\nThe root-to-leaf path 4->0 represents the number 40.\\nTherefore, sum = 495 + 491 + 40 = 1026.\\n'"
      ]
     },
     "execution_count": 1,
     "metadata": {},
     "output_type": "execute_result"
    }
   ],
   "source": [
    "\"\"\"\n",
    "Second problem: 50 marks\n",
    "--------------------------------------------------------------------------------------------------------------------\n",
    "Given a binary tree containing digits from 0-9 only, each root-to-leaf path could represent a number.\n",
    "\n",
    "An example is the root-to-leaf path 1->2->3 which represents the number 123.\n",
    "\n",
    "Find the total sum of all root-to-leaf numbers.\n",
    "\n",
    "Note: A leaf is a node with no children.\n",
    "\n",
    "Example:\n",
    "\n",
    "Input: [1,2,3]\n",
    "    1\n",
    "   /  \\\n",
    "  2   3\n",
    "\n",
    "Output: 25\n",
    "Explanation:\n",
    "The root-to-leaf path 1->2 represents the number 12.\n",
    "The root-to-leaf path 1->3 represents the number 13.\n",
    "Therefore, sum = 12 + 13 = 25.\n",
    "\n",
    "\n",
    "Example 2:\n",
    "\n",
    "Input: [4,9,0,5,1]\n",
    "    4\n",
    "   /  \\\n",
    "  9   0\n",
    " /  \\\n",
    "5   1\n",
    "\n",
    "Output: 1026\n",
    "Explanation:\n",
    "The root-to-leaf path 4->9->5 represents the number 495.\n",
    "The root-to-leaf path 4->9->1 represents the number 491.\n",
    "The root-to-leaf path 4->0 represents the number 40.\n",
    "Therefore, sum = 495 + 491 + 40 = 1026.\n",
    "\"\"\"\n"
   ]
  },
  {
   "cell_type": "code",
   "execution_count": 2,
   "metadata": {},
   "outputs": [],
   "source": [
    "class Node:\n",
    "    def __init__(self, val):\n",
    "        self.val = val \n",
    "        self.left = None\n",
    "        self.right = None"
   ]
  },
  {
   "cell_type": "code",
   "execution_count": 3,
   "metadata": {},
   "outputs": [],
   "source": [
    "Node(3).left"
   ]
  },
  {
   "cell_type": "code",
   "execution_count": 4,
   "metadata": {},
   "outputs": [],
   "source": [
    "n_4 = Node(4)\n",
    "n_9 = Node(9)\n",
    "n_1 = Node(1)\n",
    "n_5 = Node(5)\n",
    "n_0 = Node(0)"
   ]
  },
  {
   "cell_type": "code",
   "execution_count": 5,
   "metadata": {},
   "outputs": [],
   "source": [
    "n_4.left = n_9\n",
    "n_4.right = n_0\n",
    "n_9.left = n_5\n",
    "n_9.right = n_1"
   ]
  },
  {
   "cell_type": "code",
   "execution_count": 22,
   "metadata": {},
   "outputs": [],
   "source": [
    "def traverse_tree(node, curr_num=\"\", curr_sum=0):\n",
    "    curr_num += f\"{node.val}\"\n",
    "    \n",
    "    # Leaf node\n",
    "    if node.left is None and node.right is None:\n",
    "        curr_sum += int(curr_num)\n",
    "        return curr_sum\n",
    "    \n",
    "    \n",
    "    left_sum = traverse_tree(node.left, curr_num, curr_sum)\n",
    "    right_sum = traverse_tree(node.right, curr_num, left_sum)\n",
    "    \n",
    "    return right_sum"
   ]
  },
  {
   "cell_type": "code",
   "execution_count": 23,
   "metadata": {},
   "outputs": [
    {
     "data": {
      "text/plain": [
       "1026"
      ]
     },
     "execution_count": 23,
     "metadata": {},
     "output_type": "execute_result"
    }
   ],
   "source": [
    "traverse_tree(n_4)"
   ]
  },
  {
   "cell_type": "code",
   "execution_count": null,
   "metadata": {},
   "outputs": [],
   "source": []
  }
 ],
 "metadata": {
  "kernelspec": {
   "display_name": "Python [conda env:py36]",
   "language": "python",
   "name": "conda-env-py36-py"
  },
  "language_info": {
   "codemirror_mode": {
    "name": "ipython",
    "version": 3
   },
   "file_extension": ".py",
   "mimetype": "text/x-python",
   "name": "python",
   "nbconvert_exporter": "python",
   "pygments_lexer": "ipython3",
   "version": "3.6.9"
  }
 },
 "nbformat": 4,
 "nbformat_minor": 2
}
