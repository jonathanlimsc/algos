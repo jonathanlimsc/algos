{
 "cells": [
  {
   "cell_type": "code",
   "execution_count": 18,
   "metadata": {},
   "outputs": [],
   "source": [
    "#!/bin/python3\n",
    "\n",
    "import math\n",
    "import os\n",
    "import random\n",
    "import re\n",
    "import sys\n",
    "\n",
    "\n",
    "\n",
    "#\n",
    "# Complete the 'countMatches' function below.\n",
    "#\n",
    "# The function is expected to return an INTEGER.\n",
    "# The function accepts following parameters:\n",
    "#  1. STRING_ARRAY grid1\n",
    "#  2. STRING_ARRAY grid2\n",
    "#\n",
    "\n",
    "def explore(row, col, grid, connected_set):\n",
    "    if row < 0 or row >= len(grid):\n",
    "        return\n",
    "    if col < 0 or col >= len(grid[0]):\n",
    "        return\n",
    "    if grid[row][col] != 1:\n",
    "        return\n",
    "    \n",
    "    connected_set.add((row, col))\n",
    "    # Mark visited\n",
    "    grid[row][col] = -1\n",
    "    \n",
    "    # Up\n",
    "    explore(row-1, col, grid, connected_set)\n",
    "    # Down\n",
    "    explore(row+1, col, grid, connected_set)\n",
    "    # Left\n",
    "    explore(row, col-1, grid, connected_set)\n",
    "    # Right\n",
    "    explore(row, col+1, grid, connected_set)\n",
    "\n",
    "def mark(connected_set, grid):\n",
    "    for coords in connected_set:\n",
    "        grid[coords[0]][coords[1]] = -1\n",
    "        \n",
    "def countMatches(grid1, grid2):\n",
    "    # Write your code here\n",
    "    #  Iterate through grid1, for each unvisited \"1\", \n",
    "        # explore and get grid1 connected coords set\n",
    "        # explore and get grid2 connected coords set\n",
    "        # if set(grid1_coord) == set(grid2_coord), then one matching region\n",
    "        # mark both grids as traversed for the larger set of coords\n",
    "        \n",
    "    num_matches = 0\n",
    "    for row in range(len(grid1)):\n",
    "        for col in range(len(grid1[0])):\n",
    "            # Unvisited \n",
    "            if grid1[row][col] == 1:\n",
    "                connected_set1 = set()\n",
    "                connected_set2 = set()\n",
    "                explore(row, col, grid1, connected_set1)\n",
    "                explore(row, col, grid2, connected_set2)\n",
    "                # If connected sets are identical, they match\n",
    "                print(connected_set1)\n",
    "                print(connected_set2)\n",
    "                print(\"---\")\n",
    "                if connected_set1 == connected_set2:\n",
    "                    num_matches += 1\n",
    "                # Mark grid1 as visited with the union of the two sets\n",
    "                connected_set1 = connected_set1 | connected_set2\n",
    "                mark(connected_set1, grid1)\n",
    "    \n",
    "    return num_matches\n",
    "                "
   ]
  },
  {
   "cell_type": "code",
   "execution_count": 19,
   "metadata": {},
   "outputs": [],
   "source": [
    "grid1 = [[0,0,1],\n",
    "         [0,1,1],\n",
    "         [1,0,0]]\n",
    "grid2 = [[0,0,1],\n",
    "         [0,1,1],\n",
    "         [1,0,1]]"
   ]
  },
  {
   "cell_type": "code",
   "execution_count": 20,
   "metadata": {},
   "outputs": [
    {
     "name": "stdout",
     "output_type": "stream",
     "text": [
      "{(1, 2), (1, 1), (0, 2)}\n",
      "{(1, 2), (1, 1), (0, 2), (2, 2)}\n",
      "---\n",
      "{(2, 0)}\n",
      "{(2, 0)}\n",
      "---\n"
     ]
    },
    {
     "data": {
      "text/plain": [
       "1"
      ]
     },
     "execution_count": 20,
     "metadata": {},
     "output_type": "execute_result"
    }
   ],
   "source": [
    "countMatches(grid1, grid2)"
   ]
  },
  {
   "cell_type": "code",
   "execution_count": 25,
   "metadata": {},
   "outputs": [
    {
     "data": {
      "text/plain": [
       "[[0, 0, 1], [0, 1, 1], [1, 0, 0]]"
      ]
     },
     "execution_count": 25,
     "metadata": {},
     "output_type": "execute_result"
    }
   ],
   "source": [
    "def convertGrid(arr):\n",
    "    return [ [int(c) for c in row_str] for row_str in arr] \n",
    "\n",
    "convertGrid([\"001\", \"011\", \"100\"])"
   ]
  },
  {
   "cell_type": "code",
   "execution_count": 24,
   "metadata": {},
   "outputs": [
    {
     "data": {
      "text/plain": [
       "[[0, 0, 1], [0, 1, 1], [1, 0, 0]]"
      ]
     },
     "execution_count": 24,
     "metadata": {},
     "output_type": "execute_result"
    }
   ],
   "source": [
    "[ [int(c) for c in row_str] for row_str in [\"001\", \"011\", \"100\"]] "
   ]
  },
  {
   "cell_type": "code",
   "execution_count": null,
   "metadata": {},
   "outputs": [],
   "source": []
  }
 ],
 "metadata": {
  "kernelspec": {
   "display_name": "Python 3",
   "language": "python",
   "name": "python3"
  },
  "language_info": {
   "codemirror_mode": {
    "name": "ipython",
    "version": 3
   },
   "file_extension": ".py",
   "mimetype": "text/x-python",
   "name": "python",
   "nbconvert_exporter": "python",
   "pygments_lexer": "ipython3",
   "version": "3.6.7"
  }
 },
 "nbformat": 4,
 "nbformat_minor": 2
}
