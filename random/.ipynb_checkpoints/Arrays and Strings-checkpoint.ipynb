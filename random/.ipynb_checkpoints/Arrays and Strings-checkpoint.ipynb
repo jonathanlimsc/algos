{
 "cells": [
  {
   "cell_type": "markdown",
   "metadata": {},
   "source": [
    "## Flip String: given a string, return the same string spelt backwards. Eg: asdf -> fdsa"
   ]
  },
  {
   "cell_type": "code",
   "execution_count": 33,
   "metadata": {},
   "outputs": [],
   "source": [
    "def flip_string(str):\n",
    "    # Equivalent to str[len(str)::-1]\n",
    "    str = str[::-1]\n",
    "    return str"
   ]
  },
  {
   "cell_type": "code",
   "execution_count": 34,
   "metadata": {},
   "outputs": [
    {
     "data": {
      "text/plain": [
       "'fdsa'"
      ]
     },
     "execution_count": 34,
     "metadata": {},
     "output_type": "execute_result"
    }
   ],
   "source": [
    "flip_string('asdf')"
   ]
  },
  {
   "cell_type": "code",
   "execution_count": 1,
   "metadata": {},
   "outputs": [
    {
     "data": {
      "text/plain": [
       "0"
      ]
     },
     "execution_count": 1,
     "metadata": {},
     "output_type": "execute_result"
    }
   ],
   "source": [
    "1 >> 1"
   ]
  },
  {
   "cell_type": "code",
   "execution_count": 2,
   "metadata": {},
   "outputs": [],
   "source": [
    "x = 10"
   ]
  },
  {
   "cell_type": "code",
   "execution_count": 3,
   "metadata": {},
   "outputs": [],
   "source": [
    "x = x & (x-1)"
   ]
  },
  {
   "cell_type": "code",
   "execution_count": null,
   "metadata": {},
   "outputs": [],
   "source": [
    "x"
   ]
  },
  {
   "cell_type": "code",
   "execution_count": 13,
   "metadata": {},
   "outputs": [],
   "source": [
    "def permute(a, l, r, output): \n",
    "    if l==r: \n",
    "        print(a)\n",
    "        output.append(a.copy())\n",
    "    else: \n",
    "        for i in range(l,r+1): \n",
    "            a[l], a[i] = a[i], a[l] \n",
    "            permute(a, l+1, r, output) \n",
    "            a[l], a[i] = a[i], a[l]\n",
    "        \n",
    "        return output"
   ]
  },
  {
   "cell_type": "code",
   "execution_count": 14,
   "metadata": {},
   "outputs": [
    {
     "name": "stdout",
     "output_type": "stream",
     "text": [
      "[1, 2, 3]\n",
      "[1, 3, 2]\n",
      "[2, 1, 3]\n",
      "[2, 3, 1]\n",
      "[3, 2, 1]\n",
      "[3, 1, 2]\n"
     ]
    },
    {
     "data": {
      "text/plain": [
       "[[1, 2, 3], [1, 3, 2], [2, 1, 3], [2, 3, 1], [3, 2, 1], [3, 1, 2]]"
      ]
     },
     "execution_count": 14,
     "metadata": {},
     "output_type": "execute_result"
    }
   ],
   "source": [
    "permute([1,2,3], 0, 2, [])"
   ]
  },
  {
   "cell_type": "code",
   "execution_count": 35,
   "metadata": {},
   "outputs": [],
   "source": [
    "def permute(a):\n",
    "    if len(a) <= 1:\n",
    "        return [a]\n",
    "    else:\n",
    "        # Take first character\n",
    "        char = a[0]\n",
    "        permutations = permute(a[1:])\n",
    "        output = []\n",
    "        for permutation in permutations:\n",
    "            # Insert char at every indice\n",
    "            for i in range(len(permutation) + 1):\n",
    "                output.append(permutation[:i] + [char] + permutation[i:])\n",
    "    \n",
    "    return output\n",
    "        "
   ]
  },
  {
   "cell_type": "code",
   "execution_count": 41,
   "metadata": {},
   "outputs": [
    {
     "data": {
      "text/plain": [
       "[[1, 2, 3], [2, 1, 3], [2, 3, 1], [1, 3, 2], [3, 1, 2], [3, 2, 1]]"
      ]
     },
     "execution_count": 41,
     "metadata": {},
     "output_type": "execute_result"
    }
   ],
   "source": [
    "permute([1,2,3])"
   ]
  },
  {
   "cell_type": "markdown",
   "metadata": {},
   "source": [
    "## Palindrome Creator with discarding\n",
    "\n",
    "Given a string, check if at most 2 characters can be discarded to create a palindrome that is at least length 3. \n",
    "\n",
    "If not possible, return \"not possible\"\n",
    "Else, return the discarded characters"
   ]
  },
  {
   "cell_type": "code",
   "execution_count": 4,
   "metadata": {},
   "outputs": [],
   "source": [
    "def palindrome_creator(string):\n",
    "    left_ptr = 0\n",
    "    right_ptr = len(string) - 1\n",
    "    discarded = []\n",
    "    \n",
    "    while left_ptr < right_ptr:\n",
    "        if len(discarded) > 2:\n",
    "            return \"not possible\"\n",
    "        \n",
    "        left_char = string[left_ptr]\n",
    "        right_char = string[right_ptr]\n",
    "        \n",
    "        # Part of palindrome\n",
    "        if left_char == right_char:\n",
    "            left_ptr += 1\n",
    "            right_ptr -= 1\n",
    "            \n",
    "        else:                \n",
    "            if string[left_ptr + 1] == string[right_ptr]:\n",
    "                # Discard left_ptr char\n",
    "                discarded.append(string[left_ptr])\n",
    "                left_ptr += 1\n",
    "                \n",
    "            elif string[left_ptr] == string[right_ptr - 1]:\n",
    "                # Discard right_ptr char\n",
    "                discarded.append(string[right_ptr])\n",
    "                right_ptr -= 1\n",
    "            elif string[left_ptr + 1] == string[right_ptr-1]:\n",
    "                # Discard both chars\n",
    "                discarded.append(string[left_ptr])\n",
    "                discarded.append(string[right_ptr])\n",
    "                left_ptr += 1\n",
    "                right_ptr -= 1\n",
    "            elif string[left_ptr + 2] == string[right_ptr]:\n",
    "                # Discard 2 left chars\n",
    "                discarded.append(string[left_ptr])\n",
    "                discarded.append(string[left_ptr + 1])\n",
    "                left_ptr += 2\n",
    "            elif string[left_ptr] == string[right_ptr - 2]:\n",
    "                # Discard 2 right chars\n",
    "                discarded.append(string[right_ptr])\n",
    "                discarded.append(string[right_ptr-1])\n",
    "                right_ptr -= 2\n",
    "                \n",
    "    # Palindrome is < 3\n",
    "    if len(string) - len(discarded) <= 2:\n",
    "        return \"Not possible\"\n",
    "    else:\n",
    "        if len(discarded) == 0:\n",
    "            return \"Possible without discarding\"\n",
    "        else:\n",
    "            return ''.join(discarded)\n",
    "    \n",
    "            \n",
    "            "
   ]
  },
  {
   "cell_type": "code",
   "execution_count": 3,
   "metadata": {},
   "outputs": [
    {
     "data": {
      "text/plain": [
       "'kc'"
      ]
     },
     "execution_count": 3,
     "metadata": {},
     "output_type": "execute_result"
    }
   ],
   "source": [
    "palindrome_creator(\"kbabc\")"
   ]
  },
  {
   "cell_type": "code",
   "execution_count": 36,
   "metadata": {},
   "outputs": [
    {
     "data": {
      "text/plain": [
       "'kc'"
      ]
     },
     "execution_count": 36,
     "metadata": {},
     "output_type": "execute_result"
    }
   ],
   "source": [
    "palindrome_creator(\"kaabbaca\")"
   ]
  },
  {
   "cell_type": "code",
   "execution_count": 37,
   "metadata": {},
   "outputs": [
    {
     "data": {
      "text/plain": [
       "'k'"
      ]
     },
     "execution_count": 37,
     "metadata": {},
     "output_type": "execute_result"
    }
   ],
   "source": [
    "palindrome_creator(\"kaabbaa\")"
   ]
  },
  {
   "cell_type": "code",
   "execution_count": 38,
   "metadata": {},
   "outputs": [
    {
     "data": {
      "text/plain": [
       "'Not possible'"
      ]
     },
     "execution_count": 38,
     "metadata": {},
     "output_type": "execute_result"
    }
   ],
   "source": [
    "palindrome_creator(\"mmop\")"
   ]
  },
  {
   "cell_type": "code",
   "execution_count": 39,
   "metadata": {},
   "outputs": [
    {
     "data": {
      "text/plain": [
       "'po'"
      ]
     },
     "execution_count": 39,
     "metadata": {},
     "output_type": "execute_result"
    }
   ],
   "source": [
    "palindrome_creator(\"mnmop\")"
   ]
  },
  {
   "cell_type": "code",
   "execution_count": 40,
   "metadata": {},
   "outputs": [
    {
     "data": {
      "text/plain": [
       "'Possible without discarding'"
      ]
     },
     "execution_count": 40,
     "metadata": {},
     "output_type": "execute_result"
    }
   ],
   "source": [
    "palindrome_creator(\"mnm\")"
   ]
  },
  {
   "cell_type": "code",
   "execution_count": 41,
   "metadata": {},
   "outputs": [
    {
     "data": {
      "text/plain": [
       "'km'"
      ]
     },
     "execution_count": 41,
     "metadata": {},
     "output_type": "execute_result"
    }
   ],
   "source": [
    "palindrome_creator(\"kmmmcmm\")"
   ]
  },
  {
   "cell_type": "code",
   "execution_count": 42,
   "metadata": {},
   "outputs": [
    {
     "data": {
      "text/plain": [
       "'Not possible'"
      ]
     },
     "execution_count": 42,
     "metadata": {},
     "output_type": "execute_result"
    }
   ],
   "source": [
    "palindrome_creator(\"m\")"
   ]
  },
  {
   "cell_type": "code",
   "execution_count": 43,
   "metadata": {},
   "outputs": [
    {
     "data": {
      "text/plain": [
       "'Possible without discarding'"
      ]
     },
     "execution_count": 43,
     "metadata": {},
     "output_type": "execute_result"
    }
   ],
   "source": [
    "palindrome_creator(\"kmk\")"
   ]
  },
  {
   "cell_type": "markdown",
   "metadata": {},
   "source": [
    "## Number of islands"
   ]
  },
  {
   "cell_type": "markdown",
   "metadata": {},
   "source": [
    "You are given m*n matrix of integers, with each cell representing a part of an island. An island is defined by a continuous area with the same integer. \n",
    "Write a function that outputs the number of islands in the matrix.\n",
    "```\n",
    "Example: 7 islands\n",
    "[\n",
    "  [1, 2, 3, 3, 3],\n",
    "  [1, 4, 4, 3, 3],\n",
    "  [2, 3, 1, 1, 1]\n",
    "]\n",
    "```"
   ]
  },
  {
   "cell_type": "markdown",
   "metadata": {},
   "source": [
    "### Solution: Recursion (DFS), O(m*n) time and O(1) space"
   ]
  },
  {
   "cell_type": "code",
   "execution_count": 1,
   "metadata": {},
   "outputs": [],
   "source": [
    "from copy import deepcopy\n",
    "\n",
    "DONE = -1\n",
    "\n",
    "# Marks matrix as done after exploring\n",
    "def explore(cell, row, col, matrix):\n",
    "    # Out of bounds\n",
    "    if row < 0 or row >= len(matrix) or col < 0 or col >= len(matrix[0]):\n",
    "        return\n",
    "    \n",
    "    curr_cell = matrix[row][col]\n",
    "    \n",
    "    # Reached boundary of this island\n",
    "    if curr_cell != cell:\n",
    "        return\n",
    "    \n",
    "    # Still in the island\n",
    "    if curr_cell == cell:\n",
    "        # Mark as done\n",
    "        matrix[row][col] = DONE\n",
    "        \n",
    "    # Explore left\n",
    "    explore(curr_cell, row, col-1, matrix)\n",
    "    # Explore right\n",
    "    explore(curr_cell, row, col+1, matrix)\n",
    "    # Explore up\n",
    "    explore(curr_cell, row+1, col, matrix)\n",
    "    # Explore down\n",
    "    explore(curr_cell, row-1, col, matrix)\n",
    "    \n",
    "def num_islands(matrix):\n",
    "    islands_count = 0\n",
    "    for row in range(len(matrix)):\n",
    "        for col in range(len(matrix[0])):\n",
    "            cell = matrix[row][col]\n",
    "            if cell == DONE: \n",
    "                continue\n",
    "            else:\n",
    "                explore(cell, row, col, matrix)\n",
    "                islands_count += 1\n",
    "    return islands_count\n",
    "    "
   ]
  },
  {
   "cell_type": "code",
   "execution_count": 2,
   "metadata": {},
   "outputs": [
    {
     "data": {
      "text/plain": [
       "7"
      ]
     },
     "execution_count": 2,
     "metadata": {},
     "output_type": "execute_result"
    }
   ],
   "source": [
    "input = [\n",
    "  [1, 2, 3, 3, 3],\n",
    "  [1, 4, 4, 3, 3],\n",
    "  [2, 3, 1, 1, 1]\n",
    "];\n",
    "num_islands(input)"
   ]
  },
  {
   "cell_type": "markdown",
   "metadata": {},
   "source": [
    "## Largest subsequence (sum) of array\n",
    "\n",
    "The maximum subarray problem is a task to find the series of contiguous elements with the maximum sum in any given array.\n",
    "\n",
    "e.g. [-3, 1, -8, 4, -1, 2, 1, -5, 5], the largest subsequence sum is 6\n",
    "\n",
    "Intuition: maxSubsequence(arr[:n+1]) = max(maxSubsequence(arr[:n]) + arr[n], arr[n])"
   ]
  },
  {
   "cell_type": "code",
   "execution_count": 4,
   "metadata": {},
   "outputs": [],
   "source": [
    "def find_max_subsequence(arr):\n",
    "    if len(arr) == 1:\n",
    "        return max(arr[0], 0)\n",
    "    max_subsequence = find_max_subsequence(arr[:-1])\n",
    "    return max(max_subsequence + arr[-1], arr[-1])\n"
   ]
  },
  {
   "cell_type": "code",
   "execution_count": 5,
   "metadata": {},
   "outputs": [
    {
     "data": {
      "text/plain": [
       "6"
      ]
     },
     "execution_count": 5,
     "metadata": {},
     "output_type": "execute_result"
    }
   ],
   "source": [
    "find_max_subsequence([-3, 1, -8, 4, -1, 2, 1, -5, 5])"
   ]
  },
  {
   "cell_type": "code",
   "execution_count": 13,
   "metadata": {},
   "outputs": [],
   "source": [
    "def find_max_subsequence(arr):\n",
    "    curr_max_subsequence = 0\n",
    "    global_max_subsequence = 0\n",
    "    best_left = 0\n",
    "    best_right = 0\n",
    "    left_index = 0\n",
    "    right_index = 0\n",
    "    while right_index < len(arr):\n",
    "        curr_element = arr[right_index]\n",
    "        # Found new subsequence start\n",
    "        if curr_element > curr_element + curr_max_subsequence:\n",
    "            curr_max_subsequence = curr_element\n",
    "            left_index = right_index\n",
    "        else:\n",
    "            curr_max_subsequence += curr_element\n",
    "        \n",
    "        if curr_max_subsequence > global_max_subsequence:\n",
    "            global_max_subsequence = curr_max_subsequence\n",
    "            best_left = left_index\n",
    "            best_right = right_index\n",
    "            \n",
    "        right_index += 1\n",
    "        \n",
    "    return global_max_subsequence, best_left, best_right\n",
    "    "
   ]
  },
  {
   "cell_type": "code",
   "execution_count": 14,
   "metadata": {},
   "outputs": [
    {
     "data": {
      "text/plain": [
       "(6, 3, 6)"
      ]
     },
     "execution_count": 14,
     "metadata": {},
     "output_type": "execute_result"
    }
   ],
   "source": [
    "find_max_subsequence([-3, 1, -8, 4, -1, 2, 1, -5, 5, -1])"
   ]
  },
  {
   "cell_type": "markdown",
   "metadata": {},
   "source": [
    "## Min cost staircase steps\n",
    "\n",
    "On a staircase, the *i*-th step has some **non-negative** cost *cost[i]* assigned (0 indexed).\n",
    "\n",
    "Once you pay the cost, you can either climb one or two steps. You need to find the minimum cost to reach the top of the floor, and you can either start from the step with index 0, or the step with index 1.\n",
    "\n",
    "Example 1:\n",
    "\n",
    "Input: cost = [10, 15, 20]\n",
    "\n",
    "Output: 15\n",
    "\n",
    "Explanation: Cheapest is [15], then two steps to the top\n",
    "\n",
    "Example 2:\n",
    "\n",
    "Input: cost = [1, 100, 1, 1, 1, 100, 1, 1, 100, 1]\n",
    "\n",
    "Output: 6\n",
    "\n",
    "Explanation: Cheapest is for index [0, 2, 4, 6, 7, 9]\n",
    "\n",
    "Note:\n",
    "\n",
    "cost will have a length in the range [2, 1000].\n",
    "\n",
    "Every cost[i] will be an integer in the range [0, 999]."
   ]
  },
  {
   "cell_type": "code",
   "execution_count": 2,
   "metadata": {},
   "outputs": [
    {
     "data": {
      "text/plain": [
       "1"
      ]
     },
     "execution_count": 2,
     "metadata": {},
     "output_type": "execute_result"
    }
   ],
   "source": [
    "min(3,1,2)"
   ]
  },
  {
   "cell_type": "code",
   "execution_count": 10,
   "metadata": {},
   "outputs": [],
   "source": [
    "def find_min(arr):\n",
    "    if len(arr) == 0:\n",
    "        return 0\n",
    "    if len(arr) == 1:\n",
    "        return arr[0]\n",
    "    if len(arr) == 2:\n",
    "        return min(arr[0], arr[1])\n",
    "    if len(arr) == 3:\n",
    "        return min(arr[0] + arr[1], arr[1])\n",
    "    else:\n",
    "        last_idx = len(arr)-1\n",
    "        x_1_idx = last_idx - 1\n",
    "        x_2_idx = last_idx - 2\n",
    "        x_3_idx = last_idx - 3\n",
    "        x_3_min = find_min(arr[:x_2_idx])\n",
    "        return min(x_3_min + arr[x_2_idx] + arr[last_idx], x_3_min + arr[x_1_idx])\n",
    "    "
   ]
  },
  {
   "cell_type": "code",
   "execution_count": 11,
   "metadata": {},
   "outputs": [
    {
     "data": {
      "text/plain": [
       "15"
      ]
     },
     "execution_count": 11,
     "metadata": {},
     "output_type": "execute_result"
    }
   ],
   "source": [
    "find_min([10, 15, 20])"
   ]
  },
  {
   "cell_type": "code",
   "execution_count": 12,
   "metadata": {},
   "outputs": [
    {
     "data": {
      "text/plain": [
       "6"
      ]
     },
     "execution_count": 12,
     "metadata": {},
     "output_type": "execute_result"
    }
   ],
   "source": [
    "find_min([1, 100, 1, 1, 1, 100, 1, 1, 100, 1])"
   ]
  },
  {
   "cell_type": "markdown",
   "metadata": {},
   "source": [
    "# Convert recursive function into iterative"
   ]
  },
  {
   "cell_type": "markdown",
   "metadata": {},
   "source": [
    "A function f is defined by the rule that \n",
    "```\n",
    "f(n) = n if n < 3, \n",
    "       or f(n-1) + 2*f(n-2) + 3*f(n-3) if n >= 3 \n",
    "```"
   ]
  },
  {
   "cell_type": "code",
   "execution_count": 2,
   "metadata": {},
   "outputs": [],
   "source": [
    "def recursive_func(n):\n",
    "    if n < 3:\n",
    "        return n\n",
    "    return recursive_func(n-1) + 2*recursive_func(n-2) + 3*recursive_func(n-3)"
   ]
  },
  {
   "cell_type": "code",
   "execution_count": 3,
   "metadata": {},
   "outputs": [],
   "source": [
    "def iterative_func(n):\n",
    "    if n < 3:\n",
    "        return n\n",
    "    # n >= 3 start state\n",
    "    n_minus_1 = 2\n",
    "    n_minus_2 = 1\n",
    "    n_minus_3 = 0\n",
    "    result = None\n",
    "    state = 2\n",
    "    while state != n:\n",
    "        # Compute result for current state\n",
    "        result = n_minus_1 + 2*n_minus_2 + 3*n_minus_3\n",
    "        n_minus_3 = n_minus_2\n",
    "        n_minus_2 = n_minus_1\n",
    "        n_minus_1 = result\n",
    "        state += 1\n",
    "    return result"
   ]
  },
  {
   "cell_type": "code",
   "execution_count": 6,
   "metadata": {},
   "outputs": [
    {
     "data": {
      "text/plain": [
       "335"
      ]
     },
     "execution_count": 6,
     "metadata": {},
     "output_type": "execute_result"
    }
   ],
   "source": [
    "recursive_func(8)"
   ]
  },
  {
   "cell_type": "code",
   "execution_count": 4,
   "metadata": {},
   "outputs": [
    {
     "data": {
      "text/plain": [
       "True"
      ]
     },
     "execution_count": 4,
     "metadata": {},
     "output_type": "execute_result"
    }
   ],
   "source": [
    "recursive_func(3) == iterative_func(3)"
   ]
  },
  {
   "cell_type": "code",
   "execution_count": 4,
   "metadata": {},
   "outputs": [
    {
     "data": {
      "text/plain": [
       "True"
      ]
     },
     "execution_count": 4,
     "metadata": {},
     "output_type": "execute_result"
    }
   ],
   "source": [
    "iterative_func(10) == recursive_func(10)"
   ]
  },
  {
   "cell_type": "code",
   "execution_count": 5,
   "metadata": {},
   "outputs": [
    {
     "data": {
      "text/plain": [
       "True"
      ]
     },
     "execution_count": 5,
     "metadata": {},
     "output_type": "execute_result"
    }
   ],
   "source": [
    "iterative_func(20) == recursive_func(20)"
   ]
  },
  {
   "cell_type": "markdown",
   "metadata": {},
   "source": [
    "## Cassido: Longest fibonacci-like subsequence\n",
    "\n",
    "// This week’s question:\n",
    "// Given an array of increasing integers, find the length of the longest fibonacci-like subsequence of the array. If one does not exist, return 0. A sequence is “fibonacci-like” if X_i + X_{i+1} = X_{i+2}.\n",
    "\n",
    "// Example:\n",
    "\n",
    "// $ fibonacciLike([1,3,7,11,12,14,18])\n",
    "// $ 3 // these sequences: [1,11,12], [3,11,14] or [7,11,18]"
   ]
  },
  {
   "cell_type": "markdown",
   "metadata": {},
   "source": [
    "## O(n^2*log(N)) time, O(n) space. Try every possible starting pair x_i and x_i_plus_1, search down the array for x_i_plus_2"
   ]
  },
  {
   "cell_type": "code",
   "execution_count": 3,
   "metadata": {},
   "outputs": [],
   "source": [
    "def fibonacci_like(arr):\n",
    "    if len(arr) < 3:\n",
    "        return 0\n",
    "    if len(arr) == 3:\n",
    "        if arr[0] + arr[1] == arr[2]:\n",
    "            return 3\n",
    "        else: \n",
    "            return 0\n",
    "        \n",
    "    memo = set(arr)\n",
    "    longest_so_far = 0\n",
    "    # For each possible starting pair in array\n",
    "    for i in range(len(arr)-2):\n",
    "        for j in range(i+1, len(arr)-1):\n",
    "            curr_subseq_length = 2\n",
    "            x_i = arr[i] \n",
    "            x_i_plus_1 = arr[j]\n",
    "            x_i_plus_2 = x_i + x_i_plus_1\n",
    "\n",
    "            # Skip to next starting pair\n",
    "            if x_i_plus_2 not in memo:\n",
    "                continue\n",
    "            # Find out how long this sequence can be    \n",
    "            while x_i_plus_2 in memo:\n",
    "                curr_subseq_length += 1\n",
    "                x_i = x_i_plus_1\n",
    "                x_i_plus_1 = x_i_plus_2\n",
    "                x_i_plus_2 = x_i + x_i_plus_1\n",
    "\n",
    "            longest_so_far = max(longest_so_far, curr_subseq_length)\n",
    "    \n",
    "    return longest_so_far"
   ]
  },
  {
   "cell_type": "code",
   "execution_count": 4,
   "metadata": {},
   "outputs": [
    {
     "data": {
      "text/plain": [
       "3"
      ]
     },
     "execution_count": 4,
     "metadata": {},
     "output_type": "execute_result"
    }
   ],
   "source": [
    "fibonacci_like([1,3,4])"
   ]
  },
  {
   "cell_type": "code",
   "execution_count": 5,
   "metadata": {},
   "outputs": [
    {
     "data": {
      "text/plain": [
       "0"
      ]
     },
     "execution_count": 5,
     "metadata": {},
     "output_type": "execute_result"
    }
   ],
   "source": [
    "fibonacci_like([1,3,5])"
   ]
  },
  {
   "cell_type": "code",
   "execution_count": 6,
   "metadata": {},
   "outputs": [
    {
     "data": {
      "text/plain": [
       "3"
      ]
     },
     "execution_count": 6,
     "metadata": {},
     "output_type": "execute_result"
    }
   ],
   "source": [
    "fibonacci_like([1,3,4,5])"
   ]
  },
  {
   "cell_type": "code",
   "execution_count": 7,
   "metadata": {},
   "outputs": [
    {
     "data": {
      "text/plain": [
       "4"
      ]
     },
     "execution_count": 7,
     "metadata": {},
     "output_type": "execute_result"
    }
   ],
   "source": [
    "fibonacci_like([1,3,4,7])"
   ]
  },
  {
   "cell_type": "code",
   "execution_count": 8,
   "metadata": {},
   "outputs": [
    {
     "data": {
      "text/plain": [
       "3"
      ]
     },
     "execution_count": 8,
     "metadata": {},
     "output_type": "execute_result"
    }
   ],
   "source": [
    "fibonacci_like([1,3,7,11,12,14,18])"
   ]
  },
  {
   "cell_type": "code",
   "execution_count": 9,
   "metadata": {},
   "outputs": [
    {
     "data": {
      "text/plain": [
       "8"
      ]
     },
     "execution_count": 9,
     "metadata": {},
     "output_type": "execute_result"
    }
   ],
   "source": [
    "fibonacci_like([1,2,3,5,8,13,14,21,22,34,35,36])"
   ]
  },
  {
   "cell_type": "markdown",
   "metadata": {},
   "source": [
    "# Longest diverse string"
   ]
  },
  {
   "cell_type": "markdown",
   "metadata": {},
   "source": [
    "we consider alphabet with only three letters \"a\", \"b\" and \"c\". A string is called diverse if no three consecutive letters are the same. In other words, a diverse string may not contain any of the strings \"aaa\", \"bbb\", \"ccc\"\n",
    "\n",
    "Write a function given three integers A B and C, returns any longest possible diverse string container at most A letter 'a', at most B letters 'b' and at most C letters 'c'. If there is no possibility, return empty string.\n",
    "\n",
    "e.g. Given A = 6, B = 1, C = 1, your function may return \"aabaacaa\" or \"aacaabaa\".\n",
    "Given A = 1, B = 3 and C = 1, your function may return \"abbcb\", \"bcbab\", \"bacbb\"\n",
    "Given A = 0, B = 1, and C = 8, return \"ccbcc\""
   ]
  },
  {
   "cell_type": "code",
   "execution_count": 2,
   "metadata": {},
   "outputs": [],
   "source": [
    "from collections import Counter\n",
    "def longest_diverse_string(A, B, C):\n",
    "    counter = Counter({'a': A, 'b': B, 'c': C})\n",
    "    largest_remaining_char = counter.most_common()[0][0]\n",
    "    smallest_remaining_char = counter.most_common()[1][0]\n",
    "    output_str = \"\"\n",
    "    while counter[smallest_remaining_char] > 0:\n",
    "        if counter[largest_remaining_char] >= 2:\n",
    "            output_str += largest_remaining_char + largest_remaining_char\n",
    "            counter[largest_remaining_char] -= 2\n",
    "        else:\n",
    "            counter[largest_remaining_char] -= 1\n",
    "        \n",
    "        output_str += smallest_remaining_char\n",
    "        counter[smallest_remaining_char] -= 1\n",
    "        \n",
    "        largest_remaining_char = counter.most_common()[0][0]\n",
    "        smallest_remaining_char = counter.most_common()[-1][0]\n",
    "\n",
    "    return output_str"
   ]
  },
  {
   "cell_type": "code",
   "execution_count": 5,
   "metadata": {},
   "outputs": [],
   "source": [
    "counter = Counter({'a': 1, 'b': 2, 'c': 3})"
   ]
  },
  {
   "cell_type": "code",
   "execution_count": 9,
   "metadata": {},
   "outputs": [
    {
     "data": {
      "text/plain": [
       "Counter({'a': 1, 'b': 2, 'c': 3})"
      ]
     },
     "execution_count": 9,
     "metadata": {},
     "output_type": "execute_result"
    }
   ],
   "source": [
    "counter"
   ]
  },
  {
   "cell_type": "code",
   "execution_count": 12,
   "metadata": {},
   "outputs": [
    {
     "data": {
      "text/plain": [
       "('a', 1)"
      ]
     },
     "execution_count": 12,
     "metadata": {},
     "output_type": "execute_result"
    }
   ],
   "source": [
    "counter.most_common()[-1]"
   ]
  },
  {
   "cell_type": "code",
   "execution_count": 15,
   "metadata": {},
   "outputs": [],
   "source": [
    "counter['a'] -= 1"
   ]
  },
  {
   "cell_type": "code",
   "execution_count": 16,
   "metadata": {},
   "outputs": [
    {
     "data": {
      "text/plain": [
       "0"
      ]
     },
     "execution_count": 16,
     "metadata": {},
     "output_type": "execute_result"
    }
   ],
   "source": [
    "counter['a']"
   ]
  },
  {
   "cell_type": "code",
   "execution_count": null,
   "metadata": {},
   "outputs": [],
   "source": []
  }
 ],
 "metadata": {
  "kernelspec": {
   "display_name": "Python 3",
   "language": "python",
   "name": "python3"
  },
  "language_info": {
   "codemirror_mode": {
    "name": "ipython",
    "version": 3
   },
   "file_extension": ".py",
   "mimetype": "text/x-python",
   "name": "python",
   "nbconvert_exporter": "python",
   "pygments_lexer": "ipython3",
   "version": "3.6.7"
  }
 },
 "nbformat": 4,
 "nbformat_minor": 4
}
