{
 "cells": [
  {
   "cell_type": "code",
   "execution_count": 9,
   "id": "391fd0d0",
   "metadata": {},
   "outputs": [],
   "source": [
    "def sum_of_digits(num):\n",
    "    if num < 0:\n",
    "        raise ValueError(f\"Number {num} should be positive integer\")\n",
    "        \n",
    "    # Base case\n",
    "    if num == 0:\n",
    "        return num\n",
    "    return (num % 10) + sum_of_digits(int(num/10))"
   ]
  },
  {
   "cell_type": "code",
   "execution_count": 10,
   "id": "0777d672",
   "metadata": {},
   "outputs": [
    {
     "data": {
      "text/plain": [
       "6"
      ]
     },
     "execution_count": 10,
     "metadata": {},
     "output_type": "execute_result"
    }
   ],
   "source": [
    "sum_of_digits(123)"
   ]
  },
  {
   "cell_type": "code",
   "execution_count": 25,
   "id": "25c20aef",
   "metadata": {},
   "outputs": [],
   "source": [
    "def power(x, n):\n",
    "    assert int(n) == n, \"Exponent should be integer\"\n",
    "    if n == 0:\n",
    "        return 1\n",
    "    elif n < 0:\n",
    "        return 1/x * power(x, n+1)\n",
    "    elif n == 1:\n",
    "        return x\n",
    "    return x * power(x, n-1)"
   ]
  },
  {
   "cell_type": "code",
   "execution_count": 26,
   "id": "c2ebc3ec",
   "metadata": {},
   "outputs": [
    {
     "data": {
      "text/plain": [
       "16"
      ]
     },
     "execution_count": 26,
     "metadata": {},
     "output_type": "execute_result"
    }
   ],
   "source": [
    "power(2,4)"
   ]
  },
  {
   "cell_type": "code",
   "execution_count": 27,
   "id": "35fca155",
   "metadata": {},
   "outputs": [
    {
     "data": {
      "text/plain": [
       "-27"
      ]
     },
     "execution_count": 27,
     "metadata": {},
     "output_type": "execute_result"
    }
   ],
   "source": [
    "power(-3,3)"
   ]
  },
  {
   "cell_type": "code",
   "execution_count": 28,
   "id": "d9e6bc5a",
   "metadata": {},
   "outputs": [
    {
     "data": {
      "text/plain": [
       "0.0625"
      ]
     },
     "execution_count": 28,
     "metadata": {},
     "output_type": "execute_result"
    }
   ],
   "source": [
    "power(4, -2)"
   ]
  },
  {
   "cell_type": "code",
   "execution_count": 22,
   "id": "b53dc735",
   "metadata": {},
   "outputs": [
    {
     "ename": "AssertionError",
     "evalue": "Exponent should be integer",
     "output_type": "error",
     "traceback": [
      "\u001b[0;31m---------------------------------------------------------------------------\u001b[0m",
      "\u001b[0;31mAssertionError\u001b[0m                            Traceback (most recent call last)",
      "\u001b[0;32m<ipython-input-22-7c348420d4fc>\u001b[0m in \u001b[0;36m<module>\u001b[0;34m\u001b[0m\n\u001b[0;32m----> 1\u001b[0;31m \u001b[0mpower\u001b[0m\u001b[0;34m(\u001b[0m\u001b[0;34m-\u001b[0m\u001b[0;36m3\u001b[0m\u001b[0;34m,\u001b[0m\u001b[0;36m2.4\u001b[0m\u001b[0;34m)\u001b[0m\u001b[0;34m\u001b[0m\u001b[0;34m\u001b[0m\u001b[0m\n\u001b[0m",
      "\u001b[0;32m<ipython-input-19-5035a49fa0bc>\u001b[0m in \u001b[0;36mpower\u001b[0;34m(x, n)\u001b[0m\n\u001b[1;32m      1\u001b[0m \u001b[0;32mdef\u001b[0m \u001b[0mpower\u001b[0m\u001b[0;34m(\u001b[0m\u001b[0mx\u001b[0m\u001b[0;34m,\u001b[0m \u001b[0mn\u001b[0m\u001b[0;34m)\u001b[0m\u001b[0;34m:\u001b[0m\u001b[0;34m\u001b[0m\u001b[0;34m\u001b[0m\u001b[0m\n\u001b[0;32m----> 2\u001b[0;31m     \u001b[0;32massert\u001b[0m \u001b[0mint\u001b[0m\u001b[0;34m(\u001b[0m\u001b[0mn\u001b[0m\u001b[0;34m)\u001b[0m \u001b[0;34m==\u001b[0m \u001b[0mn\u001b[0m\u001b[0;34m,\u001b[0m \u001b[0;34m\"Exponent should be integer\"\u001b[0m\u001b[0;34m\u001b[0m\u001b[0;34m\u001b[0m\u001b[0m\n\u001b[0m\u001b[1;32m      3\u001b[0m     \u001b[0;32mif\u001b[0m \u001b[0mn\u001b[0m \u001b[0;34m<\u001b[0m \u001b[0;36m0\u001b[0m\u001b[0;34m:\u001b[0m\u001b[0;34m\u001b[0m\u001b[0;34m\u001b[0m\u001b[0m\n\u001b[1;32m      4\u001b[0m         \u001b[0;32mraise\u001b[0m \u001b[0mValueError\u001b[0m\u001b[0;34m(\u001b[0m\u001b[0;34mf\"n should be >= 0, but it was {n}\"\u001b[0m\u001b[0;34m)\u001b[0m\u001b[0;34m\u001b[0m\u001b[0;34m\u001b[0m\u001b[0m\n\u001b[1;32m      5\u001b[0m     \u001b[0;32mif\u001b[0m \u001b[0mn\u001b[0m \u001b[0;34m==\u001b[0m \u001b[0;36m0\u001b[0m\u001b[0;34m:\u001b[0m\u001b[0;34m\u001b[0m\u001b[0;34m\u001b[0m\u001b[0m\n",
      "\u001b[0;31mAssertionError\u001b[0m: Exponent should be integer"
     ]
    }
   ],
   "source": [
    "power(-3,2.4)"
   ]
  },
  {
   "cell_type": "code",
   "execution_count": 33,
   "id": "e5daa219",
   "metadata": {},
   "outputs": [],
   "source": [
    "def greatest_common_divisor(a, b):\n",
    "    # Euclidean algorithm: gcd(a,b) = gcd(b, a%b)\n",
    "    assert int(a) == a and int(b) == b, \"a and b must be integers\"\n",
    "    # Convert integers to positive\n",
    "    if a < 0:\n",
    "        a = -a\n",
    "    if b < 0:\n",
    "        b = -b\n",
    "        \n",
    "    # gcd(a, 0) = a\n",
    "    if b == 0:\n",
    "        return a\n",
    "    return greatest_common_divisor(b, a%b)\n",
    "    "
   ]
  },
  {
   "cell_type": "code",
   "execution_count": 34,
   "id": "5da74fd9",
   "metadata": {},
   "outputs": [
    {
     "data": {
      "text/plain": [
       "4"
      ]
     },
     "execution_count": 34,
     "metadata": {},
     "output_type": "execute_result"
    }
   ],
   "source": [
    "greatest_common_divisor(12, 8)"
   ]
  },
  {
   "cell_type": "code",
   "execution_count": 35,
   "id": "38afd1ca",
   "metadata": {},
   "outputs": [
    {
     "data": {
      "text/plain": [
       "6"
      ]
     },
     "execution_count": 35,
     "metadata": {},
     "output_type": "execute_result"
    }
   ],
   "source": [
    "greatest_common_divisor(48, 18)"
   ]
  },
  {
   "cell_type": "code",
   "execution_count": 36,
   "id": "ddb87830",
   "metadata": {},
   "outputs": [
    {
     "data": {
      "text/plain": [
       "4"
      ]
     },
     "execution_count": 36,
     "metadata": {},
     "output_type": "execute_result"
    }
   ],
   "source": [
    "greatest_common_divisor(-12,8)"
   ]
  },
  {
   "cell_type": "code",
   "execution_count": 59,
   "id": "104de252",
   "metadata": {},
   "outputs": [],
   "source": [
    "def convert_decimal_to_binary(num):\n",
    "    assert num >= 0, \"Number must be greater than or equal to 0\"\n",
    "    if num == 0:\n",
    "        return \"0\"\n",
    "    if int(num/2) == 0:\n",
    "        return f\"{num%2}\"\n",
    "    else:\n",
    "        return convert_decimal_to_binary(int(num/2)) + f\"{num%2}\""
   ]
  },
  {
   "cell_type": "code",
   "execution_count": 60,
   "id": "b732947c",
   "metadata": {},
   "outputs": [
    {
     "data": {
      "text/plain": [
       "'1010'"
      ]
     },
     "execution_count": 60,
     "metadata": {},
     "output_type": "execute_result"
    }
   ],
   "source": [
    "convert_decimal_to_binary(10)"
   ]
  },
  {
   "cell_type": "code",
   "execution_count": 61,
   "id": "334b4ba0",
   "metadata": {},
   "outputs": [
    {
     "data": {
      "text/plain": [
       "'11'"
      ]
     },
     "execution_count": 61,
     "metadata": {},
     "output_type": "execute_result"
    }
   ],
   "source": [
    "convert_decimal_to_binary(3)"
   ]
  },
  {
   "cell_type": "code",
   "execution_count": 62,
   "id": "6961af85",
   "metadata": {},
   "outputs": [
    {
     "data": {
      "text/plain": [
       "'1000'"
      ]
     },
     "execution_count": 62,
     "metadata": {},
     "output_type": "execute_result"
    }
   ],
   "source": [
    "convert_decimal_to_binary(8)"
   ]
  },
  {
   "cell_type": "code",
   "execution_count": 63,
   "id": "a133d18e",
   "metadata": {},
   "outputs": [
    {
     "data": {
      "text/plain": [
       "'0'"
      ]
     },
     "execution_count": 63,
     "metadata": {},
     "output_type": "execute_result"
    }
   ],
   "source": [
    "convert_decimal_to_binary(0)"
   ]
  },
  {
   "cell_type": "code",
   "execution_count": 72,
   "id": "ae9b8bd9",
   "metadata": {},
   "outputs": [],
   "source": [
    "def convert_decimal_to_binary_2(num):\n",
    "    assert num >= 0, \"Number must be greater than or equal to 0\"\n",
    "    assert int(num) == num, \"Number must be an integer\"\n",
    "    if num == 0:\n",
    "        return 0\n",
    "\n",
    "    return convert_decimal_to_binary_2(int(num/2))*10 + (num % 2)"
   ]
  },
  {
   "cell_type": "code",
   "execution_count": 73,
   "id": "31f60066",
   "metadata": {},
   "outputs": [
    {
     "data": {
      "text/plain": [
       "1000"
      ]
     },
     "execution_count": 73,
     "metadata": {},
     "output_type": "execute_result"
    }
   ],
   "source": [
    "convert_decimal_to_binary_2(8)"
   ]
  },
  {
   "cell_type": "code",
   "execution_count": 74,
   "id": "c805e765",
   "metadata": {},
   "outputs": [],
   "source": [
    "def product_of_array(arr):\n",
    "    if len(arr) == 0:\n",
    "        return 0\n",
    "    elif len(arr) == 1:\n",
    "        return arr[0]\n",
    "        \n",
    "    return arr[0] * product_of_array(arr[1:])"
   ]
  },
  {
   "cell_type": "code",
   "execution_count": 76,
   "id": "a883a4cd",
   "metadata": {},
   "outputs": [
    {
     "data": {
      "text/plain": [
       "24"
      ]
     },
     "execution_count": 76,
     "metadata": {},
     "output_type": "execute_result"
    }
   ],
   "source": [
    "product_of_array([1,2,3,4])"
   ]
  },
  {
   "cell_type": "code",
   "execution_count": 77,
   "id": "592f1640",
   "metadata": {},
   "outputs": [
    {
     "data": {
      "text/plain": [
       "2"
      ]
     },
     "execution_count": 77,
     "metadata": {},
     "output_type": "execute_result"
    }
   ],
   "source": [
    "product_of_array([1,2])"
   ]
  },
  {
   "cell_type": "code",
   "execution_count": 82,
   "id": "ffe61c44",
   "metadata": {},
   "outputs": [],
   "source": [
    "def recursive_range(num):\n",
    "    assert int(num) == num, \"Num must be integer\"\n",
    "    assert num >= 0, \"Num must be non-negative\"\n",
    "    if num == 0:\n",
    "        return 0\n",
    "        \n",
    "    return num + recursive_range(num-1)"
   ]
  },
  {
   "cell_type": "code",
   "execution_count": 83,
   "id": "6f8f1b8a",
   "metadata": {},
   "outputs": [
    {
     "data": {
      "text/plain": [
       "15"
      ]
     },
     "execution_count": 83,
     "metadata": {},
     "output_type": "execute_result"
    }
   ],
   "source": [
    "recursive_range(5)"
   ]
  },
  {
   "cell_type": "code",
   "execution_count": 84,
   "id": "75ada208",
   "metadata": {},
   "outputs": [],
   "source": [
    "def fib(idx):\n",
    "    if idx == 0:\n",
    "        return 0\n",
    "    elif idx == 1:\n",
    "        return 1\n",
    "    return fib(idx-1) + fib(idx-2)"
   ]
  },
  {
   "cell_type": "code",
   "execution_count": 86,
   "id": "4092c508",
   "metadata": {},
   "outputs": [
    {
     "data": {
      "text/plain": [
       "3"
      ]
     },
     "execution_count": 86,
     "metadata": {},
     "output_type": "execute_result"
    }
   ],
   "source": [
    "fib(4)"
   ]
  },
  {
   "cell_type": "code",
   "execution_count": 87,
   "id": "90a264d0",
   "metadata": {},
   "outputs": [
    {
     "data": {
      "text/plain": [
       "8"
      ]
     },
     "execution_count": 87,
     "metadata": {},
     "output_type": "execute_result"
    }
   ],
   "source": [
    "fib(6)"
   ]
  },
  {
   "cell_type": "code",
   "execution_count": null,
   "id": "a5c52f84",
   "metadata": {},
   "outputs": [],
   "source": []
  }
 ],
 "metadata": {
  "kernelspec": {
   "display_name": "Python 3",
   "language": "python",
   "name": "python3"
  },
  "language_info": {
   "codemirror_mode": {
    "name": "ipython",
    "version": 3
   },
   "file_extension": ".py",
   "mimetype": "text/x-python",
   "name": "python",
   "nbconvert_exporter": "python",
   "pygments_lexer": "ipython3",
   "version": "3.8.5"
  }
 },
 "nbformat": 4,
 "nbformat_minor": 5
}
