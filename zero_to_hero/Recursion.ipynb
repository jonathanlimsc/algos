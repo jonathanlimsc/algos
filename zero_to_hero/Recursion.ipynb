{
 "cells": [
  {
   "cell_type": "code",
   "execution_count": 9,
   "id": "722bfe01",
   "metadata": {},
   "outputs": [],
   "source": [
    "def sum_of_digits(num):\n",
    "    if num < 0:\n",
    "        raise ValueError(f\"Number {num} should be positive integer\")\n",
    "        \n",
    "    # Base case\n",
    "    if num == 0:\n",
    "        return num\n",
    "    return (num % 10) + sum_of_digits(int(num/10))"
   ]
  },
  {
   "cell_type": "code",
   "execution_count": 10,
   "id": "fb7d60b1",
   "metadata": {},
   "outputs": [
    {
     "data": {
      "text/plain": [
       "6"
      ]
     },
     "execution_count": 10,
     "metadata": {},
     "output_type": "execute_result"
    }
   ],
   "source": [
    "sum_of_digits(123)"
   ]
  },
  {
   "cell_type": "code",
   "execution_count": 25,
   "id": "76f429fc",
   "metadata": {},
   "outputs": [],
   "source": [
    "def power(x, n):\n",
    "    assert int(n) == n, \"Exponent should be integer\"\n",
    "    if n == 0:\n",
    "        return 1\n",
    "    elif n < 0:\n",
    "        return 1/x * power(x, n+1)\n",
    "    elif n == 1:\n",
    "        return x\n",
    "    return x * power(x, n-1)"
   ]
  },
  {
   "cell_type": "code",
   "execution_count": 26,
   "id": "75932377",
   "metadata": {},
   "outputs": [
    {
     "data": {
      "text/plain": [
       "16"
      ]
     },
     "execution_count": 26,
     "metadata": {},
     "output_type": "execute_result"
    }
   ],
   "source": [
    "power(2,4)"
   ]
  },
  {
   "cell_type": "code",
   "execution_count": 27,
   "id": "a5241740",
   "metadata": {},
   "outputs": [
    {
     "data": {
      "text/plain": [
       "-27"
      ]
     },
     "execution_count": 27,
     "metadata": {},
     "output_type": "execute_result"
    }
   ],
   "source": [
    "power(-3,3)"
   ]
  },
  {
   "cell_type": "code",
   "execution_count": 28,
   "id": "28b55535",
   "metadata": {},
   "outputs": [
    {
     "data": {
      "text/plain": [
       "0.0625"
      ]
     },
     "execution_count": 28,
     "metadata": {},
     "output_type": "execute_result"
    }
   ],
   "source": [
    "power(4, -2)"
   ]
  },
  {
   "cell_type": "code",
   "execution_count": 22,
   "id": "dfd7aaf1",
   "metadata": {},
   "outputs": [
    {
     "ename": "AssertionError",
     "evalue": "Exponent should be integer",
     "output_type": "error",
     "traceback": [
      "\u001b[0;31m---------------------------------------------------------------------------\u001b[0m",
      "\u001b[0;31mAssertionError\u001b[0m                            Traceback (most recent call last)",
      "\u001b[0;32m<ipython-input-22-7c348420d4fc>\u001b[0m in \u001b[0;36m<module>\u001b[0;34m\u001b[0m\n\u001b[0;32m----> 1\u001b[0;31m \u001b[0mpower\u001b[0m\u001b[0;34m(\u001b[0m\u001b[0;34m-\u001b[0m\u001b[0;36m3\u001b[0m\u001b[0;34m,\u001b[0m\u001b[0;36m2.4\u001b[0m\u001b[0;34m)\u001b[0m\u001b[0;34m\u001b[0m\u001b[0;34m\u001b[0m\u001b[0m\n\u001b[0m",
      "\u001b[0;32m<ipython-input-19-5035a49fa0bc>\u001b[0m in \u001b[0;36mpower\u001b[0;34m(x, n)\u001b[0m\n\u001b[1;32m      1\u001b[0m \u001b[0;32mdef\u001b[0m \u001b[0mpower\u001b[0m\u001b[0;34m(\u001b[0m\u001b[0mx\u001b[0m\u001b[0;34m,\u001b[0m \u001b[0mn\u001b[0m\u001b[0;34m)\u001b[0m\u001b[0;34m:\u001b[0m\u001b[0;34m\u001b[0m\u001b[0;34m\u001b[0m\u001b[0m\n\u001b[0;32m----> 2\u001b[0;31m     \u001b[0;32massert\u001b[0m \u001b[0mint\u001b[0m\u001b[0;34m(\u001b[0m\u001b[0mn\u001b[0m\u001b[0;34m)\u001b[0m \u001b[0;34m==\u001b[0m \u001b[0mn\u001b[0m\u001b[0;34m,\u001b[0m \u001b[0;34m\"Exponent should be integer\"\u001b[0m\u001b[0;34m\u001b[0m\u001b[0;34m\u001b[0m\u001b[0m\n\u001b[0m\u001b[1;32m      3\u001b[0m     \u001b[0;32mif\u001b[0m \u001b[0mn\u001b[0m \u001b[0;34m<\u001b[0m \u001b[0;36m0\u001b[0m\u001b[0;34m:\u001b[0m\u001b[0;34m\u001b[0m\u001b[0;34m\u001b[0m\u001b[0m\n\u001b[1;32m      4\u001b[0m         \u001b[0;32mraise\u001b[0m \u001b[0mValueError\u001b[0m\u001b[0;34m(\u001b[0m\u001b[0;34mf\"n should be >= 0, but it was {n}\"\u001b[0m\u001b[0;34m)\u001b[0m\u001b[0;34m\u001b[0m\u001b[0;34m\u001b[0m\u001b[0m\n\u001b[1;32m      5\u001b[0m     \u001b[0;32mif\u001b[0m \u001b[0mn\u001b[0m \u001b[0;34m==\u001b[0m \u001b[0;36m0\u001b[0m\u001b[0;34m:\u001b[0m\u001b[0;34m\u001b[0m\u001b[0;34m\u001b[0m\u001b[0m\n",
      "\u001b[0;31mAssertionError\u001b[0m: Exponent should be integer"
     ]
    }
   ],
   "source": [
    "power(-3,2.4)"
   ]
  },
  {
   "cell_type": "code",
   "execution_count": 33,
   "id": "e74b96ea",
   "metadata": {},
   "outputs": [],
   "source": [
    "def greatest_common_divisor(a, b):\n",
    "    # Euclidean algorithm: gcd(a,b) = gcd(b, a%b)\n",
    "    assert int(a) == a and int(b) == b, \"a and b must be integers\"\n",
    "    # Convert integers to positive\n",
    "    if a < 0:\n",
    "        a = -a\n",
    "    if b < 0:\n",
    "        b = -b\n",
    "        \n",
    "    # gcd(a, 0) = a\n",
    "    if b == 0:\n",
    "        return a\n",
    "    return greatest_common_divisor(b, a%b)\n",
    "    "
   ]
  },
  {
   "cell_type": "code",
   "execution_count": 34,
   "id": "b86f186e",
   "metadata": {},
   "outputs": [
    {
     "data": {
      "text/plain": [
       "4"
      ]
     },
     "execution_count": 34,
     "metadata": {},
     "output_type": "execute_result"
    }
   ],
   "source": [
    "greatest_common_divisor(12, 8)"
   ]
  },
  {
   "cell_type": "code",
   "execution_count": 35,
   "id": "aaf45d53",
   "metadata": {},
   "outputs": [
    {
     "data": {
      "text/plain": [
       "6"
      ]
     },
     "execution_count": 35,
     "metadata": {},
     "output_type": "execute_result"
    }
   ],
   "source": [
    "greatest_common_divisor(48, 18)"
   ]
  },
  {
   "cell_type": "code",
   "execution_count": 36,
   "id": "78a88c13",
   "metadata": {},
   "outputs": [
    {
     "data": {
      "text/plain": [
       "4"
      ]
     },
     "execution_count": 36,
     "metadata": {},
     "output_type": "execute_result"
    }
   ],
   "source": [
    "greatest_common_divisor(-12,8)"
   ]
  },
  {
   "cell_type": "code",
   "execution_count": 59,
   "id": "8b41ed47",
   "metadata": {},
   "outputs": [],
   "source": [
    "def convert_decimal_to_binary(num):\n",
    "    assert num >= 0, \"Number must be greater than or equal to 0\"\n",
    "    if num == 0:\n",
    "        return \"0\"\n",
    "    if int(num/2) == 0:\n",
    "        return f\"{num%2}\"\n",
    "    else:\n",
    "        return convert_decimal_to_binary(int(num/2)) + f\"{num%2}\""
   ]
  },
  {
   "cell_type": "code",
   "execution_count": 60,
   "id": "748a8ea5",
   "metadata": {},
   "outputs": [
    {
     "data": {
      "text/plain": [
       "'1010'"
      ]
     },
     "execution_count": 60,
     "metadata": {},
     "output_type": "execute_result"
    }
   ],
   "source": [
    "convert_decimal_to_binary(10)"
   ]
  },
  {
   "cell_type": "code",
   "execution_count": 61,
   "id": "32d48958",
   "metadata": {},
   "outputs": [
    {
     "data": {
      "text/plain": [
       "'11'"
      ]
     },
     "execution_count": 61,
     "metadata": {},
     "output_type": "execute_result"
    }
   ],
   "source": [
    "convert_decimal_to_binary(3)"
   ]
  },
  {
   "cell_type": "code",
   "execution_count": 62,
   "id": "45f7aa5f",
   "metadata": {},
   "outputs": [
    {
     "data": {
      "text/plain": [
       "'1000'"
      ]
     },
     "execution_count": 62,
     "metadata": {},
     "output_type": "execute_result"
    }
   ],
   "source": [
    "convert_decimal_to_binary(8)"
   ]
  },
  {
   "cell_type": "code",
   "execution_count": 63,
   "id": "4c329222",
   "metadata": {},
   "outputs": [
    {
     "data": {
      "text/plain": [
       "'0'"
      ]
     },
     "execution_count": 63,
     "metadata": {},
     "output_type": "execute_result"
    }
   ],
   "source": [
    "convert_decimal_to_binary(0)"
   ]
  },
  {
   "cell_type": "code",
   "execution_count": 72,
   "id": "dfac0460",
   "metadata": {},
   "outputs": [],
   "source": [
    "def convert_decimal_to_binary_2(num):\n",
    "    assert num >= 0, \"Number must be greater than or equal to 0\"\n",
    "    assert int(num) == num, \"Number must be an integer\"\n",
    "    if num == 0:\n",
    "        return 0\n",
    "\n",
    "    return convert_decimal_to_binary_2(int(num/2))*10 + (num % 2)"
   ]
  },
  {
   "cell_type": "code",
   "execution_count": 73,
   "id": "e4689590",
   "metadata": {},
   "outputs": [
    {
     "data": {
      "text/plain": [
       "1000"
      ]
     },
     "execution_count": 73,
     "metadata": {},
     "output_type": "execute_result"
    }
   ],
   "source": [
    "convert_decimal_to_binary_2(8)"
   ]
  },
  {
   "cell_type": "code",
   "execution_count": 74,
   "id": "e96de2e2",
   "metadata": {},
   "outputs": [],
   "source": [
    "def product_of_array(arr):\n",
    "    if len(arr) == 0:\n",
    "        return 0\n",
    "    elif len(arr) == 1:\n",
    "        return arr[0]\n",
    "        \n",
    "    return arr[0] * product_of_array(arr[1:])"
   ]
  },
  {
   "cell_type": "code",
   "execution_count": 76,
   "id": "e11ae5b6",
   "metadata": {},
   "outputs": [
    {
     "data": {
      "text/plain": [
       "24"
      ]
     },
     "execution_count": 76,
     "metadata": {},
     "output_type": "execute_result"
    }
   ],
   "source": [
    "product_of_array([1,2,3,4])"
   ]
  },
  {
   "cell_type": "code",
   "execution_count": 77,
   "id": "84a80a8b",
   "metadata": {},
   "outputs": [
    {
     "data": {
      "text/plain": [
       "2"
      ]
     },
     "execution_count": 77,
     "metadata": {},
     "output_type": "execute_result"
    }
   ],
   "source": [
    "product_of_array([1,2])"
   ]
  },
  {
   "cell_type": "code",
   "execution_count": 82,
   "id": "1945c76d",
   "metadata": {},
   "outputs": [],
   "source": [
    "def recursive_range(num):\n",
    "    assert int(num) == num, \"Num must be integer\"\n",
    "    assert num >= 0, \"Num must be non-negative\"\n",
    "    if num == 0:\n",
    "        return 0\n",
    "        \n",
    "    return num + recursive_range(num-1)"
   ]
  },
  {
   "cell_type": "code",
   "execution_count": 83,
   "id": "280f07a1",
   "metadata": {},
   "outputs": [
    {
     "data": {
      "text/plain": [
       "15"
      ]
     },
     "execution_count": 83,
     "metadata": {},
     "output_type": "execute_result"
    }
   ],
   "source": [
    "recursive_range(5)"
   ]
  },
  {
   "cell_type": "code",
   "execution_count": 84,
   "id": "62b5d698",
   "metadata": {},
   "outputs": [],
   "source": [
    "def fib(idx):\n",
    "    if idx == 0:\n",
    "        return 0\n",
    "    elif idx == 1:\n",
    "        return 1\n",
    "    return fib(idx-1) + fib(idx-2)"
   ]
  },
  {
   "cell_type": "code",
   "execution_count": 86,
   "id": "58acf41b",
   "metadata": {},
   "outputs": [
    {
     "data": {
      "text/plain": [
       "3"
      ]
     },
     "execution_count": 86,
     "metadata": {},
     "output_type": "execute_result"
    }
   ],
   "source": [
    "fib(4)"
   ]
  },
  {
   "cell_type": "code",
   "execution_count": 87,
   "id": "8fab30db",
   "metadata": {},
   "outputs": [
    {
     "data": {
      "text/plain": [
       "8"
      ]
     },
     "execution_count": 87,
     "metadata": {},
     "output_type": "execute_result"
    }
   ],
   "source": [
    "fib(6)"
   ]
  },
  {
   "cell_type": "code",
   "execution_count": 30,
   "id": "501968cf",
   "metadata": {},
   "outputs": [],
   "source": [
    "def flatten(arr):\n",
    "    def flatten_helper(arr, output):\n",
    "        # Base case: arr is empty\n",
    "        if len(arr) == 0:\n",
    "            return\n",
    "        # Base case: first element in arr is not a list (already hit the \"bottom\")\n",
    "        elif not isinstance(arr[0], list):\n",
    "            # Add the first element into output list\n",
    "            output.append(arr[0])\n",
    "            \n",
    "        # First element in arr is a list (have not found bottom, continue recursing)\n",
    "        else:\n",
    "            flatten_helper(arr[0], output)\n",
    "        \n",
    "        # Continue recursing the rest of the arr\n",
    "        flatten_helper(arr[1:], output)\n",
    "    \n",
    "    output = []\n",
    "    flatten_helper(arr, output)\n",
    "    \n",
    "    return output"
   ]
  },
  {
   "cell_type": "code",
   "execution_count": 31,
   "id": "f702eb25",
   "metadata": {},
   "outputs": [
    {
     "data": {
      "text/plain": [
       "[1, 2, 3, 4, 5, 6, 7, 8]"
      ]
     },
     "execution_count": 31,
     "metadata": {},
     "output_type": "execute_result"
    }
   ],
   "source": [
    "flatten([[1,2,3], [[[4]]], [[[[[[5,6],7]]]]],8])"
   ]
  },
  {
   "cell_type": "code",
   "execution_count": null,
   "id": "a985204a",
   "metadata": {},
   "outputs": [],
   "source": []
  }
 ],
 "metadata": {
  "kernelspec": {
   "display_name": "Python 3",
   "language": "python",
   "name": "python3"
  },
  "language_info": {
   "codemirror_mode": {
    "name": "ipython",
    "version": 3
   },
   "file_extension": ".py",
   "mimetype": "text/x-python",
   "name": "python",
   "nbconvert_exporter": "python",
   "pygments_lexer": "ipython3",
   "version": "3.8.5"
  }
 },
 "nbformat": 4,
 "nbformat_minor": 5
}
