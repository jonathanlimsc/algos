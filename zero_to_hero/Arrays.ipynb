{
 "cells": [
  {
   "cell_type": "code",
   "execution_count": 116,
   "id": "862cb4bc",
   "metadata": {},
   "outputs": [],
   "source": [
    "import numpy as np"
   ]
  },
  {
   "cell_type": "markdown",
   "id": "70cb7f9a",
   "metadata": {},
   "source": [
    "## Find missing number in array\n",
    "\n",
    "Given array will have consecutive integers in a range e.g. [1,2,3,4,5...,100], [4,5,6,..,549] etc. Find the missing number in that consecutive range"
   ]
  },
  {
   "cell_type": "code",
   "execution_count": 10,
   "id": "2883386a",
   "metadata": {},
   "outputs": [],
   "source": [
    "def find_missing_number_in_arr(arr, start_num=1, end_num=100):\n",
    "    total = 0\n",
    "    for num in arr:\n",
    "        total += num\n",
    "        \n",
    "    # 1+..+n = n(n+1)/2\n",
    "    expected = int(end_num*(end_num+1) / 2)\n",
    "    assert start_num < end_num, \"start_num has to be smaller than end_num\"\n",
    "    # To handle cases where start_num is not 1, minus away (1+...+(start_num-1))\n",
    "    if start_num > 1:\n",
    "        expected -= int((start_num-1)*(start_num)/2)\n",
    "    \n",
    "    return expected - total"
   ]
  },
  {
   "cell_type": "code",
   "execution_count": 17,
   "id": "69ee33e8",
   "metadata": {},
   "outputs": [
    {
     "name": "stdout",
     "output_type": "stream",
     "text": [
      "49\n"
     ]
    }
   ],
   "source": [
    "start_num = 5\n",
    "end_num = 1000\n",
    "missing_num = 49\n",
    "\n",
    "arr = [i for i in range(start_num, end_num+1)]\n",
    "arr.remove(missing_num)\n",
    "\n",
    "print(find_missing_number_in_arr(arr, start_num=start_num, end_num=end_num))"
   ]
  },
  {
   "cell_type": "markdown",
   "id": "451b9988",
   "metadata": {},
   "source": [
    "## Two sum\n",
    "\n",
    "Given a list of integers and target number, find the indices of the integers in the list that sums to target"
   ]
  },
  {
   "cell_type": "code",
   "execution_count": 25,
   "id": "5053da38",
   "metadata": {},
   "outputs": [],
   "source": [
    "def find_pairs(arr, target):\n",
    "    _dict = {}\n",
    "    indices_arr = []\n",
    "    \n",
    "    for idx, num in enumerate(arr):\n",
    "        # Check if current num's complement is in _dict\n",
    "        complement = target - num\n",
    "        if complement in _dict:\n",
    "            indices_arr.append((_dict[complement], idx))\n",
    "\n",
    "        _dict[num] = idx\n",
    "    \n",
    "    return indices_arr"
   ]
  },
  {
   "cell_type": "code",
   "execution_count": 34,
   "id": "a22a3dac",
   "metadata": {},
   "outputs": [
    {
     "data": {
      "text/plain": [
       "[(1, 2), (3, 5), (7, 9)]"
      ]
     },
     "execution_count": 34,
     "metadata": {},
     "output_type": "execute_result"
    }
   ],
   "source": [
    "find_pairs([1,2,9,6,3,5,-1,-2,-10,13], 11)"
   ]
  },
  {
   "cell_type": "markdown",
   "id": "635a9412",
   "metadata": {},
   "source": [
    "## Max product in array\n",
    "\n",
    "Given arr of positive integers, return max product of any two integers in it"
   ]
  },
  {
   "cell_type": "code",
   "execution_count": 59,
   "id": "e8e1171e",
   "metadata": {},
   "outputs": [],
   "source": [
    "# O(n) solution\n",
    "def max_product(arr):\n",
    "    # Arr needs at least 2 elements\n",
    "    if len(arr) < 2:\n",
    "        return 0\n",
    "    # Init prev and curr max\n",
    "    if arr[0] < arr[1]:\n",
    "        prev_max = arr[0]\n",
    "        curr_max = arr[1]\n",
    "    else:\n",
    "        prev_max = arr[1]\n",
    "        curr_max = arr[0]\n",
    "    \n",
    "    for idx in range(2, len(arr)):\n",
    "        num = arr[idx]\n",
    "        if num > curr_max:\n",
    "            prev_max = curr_max\n",
    "            curr_max = num\n",
    "        elif num < curr_max and num > prev_max:\n",
    "            prev_max = num\n",
    "            \n",
    "    return prev_max * curr_max\n",
    "\n",
    "# Alternatively we can simply sort the arr and return two largest elements, but that would be O(nlogn)"
   ]
  },
  {
   "cell_type": "code",
   "execution_count": 60,
   "id": "cc1ab622",
   "metadata": {},
   "outputs": [
    {
     "name": "stdout",
     "output_type": "stream",
     "text": [
      "2613\n"
     ]
    }
   ],
   "source": [
    "print(max_product([1,2,67,39,21,33,2]))"
   ]
  },
  {
   "cell_type": "markdown",
   "id": "a06aa38a",
   "metadata": {},
   "source": [
    "## Are all elements unique"
   ]
  },
  {
   "cell_type": "code",
   "execution_count": 61,
   "id": "ca2aaee2",
   "metadata": {},
   "outputs": [],
   "source": [
    "def is_unique(arr):\n",
    "    num_set = set()\n",
    "    for num in arr:\n",
    "        if num in num_set:\n",
    "            return False\n",
    "        else:\n",
    "            num_set.add(num)\n",
    "            \n",
    "    return True\n",
    "    \n",
    "    "
   ]
  },
  {
   "cell_type": "code",
   "execution_count": 62,
   "id": "46083c1a",
   "metadata": {},
   "outputs": [
    {
     "data": {
      "text/plain": [
       "True"
      ]
     },
     "execution_count": 62,
     "metadata": {},
     "output_type": "execute_result"
    }
   ],
   "source": [
    "is_unique([1,2,3,5,100])"
   ]
  },
  {
   "cell_type": "code",
   "execution_count": 63,
   "id": "74cbd838",
   "metadata": {},
   "outputs": [
    {
     "data": {
      "text/plain": [
       "False"
      ]
     },
     "execution_count": 63,
     "metadata": {},
     "output_type": "execute_result"
    }
   ],
   "source": [
    "is_unique([1,2,3,5,100,2])"
   ]
  },
  {
   "cell_type": "markdown",
   "id": "da1ec755",
   "metadata": {},
   "source": [
    "## Are lists permutations "
   ]
  },
  {
   "cell_type": "code",
   "execution_count": 64,
   "id": "4abf7a84",
   "metadata": {},
   "outputs": [],
   "source": [
    "def is_permutation(arr_1, arr_2):\n",
    "    if len(arr_1) != len(arr_2):\n",
    "        return False\n",
    "    _set = set()\n",
    "    for num in arr_1:\n",
    "        _set.add(num)\n",
    "        \n",
    "    for num in arr_2:\n",
    "        if num not in _set:\n",
    "            return False\n",
    "    \n",
    "    return True"
   ]
  },
  {
   "cell_type": "code",
   "execution_count": 65,
   "id": "467e33f3",
   "metadata": {},
   "outputs": [
    {
     "data": {
      "text/plain": [
       "True"
      ]
     },
     "execution_count": 65,
     "metadata": {},
     "output_type": "execute_result"
    }
   ],
   "source": [
    "is_permutation([1,2,3,4,5], [5,4,3,2,1])"
   ]
  },
  {
   "cell_type": "code",
   "execution_count": 67,
   "id": "b724f537",
   "metadata": {},
   "outputs": [
    {
     "data": {
      "text/plain": [
       "False"
      ]
     },
     "execution_count": 67,
     "metadata": {},
     "output_type": "execute_result"
    }
   ],
   "source": [
    "is_permutation([1,2,4,4,10], [5,4,3,2,1])"
   ]
  },
  {
   "cell_type": "markdown",
   "id": "f82a7b83",
   "metadata": {},
   "source": [
    "## Rotate matrix\n",
    "\n",
    "Given a 2D array, rotate it 90 degrees clockwise"
   ]
  },
  {
   "cell_type": "code",
   "execution_count": 119,
   "id": "c81981e7",
   "metadata": {},
   "outputs": [],
   "source": [
    "def rotate_matrix_clockwise(matrix):\n",
    "    n = len(matrix)\n",
    "    \n",
    "    for layer in range(n//2):\n",
    "        start = layer\n",
    "        end = n - 1 - layer\n",
    "        for idx in range(start, end):\n",
    "#             print(f\"Layer: {layer}, idx: {idx}\")\n",
    "            # Save top\n",
    "            top = matrix[layer][idx]\n",
    "            # Assign left to top\n",
    "            matrix[layer][idx] = matrix[-1-idx][layer]\n",
    "            # Assign bottom to left\n",
    "            matrix[-1-idx][layer] = matrix[-1-layer][-1-idx]\n",
    "            # Assign right to bottom\n",
    "            matrix[-1-layer][-1-idx] = matrix[idx][-1-layer]\n",
    "            # Assign top to right\n",
    "            matrix[idx][-1-layer] = top"
   ]
  },
  {
   "cell_type": "code",
   "execution_count": 125,
   "id": "6d1d6737",
   "metadata": {},
   "outputs": [
    {
     "name": "stdout",
     "output_type": "stream",
     "text": [
      "Before\n",
      " [[ 0  1  2  3  4  5]\n",
      " [ 6  7  8  9 10 11]\n",
      " [12 13 14 15 16 17]\n",
      " [18 19 20 21 22 23]\n",
      " [24 25 26 27 28 29]\n",
      " [30 31 32 33 34 35]]\n",
      "After\n",
      " [[30 24 18 12  6  0]\n",
      " [31 25 19 13  7  1]\n",
      " [32 26 20 14  8  2]\n",
      " [33 27 21 15  9  3]\n",
      " [34 28 22 16 10  4]\n",
      " [35 29 23 17 11  5]]\n"
     ]
    }
   ],
   "source": [
    "n = 6\n",
    "\n",
    "matrix = [[(i*n)+j for j in range(n)] for i in range(n)]\n",
    "print(\"Before\\n\", np.array(matrix))\n",
    "rotate_matrix_clockwise(matrix)\n",
    "print(\"After\\n\", np.array(matrix))"
   ]
  },
  {
   "cell_type": "code",
   "execution_count": 131,
   "id": "79705fb5",
   "metadata": {},
   "outputs": [],
   "source": [
    "def rotate_matrix_anticlockwise(matrix):\n",
    "    n = len(matrix)\n",
    "    num_layers = n//2\n",
    "    \n",
    "    for layer in range(num_layers):\n",
    "        start_idx = layer\n",
    "        end_idx = n-1-layer\n",
    "        \n",
    "        for idx in range(start_idx, end_idx):\n",
    "            top = matrix[layer][-1-idx]\n",
    "            # Assign right to top\n",
    "            matrix[layer][-1-idx] = matrix[-1-idx][-1-layer]\n",
    "            # Assign bottom to right\n",
    "            matrix[-1-idx][-1-layer] = matrix[-1-layer][idx]\n",
    "            # Assign left to bottom\n",
    "            matrix[-1-layer][idx] = matrix[idx][layer]\n",
    "            # Assign top to left\n",
    "            matrix[idx][layer] = top\n",
    "        "
   ]
  },
  {
   "cell_type": "code",
   "execution_count": 133,
   "id": "ad76902b",
   "metadata": {},
   "outputs": [
    {
     "name": "stdout",
     "output_type": "stream",
     "text": [
      "Before\n",
      " [[ 0  1  2  3  4  5  6  7  8]\n",
      " [ 9 10 11 12 13 14 15 16 17]\n",
      " [18 19 20 21 22 23 24 25 26]\n",
      " [27 28 29 30 31 32 33 34 35]\n",
      " [36 37 38 39 40 41 42 43 44]\n",
      " [45 46 47 48 49 50 51 52 53]\n",
      " [54 55 56 57 58 59 60 61 62]\n",
      " [63 64 65 66 67 68 69 70 71]\n",
      " [72 73 74 75 76 77 78 79 80]]\n",
      "After\n",
      " [[ 8 17 26 35 44 53 62 71 80]\n",
      " [ 7 16 25 34 43 52 61 70 79]\n",
      " [ 6 15 24 33 42 51 60 69 78]\n",
      " [ 5 14 23 32 41 50 59 68 77]\n",
      " [ 4 13 22 31 40 49 58 67 76]\n",
      " [ 3 12 21 30 39 48 57 66 75]\n",
      " [ 2 11 20 29 38 47 56 65 74]\n",
      " [ 1 10 19 28 37 46 55 64 73]\n",
      " [ 0  9 18 27 36 45 54 63 72]]\n"
     ]
    }
   ],
   "source": [
    "n = 9\n",
    "\n",
    "matrix = [[(i*n)+j for j in range(n)] for i in range(n)]\n",
    "print(\"Before\\n\", np.array(matrix))\n",
    "rotate_matrix_anticlockwise(matrix)\n",
    "print(\"After\\n\", np.array(matrix))"
   ]
  },
  {
   "cell_type": "code",
   "execution_count": null,
   "id": "b441c667",
   "metadata": {},
   "outputs": [],
   "source": []
  }
 ],
 "metadata": {
  "kernelspec": {
   "display_name": "Python 3",
   "language": "python",
   "name": "python3"
  },
  "language_info": {
   "codemirror_mode": {
    "name": "ipython",
    "version": 3
   },
   "file_extension": ".py",
   "mimetype": "text/x-python",
   "name": "python",
   "nbconvert_exporter": "python",
   "pygments_lexer": "ipython3",
   "version": "3.8.5"
  }
 },
 "nbformat": 4,
 "nbformat_minor": 5
}
