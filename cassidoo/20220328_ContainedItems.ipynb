{
 "cells": [
  {
   "cell_type": "markdown",
   "metadata": {},
   "source": [
    "Given a string that represents items as asterisks (*) and compartment walls as pipes (|), a start index, and an end index, return the number of items in a closed compartment. \n",
    "\n",
    "Example: \n",
    "\n",
    "```let str = '|**|*|*'```\n",
    "\n",
    "> containedItems(str, 0, 5)\n",
    "> 2\n",
    "\n",
    "> containedItems(str, 0, 6)\n",
    "> 3\n",
    "\n",
    "> containedItems(str, 1, 7)\n",
    "> 1\n",
    "\n",
    "Extra credit: What if you had multiple pairs of start and end indices? You can do it in O(n) time!"
   ]
  },
  {
   "cell_type": "code",
   "execution_count": 1,
   "metadata": {},
   "outputs": [],
   "source": [
    "pipe_dict = {}"
   ]
  },
  {
   "cell_type": "code",
   "execution_count": null,
   "metadata": {},
   "outputs": [],
   "source": []
  }
 ],
 "metadata": {
  "kernelspec": {
   "display_name": "Python 3",
   "language": "python",
   "name": "python3"
  },
  "language_info": {
   "codemirror_mode": {
    "name": "ipython",
    "version": 3
   },
   "file_extension": ".py",
   "mimetype": "text/x-python",
   "name": "python",
   "nbconvert_exporter": "python",
   "pygments_lexer": "ipython3",
   "version": "3.8.5"
  }
 },
 "nbformat": 4,
 "nbformat_minor": 4
}
