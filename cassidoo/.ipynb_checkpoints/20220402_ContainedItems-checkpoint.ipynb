{
 "cells": [
  {
   "cell_type": "markdown",
   "metadata": {},
   "source": [
    "This week’s question:\n",
    "Given a string that represents items as asterisks (*) and compartment walls as pipes (|), a start index, and an end index, return the number of items in a closed compartment. \n",
    "\n",
    "Example: \n",
    "```\n",
    "let str = '|**|*|*'\n",
    "\n",
    "> containedItems(str, 0, 5)\n",
    "> 2\n",
    "\n",
    "> containedItems(str, 0, 6)\n",
    "> 3\n",
    "\n",
    "> containedItems(str, 1, 7)\n",
    "> 1\n",
    "```\n",
    "\n",
    "Extra credit: What if you had multiple pairs of start and end indices? You can do it in O(n) time!\n",
    "\n"
   ]
  },
  {
   "cell_type": "markdown",
   "metadata": {},
   "source": [
    "## Solution sketch\n",
    "\n",
    "`|**|*|*`\n",
    "\n",
    "1. Convert array into dict recording the number of “contained asterisks” so far at that index (cumulative). \n",
    "\n",
    "```\n",
    "contained_count_dict\n",
    "  \n",
    "{\n",
    " 0: 0,\n",
    " 1: 0,\n",
    " 2: 0,\n",
    " 3: 0,\n",
    " 4: 2,\n",
    " 5: 2,\n",
    " 6: 3\n",
    "}\n",
    "```\n",
    "\n",
    "2. Convert array into the dict recording the number of \"contained asterisks\" in the container at each particular index\n",
    "\n",
    "```\n",
    "contained_size_dict\n",
    "\n",
    "{\n",
    "0: 2,\n",
    "1: 2,\n",
    "2: 2,\n",
    "3: 1,\n",
    "4: 1,\n",
    "5: 1,\n",
    "6: 0\n",
    "\n",
    "}\n",
    "```\n",
    "\n",
    "3. For each given pair, the number of contained asterisks will be given by taking the diff of the cumulative asterisks at the start_idx+1 and end_idx using contained_count_dict. If the start_idx is at a *, remove the number of * in that container from the count using contained_size_dict.\n",
    "\n",
    "```\n",
    "[0, 5] -> 2-0 = 2\n",
    "[0, 6] -> 3-0 = 3\n",
    "[3, 5] -> 2-2 = 0\n",
    "[1, 7] -> 3-0-2 = 1\n",
    "```\n",
    "\n",
    "Time complexity is:\n",
    "1. O(n) to generate contained_count_dict and contained_size_dict\n",
    "2. O(pairs) to generate results for the pairs of start and end indices\n",
    "\n",
    "Hence overall time complexity is O(n+pairs) which is O(n) if |pairs| < n"
   ]
  },
  {
   "cell_type": "code",
   "execution_count": 107,
   "metadata": {},
   "outputs": [],
   "source": [
    "from typing import List\n",
    "\n",
    "def containedItems(input_str: str, start_indices: List[int], end_indices: List[int]):\n",
    "    \"\"\"\n",
    "    Returns the number of contained asterisks in the given string and indices\n",
    "    \n",
    "    Args:\n",
    "        input_str: Input string to parse\n",
    "        start_indices: Starting indices that signify the part of the string to parse. \n",
    "            The corresponding end index is at the same index in end_indices.\n",
    "        end_indices: End indices that signifies the part of the string to parse. \n",
    "            The corresponding start index is at the same index in start_indices.\n",
    "        \n",
    "    Returns:\n",
    "        output: A list of contained items corresponding to the start_indices and end_indices\n",
    "    \"\"\"\n",
    "    print(input_str)\n",
    "    \n",
    "    contained_count_dict = {}\n",
    "    contained_size_dict = {}\n",
    "    \n",
    "    start_wall = False\n",
    "    end_wall = False\n",
    "    start_wall_idx = 0\n",
    "    end_wall_idx = 0\n",
    "    \n",
    "    asterisk_count = 0\n",
    "    cumulative_asterisk_count = 0\n",
    "    \n",
    "    for idx, symbol in enumerate(input_str):\n",
    "        # Check if the previous symbols have just been contained\n",
    "        if start_wall and end_wall:\n",
    "            cumulative_asterisk_count += asterisk_count\n",
    "            \n",
    "            # Populate contained_size_dict\n",
    "            for i in range(start_wall_idx, end_wall_idx + 1):\n",
    "                contained_size_dict[i] = asterisk_count\n",
    "            \n",
    "            # Reset variables\n",
    "            end_wall = False\n",
    "            start_wall_idx = end_wall_idx\n",
    "            asterisk_count = 0\n",
    "            \n",
    "        # Process symbol\n",
    "        if symbol == '|':\n",
    "            # Mark start_wall\n",
    "            if not start_wall:\n",
    "                start_wall = True\n",
    "                start_wall_idx = idx\n",
    "                # Mark all asterisks that came before the first start_wall as 0 in contained_size_dict\n",
    "                for i in range(0, start_wall_idx+1):\n",
    "                    contained_size_dict[i] = 0\n",
    "            elif start_wall:\n",
    "                # Mark end_wall\n",
    "                if not end_wall:\n",
    "                    end_wall = True\n",
    "                    end_wall_idx = idx\n",
    "        elif symbol == '*':\n",
    "            # Only increment the asterisk_count if a start_wall has been seen\n",
    "            if start_wall:\n",
    "                asterisk_count += 1\n",
    "            \n",
    "        contained_count_dict[idx] = cumulative_asterisk_count\n",
    "\n",
    "    # Handle case where right-most container has no closing wall\n",
    "    if not end_wall:\n",
    "        for i in range(start_wall_idx, len(input_str)):\n",
    "            contained_size_dict[i] = 0\n",
    "    \n",
    "    print(contained_count_dict)\n",
    "    print(contained_size_dict)\n",
    "    \n",
    "    output = []\n",
    "    for start_idx, end_idx in zip(start_indices, end_indices):\n",
    "        if end_idx >= len(input_str):\n",
    "            end_idx = len(input_str) - 1\n",
    "        # Starting position is in a container, need to exclude the asterisks in this container from the cumulative count\n",
    "        # difference between start and end indices\n",
    "        contained_counts = None\n",
    "        if input_str[start_idx] == '*':\n",
    "            contained_counts = contained_count_dict[end_idx] - contained_count_dict[start_idx+1] - contained_size_dict[start_idx]\n",
    "        else:\n",
    "            # The number of contained items is the difference of cumulative contained asterisks at\n",
    "            # the start and end indices\n",
    "            contained_counts = contained_count_dict[end_idx] - contained_count_dict[start_idx+1]\n",
    "            \n",
    "        # Handle edge case of start_idx being in the right-most container\n",
    "        if contained_counts < 0:\n",
    "            contained_counts = 0\n",
    "            \n",
    "        output.append(contained_counts)\n",
    "    \n",
    "    return output"
   ]
  },
  {
   "cell_type": "code",
   "execution_count": 114,
   "metadata": {},
   "outputs": [
    {
     "name": "stdout",
     "output_type": "stream",
     "text": [
      "|**|*|*\n",
      "{0: 0, 1: 0, 2: 0, 3: 0, 4: 2, 5: 2, 6: 3}\n",
      "{0: 2, 1: 2, 2: 2, 3: 1, 4: 1, 5: 0, 6: 0}\n"
     ]
    },
    {
     "data": {
      "text/plain": [
       "[2]"
      ]
     },
     "execution_count": 114,
     "metadata": {},
     "output_type": "execute_result"
    }
   ],
   "source": [
    "containedItems(input_str='|**|*|*', start_indices=[0], end_indices=[5])"
   ]
  },
  {
   "cell_type": "code",
   "execution_count": 115,
   "metadata": {},
   "outputs": [
    {
     "name": "stdout",
     "output_type": "stream",
     "text": [
      "|**|*|*\n",
      "{0: 0, 1: 0, 2: 0, 3: 0, 4: 2, 5: 2, 6: 3}\n",
      "{0: 2, 1: 2, 2: 2, 3: 1, 4: 1, 5: 0, 6: 0}\n"
     ]
    },
    {
     "data": {
      "text/plain": [
       "[2, 2, 3, 1, 0]"
      ]
     },
     "execution_count": 115,
     "metadata": {},
     "output_type": "execute_result"
    }
   ],
   "source": [
    "containedItems(input_str='|**|*|*', start_indices=[0, 0, 0, 1, 3], end_indices=[4, 5, 6, 7, 5])"
   ]
  },
  {
   "cell_type": "code",
   "execution_count": 116,
   "metadata": {},
   "outputs": [
    {
     "name": "stdout",
     "output_type": "stream",
     "text": [
      "*|*|*|*\n",
      "{0: 0, 1: 0, 2: 0, 3: 0, 4: 1, 5: 1, 6: 2}\n",
      "{0: 0, 1: 1, 2: 1, 3: 1, 4: 1, 5: 0, 6: 0}\n"
     ]
    },
    {
     "data": {
      "text/plain": [
       "[0, 1, 1, 2]"
      ]
     },
     "execution_count": 116,
     "metadata": {},
     "output_type": "execute_result"
    }
   ],
   "source": [
    "containedItems(input_str='*|*|*|*', start_indices=[0, 0, 1, 1], end_indices=[3, 4, 4, 6])"
   ]
  },
  {
   "cell_type": "code",
   "execution_count": 117,
   "metadata": {},
   "outputs": [
    {
     "name": "stdout",
     "output_type": "stream",
     "text": [
      "||*|*\n",
      "{0: 0, 1: 0, 2: 0, 3: 0, 4: 1}\n",
      "{0: 0, 1: 1, 2: 1, 3: 0, 4: 0}\n"
     ]
    },
    {
     "data": {
      "text/plain": [
       "[0, 0, 0, 1]"
      ]
     },
     "execution_count": 117,
     "metadata": {},
     "output_type": "execute_result"
    }
   ],
   "source": [
    "containedItems(input_str='||*|*', start_indices=[0, 0, 0, 1], end_indices=[2, 3, 3, 4])"
   ]
  },
  {
   "cell_type": "code",
   "execution_count": 118,
   "metadata": {},
   "outputs": [
    {
     "name": "stdout",
     "output_type": "stream",
     "text": [
      "*|*|****\n",
      "{0: 0, 1: 0, 2: 0, 3: 0, 4: 1, 5: 1, 6: 1, 7: 1}\n",
      "{0: 0, 1: 1, 2: 1, 3: 0, 4: 0, 5: 0, 6: 0, 7: 0}\n"
     ]
    },
    {
     "data": {
      "text/plain": [
       "[1, 1, 0, 0]"
      ]
     },
     "execution_count": 118,
     "metadata": {},
     "output_type": "execute_result"
    }
   ],
   "source": [
    "containedItems(input_str='*|*|****', start_indices=[0, 0, 2, 4], end_indices=[4, 5, 5, 6])"
   ]
  },
  {
   "cell_type": "code",
   "execution_count": 119,
   "metadata": {},
   "outputs": [
    {
     "name": "stdout",
     "output_type": "stream",
     "text": [
      "****\n",
      "{0: 0, 1: 0, 2: 0, 3: 0}\n",
      "{0: 0, 1: 0, 2: 0, 3: 0}\n"
     ]
    },
    {
     "data": {
      "text/plain": [
       "[0, 0]"
      ]
     },
     "execution_count": 119,
     "metadata": {},
     "output_type": "execute_result"
    }
   ],
   "source": [
    "containedItems(input_str='****', start_indices=[0, 0], end_indices=[2, 3])"
   ]
  },
  {
   "cell_type": "code",
   "execution_count": null,
   "metadata": {},
   "outputs": [],
   "source": []
  },
  {
   "cell_type": "code",
   "execution_count": null,
   "metadata": {},
   "outputs": [],
   "source": []
  }
 ],
 "metadata": {
  "kernelspec": {
   "display_name": "Python 3",
   "language": "python",
   "name": "python3"
  },
  "language_info": {
   "codemirror_mode": {
    "name": "ipython",
    "version": 3
   },
   "file_extension": ".py",
   "mimetype": "text/x-python",
   "name": "python",
   "nbconvert_exporter": "python",
   "pygments_lexer": "ipython3",
   "version": "3.8.5"
  }
 },
 "nbformat": 4,
 "nbformat_minor": 4
}
