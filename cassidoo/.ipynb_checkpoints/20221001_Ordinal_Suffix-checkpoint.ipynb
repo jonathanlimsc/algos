{
 "cells": [
  {
   "cell_type": "markdown",
   "metadata": {},
   "source": [
    "This week’s question:\n",
    "Write a function to output the ordinal suffix of a positive integer concatenated to an inputted number. \n",
    "\n",
    "Example: \n",
    "\n",
    "> ordinal(3)\n",
    "> '3rd'\n",
    "\n",
    "> ordinal(57)\n",
    "> '57th'"
   ]
  },
  {
   "cell_type": "code",
   "execution_count": 1,
   "metadata": {},
   "outputs": [],
   "source": [
    "def ordinal(num):\n",
    "    suffix = \"th\"\n",
    "    ones_val = num % 10\n",
    "    \n",
    "    if ones_val == 1:\n",
    "        suffix = \"st\"\n",
    "    elif ones_val == 2:\n",
    "        suffix = \"nd\"\n",
    "    elif ones_val == 3:\n",
    "        suffix = \"rd\"\n",
    "        \n",
    "    output = f\"{num}{suffix}\" \n",
    "    \n",
    "    return output"
   ]
  },
  {
   "cell_type": "code",
   "execution_count": 2,
   "metadata": {},
   "outputs": [
    {
     "name": "stdout",
     "output_type": "stream",
     "text": [
      "1st\n",
      "3rd\n",
      "57th\n",
      "85th\n",
      "1001st\n"
     ]
    }
   ],
   "source": [
    "print(ordinal(1))\n",
    "print(ordinal(3))\n",
    "print(ordinal(57))\n",
    "print(ordinal(85))\n",
    "print(ordinal(1001))"
   ]
  },
  {
   "cell_type": "code",
   "execution_count": null,
   "metadata": {},
   "outputs": [],
   "source": []
  }
 ],
 "metadata": {
  "kernelspec": {
   "display_name": "Python 3",
   "language": "python",
   "name": "python3"
  },
  "language_info": {
   "codemirror_mode": {
    "name": "ipython",
    "version": 3
   },
   "file_extension": ".py",
   "mimetype": "text/x-python",
   "name": "python",
   "nbconvert_exporter": "python",
   "pygments_lexer": "ipython3",
   "version": "3.8.5"
  }
 },
 "nbformat": 4,
 "nbformat_minor": 4
}
