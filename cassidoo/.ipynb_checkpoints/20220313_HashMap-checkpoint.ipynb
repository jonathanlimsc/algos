{
 "cells": [
  {
   "cell_type": "markdown",
   "metadata": {},
   "source": [
    "Implement a hashmap from scratch without any existing libraries in your preferred language. \n",
    "\n",
    "A hashmap should:\n",
    "\n",
    "1. Be empty when initialized\n",
    "2. Have the function `put(int key, int value)` which inserts a (key, value) pair into the hashmap. If the key already exists, update the corresponding value.\n",
    "3. Have the function `get(int key)` which returns the value to which the specified key is mapped, or -1 if there’s no mapping for the key.\n",
    "4. Have the function `remove(key)` which removes the key and its value if it exists in the map."
   ]
  },
  {
   "cell_type": "markdown",
   "metadata": {},
   "source": [
    "References: \n",
    "  - https://algs4.cs.princeton.edu/34hash/"
   ]
  },
  {
   "cell_type": "markdown",
   "metadata": {},
   "source": [
    "### Expected usage\n",
    "```\n",
    "hashmap.put(key=3, value=100)\n",
    "hashmap.get(key=3)\n",
    ">> 100\n",
    "hashmap.remove(key=3)\n",
    "hashmap.get(key=3)\n",
    ">> -1\n",
    "```"
   ]
  },
  {
   "cell_type": "markdown",
   "metadata": {},
   "source": [
    "### Solution sketch\n",
    "1. **Hashing input to an array index for storage**. Since we are dealing only with integer keys, we can hash the input integer key with modulo M, where M is an arbitrarily chosen prime number signifying the size of the array, whose indices we are hashing the integer to e.g. if M is 11, and input integer is 23, 23 will be hashed to `23 % 11 = 1`, and hence 23 will be stored in the array at index 1\n",
    "2. **Collision handling**. What do we do if another number hashes to the same index already occupied by 23? e.g. `12 % 11 = 1`, 12 also maps to index 1. We will represent this by storing these input numbers in a list of tuples at that array's index. Technically this should be implemented as a linked-list but we can keep things simple as Python lists can grow dynamically.\n",
    "\n",
    "e.g.\n",
    "```\n",
    "[0] -> None\n",
    "[1] -> [ (23, val_1), (12, val_2) ]\n",
    "[2] -> None\n",
    "[3] -> None\n",
    "[4] -> None\n",
    "[5] -> None\n",
    "...\n",
    "[10] -> None\n",
    "```"
   ]
  },
  {
   "cell_type": "code",
   "execution_count": 2,
   "metadata": {},
   "outputs": [],
   "source": [
    "# Here we choose an arbitrary hashmap size of 101 (array size is 101, so indices range from 0 to 100)\n",
    "# Note that this number should be prime to reduce index collisions.\n",
    "HASHMAP_SIZE = 101"
   ]
  },
  {
   "cell_type": "code",
   "execution_count": 33,
   "metadata": {},
   "outputs": [],
   "source": [
    "class SimpleHashMap:\n",
    "    def __init__(self, hashmap_size):\n",
    "        self.hashmap_size = hashmap_size\n",
    "        self.hashmap_arr = [ None for i in range(self.hashmap_size)]\n",
    "        \n",
    "    def put(self, key: int, value: int) -> None:\n",
    "        index = key % self.hashmap_size\n",
    "        \n",
    "        # There are keys stored at this index.\n",
    "        if self.hashmap_arr[index]:\n",
    "            key_val_chain = self.hashmap_arr[index]\n",
    "            \n",
    "            # Iterate through each key to check if it already exists in key_val_chain. If it exists, overwrite the value\n",
    "            found_key_idx = self._find_key_index_in_key_val_chain(key=key, key_val_chain=key_val_chain)\n",
    "            \n",
    "            # Found key-val tuple with input key\n",
    "            if found_key_idx > -1:\n",
    "                # Overwrite the old value with the new input value\n",
    "                self.hashmap_arr[index][found_key_idx] = (key, value)\n",
    "            else:\n",
    "                # Append key and value as tuple in key_val_chain\n",
    "                key_val_chain.append((key, value))\n",
    "            \n",
    "        # No keys stored at this index.\n",
    "        else:\n",
    "            # Make key_val_chain and store key, value as tuple.\n",
    "            key_val_chain = [(key, value)]\n",
    "            self.hashmap_arr[index] = key_val_chain\n",
    "        \n",
    "        return\n",
    "    \n",
    "    def get(self, key: int) -> int:\n",
    "        index = key % self.hashmap_size\n",
    "        \n",
    "        # There is a key_val_chain stored at this index. \n",
    "        if self.hashmap_arr[index]:\n",
    "            key_val_chain = self.hashmap_arr[index]\n",
    "            # key_val_chain has length of 0 due to previous removals\n",
    "            if len(key_val_chain) == 0:\n",
    "                return -1\n",
    "            \n",
    "            # There are keys stored in the key_val_chain\n",
    "            # Search for input key.\n",
    "            found_key_idx = self._find_key_index_in_key_val_chain(key=key, key_val_chain=key_val_chain)\n",
    "            \n",
    "            # Found key-val tuple with input key\n",
    "            if found_key_idx > -1:\n",
    "                return key_val_chain[found_key_idx][1]\n",
    "            # Searched through the whole key_val_chain, input key not found\n",
    "            else:\n",
    "                return -1\n",
    "        \n",
    "        # No keys stored at this index.\n",
    "        else:    \n",
    "            return -1\n",
    "    \n",
    "    def remove(self, key: int):\n",
    "        index = key % self.hashmap_size\n",
    "        \n",
    "        # There are keys stored at this index. \n",
    "        if self.hashmap_arr[index]:\n",
    "            # Search for input key.\n",
    "            key_val_chain = self.hashmap_arr[index]\n",
    "            \n",
    "            # Iterate through each key to check if it already exists in key_val_chain. If it exists, overwrite the value\n",
    "            found_key_idx = self._find_key_index_in_key_val_chain(key=key, key_val_chain=key_val_chain)\n",
    "            \n",
    "            # Found key-val tuple with input key\n",
    "            if found_key_idx > -1:\n",
    "                # Delete key-val tuple in key_val_chain at found_key_idx\n",
    "                del self.hashmap_arr[index][found_key_idx]\n",
    "    \n",
    "    def _find_key_index_in_key_val_chain(self, key: int, key_val_chain: list) -> int:\n",
    "        found_key_val_chain_idx = -1\n",
    "        for key_val_idx, key_val_tuple in enumerate(key_val_chain):\n",
    "            _key, _val = key_val_tuple\n",
    "            # Found input key in key_val_chain, need to overwrite the old value with the new input value\n",
    "            if _key == key:\n",
    "                found_key_val_chain_idx = key_val_idx\n",
    "                break\n",
    "                \n",
    "        return found_key_val_chain_idx\n",
    "    \n",
    "    def __str__(self):\n",
    "        output_str = \"{\"\n",
    "        for key_val_chain in self.hashmap_arr:\n",
    "            if key_val_chain:\n",
    "                for key_val_tuple in key_val_chain:\n",
    "                    output_str += f\"\\n\\t {key_val_tuple[0]} : {key_val_tuple[1]},\"\n",
    "                \n",
    "        output_str += \"\\n} \\n\"\n",
    "        return output_str"
   ]
  },
  {
   "cell_type": "code",
   "execution_count": 34,
   "metadata": {},
   "outputs": [],
   "source": [
    "hashmap = SimpleHashMap(hashmap_size=HASHMAP_SIZE)"
   ]
  },
  {
   "cell_type": "code",
   "execution_count": 35,
   "metadata": {},
   "outputs": [
    {
     "name": "stdout",
     "output_type": "stream",
     "text": [
      "{\n",
      "} \n",
      "\n"
     ]
    }
   ],
   "source": [
    "print(hashmap)"
   ]
  },
  {
   "cell_type": "code",
   "execution_count": 36,
   "metadata": {},
   "outputs": [
    {
     "data": {
      "text/plain": [
       "-1"
      ]
     },
     "execution_count": 36,
     "metadata": {},
     "output_type": "execute_result"
    }
   ],
   "source": [
    "hashmap.get(key=3)"
   ]
  },
  {
   "cell_type": "code",
   "execution_count": 37,
   "metadata": {},
   "outputs": [],
   "source": [
    "hashmap.put(key=3, value=100)"
   ]
  },
  {
   "cell_type": "code",
   "execution_count": 38,
   "metadata": {},
   "outputs": [
    {
     "name": "stdout",
     "output_type": "stream",
     "text": [
      "{\n",
      "\t 3 : 100,\n",
      "} \n",
      "\n"
     ]
    }
   ],
   "source": [
    "print(hashmap)"
   ]
  },
  {
   "cell_type": "code",
   "execution_count": 39,
   "metadata": {},
   "outputs": [
    {
     "data": {
      "text/plain": [
       "100"
      ]
     },
     "execution_count": 39,
     "metadata": {},
     "output_type": "execute_result"
    }
   ],
   "source": [
    "hashmap.get(key=3)"
   ]
  },
  {
   "cell_type": "code",
   "execution_count": 40,
   "metadata": {},
   "outputs": [],
   "source": [
    "hashmap.put(key=3, value=9999)"
   ]
  },
  {
   "cell_type": "code",
   "execution_count": 41,
   "metadata": {},
   "outputs": [
    {
     "data": {
      "text/plain": [
       "9999"
      ]
     },
     "execution_count": 41,
     "metadata": {},
     "output_type": "execute_result"
    }
   ],
   "source": [
    "hashmap.get(key=3)"
   ]
  },
  {
   "cell_type": "code",
   "execution_count": 42,
   "metadata": {},
   "outputs": [
    {
     "name": "stdout",
     "output_type": "stream",
     "text": [
      "{\n",
      "\t 3 : 9999,\n",
      "} \n",
      "\n"
     ]
    }
   ],
   "source": [
    "print(hashmap)"
   ]
  },
  {
   "cell_type": "code",
   "execution_count": 43,
   "metadata": {},
   "outputs": [],
   "source": [
    "hashmap.remove(key=3)"
   ]
  },
  {
   "cell_type": "code",
   "execution_count": 44,
   "metadata": {},
   "outputs": [
    {
     "data": {
      "text/plain": [
       "-1"
      ]
     },
     "execution_count": 44,
     "metadata": {},
     "output_type": "execute_result"
    }
   ],
   "source": [
    "hashmap.get(key=3)"
   ]
  },
  {
   "cell_type": "code",
   "execution_count": 45,
   "metadata": {},
   "outputs": [
    {
     "name": "stdout",
     "output_type": "stream",
     "text": [
      "{\n",
      "} \n",
      "\n"
     ]
    }
   ],
   "source": [
    "print(hashmap)"
   ]
  },
  {
   "cell_type": "code",
   "execution_count": 46,
   "metadata": {},
   "outputs": [
    {
     "data": {
      "text/plain": [
       "-1"
      ]
     },
     "execution_count": 46,
     "metadata": {},
     "output_type": "execute_result"
    }
   ],
   "source": [
    "hashmap.get(key=10004314)"
   ]
  },
  {
   "cell_type": "code",
   "execution_count": 47,
   "metadata": {},
   "outputs": [],
   "source": [
    "hashmap.put(key=10004314, value=12121)"
   ]
  },
  {
   "cell_type": "code",
   "execution_count": 48,
   "metadata": {},
   "outputs": [
    {
     "data": {
      "text/plain": [
       "12121"
      ]
     },
     "execution_count": 48,
     "metadata": {},
     "output_type": "execute_result"
    }
   ],
   "source": [
    "hashmap.get(key=10004314)"
   ]
  },
  {
   "cell_type": "code",
   "execution_count": 49,
   "metadata": {},
   "outputs": [
    {
     "name": "stdout",
     "output_type": "stream",
     "text": [
      "{\n",
      "\t 10004314 : 12121,\n",
      "} \n",
      "\n"
     ]
    }
   ],
   "source": [
    "print(hashmap)"
   ]
  },
  {
   "cell_type": "code",
   "execution_count": 50,
   "metadata": {},
   "outputs": [],
   "source": [
    "hashmap.remove(key=210)"
   ]
  },
  {
   "cell_type": "code",
   "execution_count": 51,
   "metadata": {},
   "outputs": [
    {
     "data": {
      "text/plain": [
       "-1"
      ]
     },
     "execution_count": 51,
     "metadata": {},
     "output_type": "execute_result"
    }
   ],
   "source": [
    "hashmap.get(key=210)"
   ]
  },
  {
   "cell_type": "code",
   "execution_count": 52,
   "metadata": {},
   "outputs": [],
   "source": [
    "hashmap.remove(key=10004314)"
   ]
  },
  {
   "cell_type": "code",
   "execution_count": 53,
   "metadata": {},
   "outputs": [
    {
     "data": {
      "text/plain": [
       "-1"
      ]
     },
     "execution_count": 53,
     "metadata": {},
     "output_type": "execute_result"
    }
   ],
   "source": [
    "hashmap.get(key=10004314)"
   ]
  },
  {
   "cell_type": "code",
   "execution_count": 54,
   "metadata": {},
   "outputs": [
    {
     "name": "stdout",
     "output_type": "stream",
     "text": [
      "{\n",
      "} \n",
      "\n"
     ]
    }
   ],
   "source": [
    "print(hashmap)"
   ]
  },
  {
   "cell_type": "code",
   "execution_count": 55,
   "metadata": {},
   "outputs": [],
   "source": [
    "hashmap.put(key=121212, value=329)\n",
    "hashmap.put(key=20, value=0)\n",
    "hashmap.put(key=1337, value=999)"
   ]
  },
  {
   "cell_type": "code",
   "execution_count": 56,
   "metadata": {},
   "outputs": [
    {
     "name": "stdout",
     "output_type": "stream",
     "text": [
      "{\n",
      "\t 121212 : 329,\n",
      "\t 20 : 0,\n",
      "\t 1337 : 999,\n",
      "} \n",
      "\n"
     ]
    }
   ],
   "source": [
    "print(str(hashmap))"
   ]
  },
  {
   "cell_type": "code",
   "execution_count": 57,
   "metadata": {},
   "outputs": [],
   "source": [
    "# Keys 23 and 12 will collide as they both use index 1\n",
    "hashmap.put(key=23, value=831)\n",
    "hashmap.put(key=12, value=38)"
   ]
  },
  {
   "cell_type": "code",
   "execution_count": 58,
   "metadata": {},
   "outputs": [
    {
     "name": "stdout",
     "output_type": "stream",
     "text": [
      "{\n",
      "\t 121212 : 329,\n",
      "\t 12 : 38,\n",
      "\t 20 : 0,\n",
      "\t 23 : 831,\n",
      "\t 1337 : 999,\n",
      "} \n",
      "\n"
     ]
    }
   ],
   "source": [
    "print(str(hashmap))"
   ]
  },
  {
   "cell_type": "code",
   "execution_count": 59,
   "metadata": {},
   "outputs": [],
   "source": [
    "hashmap.remove(key=12)"
   ]
  },
  {
   "cell_type": "code",
   "execution_count": 60,
   "metadata": {},
   "outputs": [
    {
     "name": "stdout",
     "output_type": "stream",
     "text": [
      "{\n",
      "\t 121212 : 329,\n",
      "\t 20 : 0,\n",
      "\t 23 : 831,\n",
      "\t 1337 : 999,\n",
      "} \n",
      "\n"
     ]
    }
   ],
   "source": [
    "print(hashmap)"
   ]
  },
  {
   "cell_type": "code",
   "execution_count": 61,
   "metadata": {},
   "outputs": [],
   "source": [
    "hashmap.remove(key=23)"
   ]
  },
  {
   "cell_type": "code",
   "execution_count": 62,
   "metadata": {},
   "outputs": [
    {
     "name": "stdout",
     "output_type": "stream",
     "text": [
      "{\n",
      "\t 121212 : 329,\n",
      "\t 20 : 0,\n",
      "\t 1337 : 999,\n",
      "} \n",
      "\n"
     ]
    }
   ],
   "source": [
    "print(hashmap)"
   ]
  },
  {
   "cell_type": "code",
   "execution_count": null,
   "metadata": {},
   "outputs": [],
   "source": []
  }
 ],
 "metadata": {
  "kernelspec": {
   "display_name": "Python 3",
   "language": "python",
   "name": "python3"
  },
  "language_info": {
   "codemirror_mode": {
    "name": "ipython",
    "version": 3
   },
   "file_extension": ".py",
   "mimetype": "text/x-python",
   "name": "python",
   "nbconvert_exporter": "python",
   "pygments_lexer": "ipython3",
   "version": "3.8.5"
  }
 },
 "nbformat": 4,
 "nbformat_minor": 4
}
