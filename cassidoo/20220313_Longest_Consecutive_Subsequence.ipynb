{
 "cells": [
  {
   "cell_type": "markdown",
   "metadata": {},
   "source": [
    "Given an array of integers, find the length of the longest sub-sequence such that elements in the sub-sequence are consecutive integers, the consecutive numbers can be in any order. "
   ]
  },
  {
   "cell_type": "markdown",
   "metadata": {},
   "source": [
    "```\n",
    "$ longestSubSeq([1, 9, 87, 3, 10, 4, 20, 2, 45])\n",
    "$ 4 // 1, 3, 4, 2\n",
    "\n",
    "$ longestSubSeq([36, 41, 56, 35, 91, 33, 34, 92, 43, 37, 42])\n",
    "$ 5 // 36, 35, 33, 34, 37\n",
    "```"
   ]
  },
  {
   "cell_type": "markdown",
   "metadata": {},
   "source": [
    "### Solution sketch\n",
    "\n",
    "1. Convert the array into a set\n",
    "2. Iterate through the original array. At every element, remove it from the set and -1 and +1 to that element. If those new elements exist in the set, remove those as well. In effect we are removing this subsequence from the set. Note down the length of the subsequence in `max_subsequence_length`.\n",
    "3. Repeat for every element in the original array. If it is not found in the set, it means it was removed previously in a subsequence search, so skip to next element. If longer subsequence is found for this element, update `max_subsequence_length`.\n",
    "\n",
    "This solution has a time complexity of O(N) and space complexity of O(N), since an additional set is used."
   ]
  },
  {
   "cell_type": "code",
   "execution_count": 23,
   "metadata": {},
   "outputs": [],
   "source": [
    "def longestSubSeq(arr):\n",
    "    if len(arr) == 0:\n",
    "        return 0\n",
    "    if len(arr) == 1:\n",
    "        return 1\n",
    "    \n",
    "    element_set = set(arr)\n",
    "    max_subsequence_length = 1\n",
    "    max_subsequence = [arr[0]]\n",
    "    \n",
    "    for idx, element in enumerate(arr):\n",
    "        count = 1\n",
    "        subsequence = [element]\n",
    "        # Remove element from set if it exists.\n",
    "        if element in element_set:\n",
    "            element_set = element_set - set([element])\n",
    "        # Element doesn't exist in set, it means it was removed in a previous subsequence search.\n",
    "        else:\n",
    "            continue\n",
    "        \n",
    "        # Remove subsequence where elements are smaller than current element\n",
    "        next_element = element - 1\n",
    "        while next_element in element_set:\n",
    "            count += 1\n",
    "            subsequence.append(next_element)\n",
    "            # Remove element from element_set\n",
    "            element_set = element_set - set([next_element])\n",
    "            next_element -= 1\n",
    "        \n",
    "        # Remove subsequence where elements are larger than current element\n",
    "        next_element = element + 1\n",
    "        while next_element in element_set:\n",
    "            count += 1\n",
    "            subsequence.append(next_element)\n",
    "            # Remove element from element_set\n",
    "            element_set = element_set - set([next_element])\n",
    "            next_element += 1\n",
    "        \n",
    "        if count > max_subsequence_length:\n",
    "            max_subsequence_length = count\n",
    "            max_subsequence = subsequence\n",
    "    print(max_subsequence)\n",
    "    return max_subsequence_length\n",
    "        "
   ]
  },
  {
   "cell_type": "code",
   "execution_count": 24,
   "metadata": {},
   "outputs": [
    {
     "name": "stdout",
     "output_type": "stream",
     "text": [
      "[1, 2, 3, 4]\n"
     ]
    },
    {
     "data": {
      "text/plain": [
       "4"
      ]
     },
     "execution_count": 24,
     "metadata": {},
     "output_type": "execute_result"
    }
   ],
   "source": [
    "longestSubSeq([1, 9, 87, 3, 10, 4, 20, 2, 45])"
   ]
  },
  {
   "cell_type": "code",
   "execution_count": 25,
   "metadata": {},
   "outputs": [
    {
     "name": "stdout",
     "output_type": "stream",
     "text": [
      "[36, 35, 34, 33, 37]\n"
     ]
    },
    {
     "data": {
      "text/plain": [
       "5"
      ]
     },
     "execution_count": 25,
     "metadata": {},
     "output_type": "execute_result"
    }
   ],
   "source": [
    "longestSubSeq([36, 41, 56, 35, 91, 33, 34, 92, 43, 37, 42])"
   ]
  },
  {
   "cell_type": "code",
   "execution_count": 27,
   "metadata": {},
   "outputs": [
    {
     "data": {
      "text/plain": [
       "1"
      ]
     },
     "execution_count": 27,
     "metadata": {},
     "output_type": "execute_result"
    }
   ],
   "source": [
    "longestSubSeq([1])"
   ]
  },
  {
   "cell_type": "code",
   "execution_count": 28,
   "metadata": {},
   "outputs": [
    {
     "name": "stdout",
     "output_type": "stream",
     "text": [
      "[1, 2]\n"
     ]
    },
    {
     "data": {
      "text/plain": [
       "2"
      ]
     },
     "execution_count": 28,
     "metadata": {},
     "output_type": "execute_result"
    }
   ],
   "source": [
    "longestSubSeq([1, 2])"
   ]
  },
  {
   "cell_type": "code",
   "execution_count": 29,
   "metadata": {},
   "outputs": [
    {
     "name": "stdout",
     "output_type": "stream",
     "text": [
      "[3, 2, 1]\n"
     ]
    },
    {
     "data": {
      "text/plain": [
       "3"
      ]
     },
     "execution_count": 29,
     "metadata": {},
     "output_type": "execute_result"
    }
   ],
   "source": [
    "longestSubSeq([3, 1, 2])"
   ]
  },
  {
   "cell_type": "code",
   "execution_count": 30,
   "metadata": {},
   "outputs": [
    {
     "name": "stdout",
     "output_type": "stream",
     "text": [
      "[3, 2, 1]\n"
     ]
    },
    {
     "data": {
      "text/plain": [
       "3"
      ]
     },
     "execution_count": 30,
     "metadata": {},
     "output_type": "execute_result"
    }
   ],
   "source": [
    "longestSubSeq([3, 1, 2, 5])"
   ]
  },
  {
   "cell_type": "code",
   "execution_count": 31,
   "metadata": {},
   "outputs": [
    {
     "name": "stdout",
     "output_type": "stream",
     "text": [
      "[3, 2, 1, 0]\n"
     ]
    },
    {
     "data": {
      "text/plain": [
       "4"
      ]
     },
     "execution_count": 31,
     "metadata": {},
     "output_type": "execute_result"
    }
   ],
   "source": [
    "longestSubSeq([3, 1, 2, 5, 0])"
   ]
  },
  {
   "cell_type": "code",
   "execution_count": null,
   "metadata": {},
   "outputs": [],
   "source": []
  }
 ],
 "metadata": {
  "kernelspec": {
   "display_name": "Python 3",
   "language": "python",
   "name": "python3"
  },
  "language_info": {
   "codemirror_mode": {
    "name": "ipython",
    "version": 3
   },
   "file_extension": ".py",
   "mimetype": "text/x-python",
   "name": "python",
   "nbconvert_exporter": "python",
   "pygments_lexer": "ipython3",
   "version": "3.8.5"
  }
 },
 "nbformat": 4,
 "nbformat_minor": 4
}
