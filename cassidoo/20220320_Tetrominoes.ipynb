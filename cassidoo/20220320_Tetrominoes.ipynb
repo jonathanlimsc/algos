{
 "cells": [
  {
   "cell_type": "markdown",
   "metadata": {},
   "source": [
    "Given a matrix of 0s and 1s where 1s represent a Tetris block, and a rotation direction, return the matrix with the block rotated once. You can use this guide for a hint to the algorithm! https://tetris.fandom.com/wiki/SRS#Spawn_Orientation_and_Location\n",
    "\n",
    "Example: \n",
    "    \n",
    "```\n",
    "let grid = [\n",
    "[0,1,0,0],\n",
    "[0,1,1,1],\n",
    "[0,0,0,0],\n",
    "[0,0,0,0]\n",
    "]\n",
    "\n",
    "$ rotateTetromino(grid, 'clockwise')\n",
    "$ [\n",
    "[0,0,1,1],\n",
    "[0,0,1,0],\n",
    "[0,0,1,0],\n",
    "[0,0,0,0]\n",
    "]\n",
    "```"
   ]
  },
  {
   "cell_type": "code",
   "execution_count": 282,
   "metadata": {},
   "outputs": [],
   "source": [
    "class TetrisBoard():\n",
    "    def __init__(self):\n",
    "        self.rotate_axis_row_idx = None\n",
    "        self.rotate_axis_col_idx = None\n",
    "        self.current_I_state = 0\n",
    "        \n",
    "    def print_grid(self, grid):\n",
    "        for row in grid:\n",
    "            print(row)\n",
    "            \n",
    "    def get_active_cells_and_bounds(self, grid):\n",
    "        active_cells = []\n",
    "        min_row_idx = None\n",
    "        min_col_idx = None\n",
    "        max_row_idx = None\n",
    "        max_col_idx = None\n",
    "\n",
    "        for row_idx in range(len(grid)):\n",
    "            for col_idx in range(len(grid[0])):\n",
    "                cell = grid[row_idx][col_idx]\n",
    "                if cell == 1:\n",
    "                    min_row_idx = row_idx if (min_row_idx is None) or (row_idx < min_row_idx) else min_row_idx\n",
    "                    max_row_idx = row_idx if (max_row_idx is None) or (row_idx > max_row_idx) else max_row_idx\n",
    "                    min_col_idx = col_idx if (min_col_idx is None) or (col_idx < min_col_idx) else min_col_idx\n",
    "                    max_col_idx = col_idx if (max_col_idx is None) or (col_idx > max_col_idx) else max_col_idx\n",
    "\n",
    "                    active_cells.append((row_idx, col_idx))\n",
    "\n",
    "        return active_cells, min_row_idx, min_col_idx, max_row_idx, max_col_idx\n",
    "\n",
    "    def get_orientation(self, min_row_idx, max_row_idx, min_col_idx, max_col_idx):\n",
    "        height = max_row_idx - min_row_idx + 1\n",
    "        length = max_col_idx - min_col_idx + 1\n",
    "        \n",
    "        if height > length:\n",
    "            return 'vertical'\n",
    "        elif height < length:\n",
    "            return 'horizontal'\n",
    "        else:\n",
    "            # Tetrominoe has no orientation (ie. square)\n",
    "            return None\n",
    "\n",
    "\n",
    "    def is_I_tetrominoe(self, active_cells):\n",
    "        rows = set()\n",
    "        cols = set()\n",
    "        for cell in active_cells:\n",
    "            row_idx, col_idx = cell\n",
    "            rows.add(row_idx)\n",
    "            cols.add(col_idx)\n",
    "        if len(rows) == 1 or len(cols) == 1:\n",
    "            return True\n",
    "        else:\n",
    "            return False\n",
    "\n",
    "    def rotate_I(self, grid, active_cells, current_state, direction):\n",
    "        rotated_active_cells = []\n",
    "\n",
    "        for cell in active_cells:\n",
    "            cell_row_idx, cell_col_idx = cell\n",
    "            new_cell_row_idx = None\n",
    "            new_cell_col_idx = None\n",
    "            # First state: flip from horizontal to vertical\n",
    "            if current_state == 0:\n",
    "                if direction == 'clockwise':\n",
    "                    new_cell_row_idx = cell_col_idx\n",
    "                    new_cell_col_idx = cell_row_idx + 1\n",
    "                else:\n",
    "                    new_cell_row_idx = cell_col_idx\n",
    "                    new_cell_col_idx = cell_row_idx \n",
    "\n",
    "            # Second state: flip from vertical to horizontal\n",
    "            if current_state == 1:\n",
    "                if direction == 'clockwise':\n",
    "                    new_cell_row_idx = cell_col_idx\n",
    "                    new_cell_col_idx = cell_row_idx\n",
    "                else:\n",
    "                    new_cell_row_idx = cell_col_idx - 1\n",
    "                    new_cell_col_idx = cell_row_idx\n",
    "\n",
    "            # Third state: flip from horizontal to vertical\n",
    "            if current_state == 2:\n",
    "                if direction == 'clockwise':\n",
    "                    new_cell_row_idx = cell_col_idx\n",
    "                    new_cell_col_idx = cell_row_idx - 1\n",
    "                else:\n",
    "                    new_cell_row_idx = cell_col_idx\n",
    "                    new_cell_col_idx = cell_row_idx\n",
    "\n",
    "            # Fourth state: flip from vertical to horizontal (start state)\n",
    "            if current_state == 3:\n",
    "                if direction == 'clockwise':\n",
    "                    new_cell_row_idx = cell_col_idx\n",
    "                    new_cell_col_idx = cell_row_idx\n",
    "                else:\n",
    "                    new_cell_row_idx = cell_col_idx + 1\n",
    "                    new_cell_col_idx = cell_row_idx\n",
    "\n",
    "\n",
    "            rotated_active_cells.append((new_cell_row_idx, new_cell_col_idx))\n",
    "\n",
    "            # Update grid\n",
    "            grid[cell_row_idx][cell_col_idx] = 0\n",
    "\n",
    "        for cell in rotated_active_cells:\n",
    "            grid[cell[0]][cell[1]] = 1\n",
    "\n",
    "        # Update state\n",
    "        if direction == 'clockwise':\n",
    "            new_state = (current_state + 1) % 4\n",
    "        else:\n",
    "            new_state = (current_state - 1) % 4\n",
    "\n",
    "        return grid, rotated_active_cells, new_state\n",
    "    \n",
    "    def rotate(self, grid, active_cells, axis_row_idx, axis_col_idx, direction):\n",
    "        rotated_active_cells = []\n",
    "\n",
    "        for cell in active_cells:\n",
    "            cell_row_idx, cell_col_idx = cell\n",
    "            new_cell_row_idx = None\n",
    "            new_cell_col_idx = None\n",
    "\n",
    "            if cell_row_idx == axis_row_idx and cell_col_idx == axis_col_idx:\n",
    "                # If cell is the axis cell, it does not rotate\n",
    "                rotated_active_cells.append(cell)\n",
    "                continue\n",
    "\n",
    "            if direction == \"clockwise\":\n",
    "                row_offset = (axis_row_idx + 1) - cell_row_idx\n",
    "                new_cell_col_idx = (axis_col_idx - 1) + row_offset\n",
    "\n",
    "                col_offset = cell_col_idx - axis_col_idx\n",
    "                new_cell_row_idx = axis_row_idx + col_offset\n",
    "\n",
    "            if direction == \"anticlockwise\":\n",
    "                row_offset = cell_row_idx - axis_row_idx \n",
    "                new_cell_col_idx = axis_col_idx + row_offset\n",
    "\n",
    "                col_offset = (axis_col_idx + 1) - cell_col_idx\n",
    "                new_cell_row_idx = (axis_row_idx - 1) + col_offset\n",
    "\n",
    "            rotated_active_cells.append((new_cell_row_idx, new_cell_col_idx))\n",
    "\n",
    "            # Update grid\n",
    "            grid[cell_row_idx][cell_col_idx] = 0\n",
    "        \n",
    "        for cell in rotated_active_cells:\n",
    "            grid[cell[0]][cell[1]] = 1\n",
    "\n",
    "\n",
    "        return grid, rotated_active_cells\n",
    "\n",
    "    def rotateTetromino(self, grid, direction):\n",
    "        active_cells, min_row_idx, min_col_idx, max_row_idx, max_col_idx = self.get_active_cells_and_bounds(grid)\n",
    "        orientation = self.get_orientation(min_row_idx, max_row_idx, min_col_idx, max_col_idx)\n",
    "        \n",
    "        # 'O' tetrominoe has no orientation, no need to rotate\n",
    "        if orientation is None:\n",
    "            self.print_grid(grid)\n",
    "            return\n",
    "        \n",
    "        # 'I' tetrominoe: rotate while keeping track of state\n",
    "        if self.is_I_tetrominoe(active_cells):\n",
    "            grid, active_cells, self.current_I_state = self.rotate_I(grid, active_cells, current_state=self.current_I_state, direction=direction)\n",
    "            self.print_grid(grid)\n",
    "            return\n",
    "        \n",
    "        # 'J, L, S, T, Z' tetrominoes: rotate while keeping track of rotation axis coordinates\n",
    "        else:\n",
    "            if self.rotate_axis_row_idx is None:\n",
    "                self.rotate_axis_row_idx = max_row_idx\n",
    "            if self.rotate_axis_col_idx is None:\n",
    "                self.rotate_axis_col_idx = max_col_idx-1\n",
    "\n",
    "            grid, active_cells = self.rotate(grid, active_cells, self.rotate_axis_row_idx, self.rotate_axis_col_idx, direction=direction)\n",
    "            self.print_grid(grid)\n",
    "            return"
   ]
  },
  {
   "cell_type": "markdown",
   "metadata": {},
   "source": [
    "### Test 'I' tetrominoe"
   ]
  },
  {
   "cell_type": "code",
   "execution_count": 231,
   "metadata": {},
   "outputs": [
    {
     "name": "stdout",
     "output_type": "stream",
     "text": [
      "[0, 0, 0, 0]\n",
      "[1, 1, 1, 1]\n",
      "[0, 0, 0, 0]\n",
      "[0, 0, 0, 0]\n"
     ]
    }
   ],
   "source": [
    "grid = [\n",
    "[0,0,0,0],\n",
    "[1,1,1,1],\n",
    "[0,0,0,0],\n",
    "[0,0,0,0]\n",
    "]\n",
    "\n",
    "tetris = TetrisBoard()\n",
    "tetris.print_grid(grid)"
   ]
  },
  {
   "cell_type": "code",
   "execution_count": 232,
   "metadata": {},
   "outputs": [
    {
     "name": "stdout",
     "output_type": "stream",
     "text": [
      "[0, 0, 1, 0]\n",
      "[0, 0, 1, 0]\n",
      "[0, 0, 1, 0]\n",
      "[0, 0, 1, 0]\n"
     ]
    }
   ],
   "source": [
    "tetris.rotateTetromino(grid, 'clockwise')"
   ]
  },
  {
   "cell_type": "code",
   "execution_count": 233,
   "metadata": {},
   "outputs": [
    {
     "name": "stdout",
     "output_type": "stream",
     "text": [
      "[0, 0, 0, 0]\n",
      "[0, 0, 0, 0]\n",
      "[1, 1, 1, 1]\n",
      "[0, 0, 0, 0]\n"
     ]
    }
   ],
   "source": [
    "tetris.rotateTetromino(grid, 'clockwise')"
   ]
  },
  {
   "cell_type": "code",
   "execution_count": 234,
   "metadata": {},
   "outputs": [
    {
     "name": "stdout",
     "output_type": "stream",
     "text": [
      "[0, 1, 0, 0]\n",
      "[0, 1, 0, 0]\n",
      "[0, 1, 0, 0]\n",
      "[0, 1, 0, 0]\n"
     ]
    }
   ],
   "source": [
    "tetris.rotateTetromino(grid, 'clockwise')"
   ]
  },
  {
   "cell_type": "code",
   "execution_count": 235,
   "metadata": {},
   "outputs": [
    {
     "name": "stdout",
     "output_type": "stream",
     "text": [
      "[0, 0, 0, 0]\n",
      "[1, 1, 1, 1]\n",
      "[0, 0, 0, 0]\n",
      "[0, 0, 0, 0]\n"
     ]
    }
   ],
   "source": [
    "tetris.rotateTetromino(grid, 'clockwise')"
   ]
  },
  {
   "cell_type": "code",
   "execution_count": 236,
   "metadata": {},
   "outputs": [
    {
     "name": "stdout",
     "output_type": "stream",
     "text": [
      "[0, 1, 0, 0]\n",
      "[0, 1, 0, 0]\n",
      "[0, 1, 0, 0]\n",
      "[0, 1, 0, 0]\n"
     ]
    }
   ],
   "source": [
    "tetris.rotateTetromino(grid, 'anticlockwise')"
   ]
  },
  {
   "cell_type": "code",
   "execution_count": 237,
   "metadata": {},
   "outputs": [
    {
     "name": "stdout",
     "output_type": "stream",
     "text": [
      "[0, 0, 0, 0]\n",
      "[0, 0, 0, 0]\n",
      "[1, 1, 1, 1]\n",
      "[0, 0, 0, 0]\n"
     ]
    }
   ],
   "source": [
    "tetris.rotateTetromino(grid, 'anticlockwise')"
   ]
  },
  {
   "cell_type": "code",
   "execution_count": 238,
   "metadata": {},
   "outputs": [
    {
     "name": "stdout",
     "output_type": "stream",
     "text": [
      "[0, 0, 1, 0]\n",
      "[0, 0, 1, 0]\n",
      "[0, 0, 1, 0]\n",
      "[0, 0, 1, 0]\n"
     ]
    }
   ],
   "source": [
    "tetris.rotateTetromino(grid, 'anticlockwise')"
   ]
  },
  {
   "cell_type": "code",
   "execution_count": 239,
   "metadata": {},
   "outputs": [
    {
     "name": "stdout",
     "output_type": "stream",
     "text": [
      "[0, 0, 0, 0]\n",
      "[1, 1, 1, 1]\n",
      "[0, 0, 0, 0]\n",
      "[0, 0, 0, 0]\n"
     ]
    }
   ],
   "source": [
    "tetris.rotateTetromino(grid, 'anticlockwise')"
   ]
  },
  {
   "cell_type": "markdown",
   "metadata": {},
   "source": [
    "### Test 'J' tetrominoe"
   ]
  },
  {
   "cell_type": "code",
   "execution_count": 168,
   "metadata": {},
   "outputs": [
    {
     "name": "stdout",
     "output_type": "stream",
     "text": [
      "[0, 1, 0, 0]\n",
      "[0, 1, 1, 1]\n",
      "[0, 0, 0, 0]\n",
      "[0, 0, 0, 0]\n"
     ]
    }
   ],
   "source": [
    "grid = [\n",
    "[0,1,0,0],\n",
    "[0,1,1,1],\n",
    "[0,0,0,0],\n",
    "[0,0,0,0]\n",
    "]\n",
    "\n",
    "tetris = TetrisBoard()\n",
    "tetris.print_grid(grid)"
   ]
  },
  {
   "cell_type": "code",
   "execution_count": 169,
   "metadata": {},
   "outputs": [
    {
     "name": "stdout",
     "output_type": "stream",
     "text": [
      "[0, 0, 1, 1]\n",
      "[0, 0, 1, 0]\n",
      "[0, 0, 1, 0]\n",
      "[0, 0, 0, 0]\n"
     ]
    }
   ],
   "source": [
    "tetris.rotateTetromino(grid, direction='clockwise')"
   ]
  },
  {
   "cell_type": "code",
   "execution_count": 170,
   "metadata": {},
   "outputs": [
    {
     "name": "stdout",
     "output_type": "stream",
     "text": [
      "[0, 0, 0, 0]\n",
      "[0, 1, 1, 1]\n",
      "[0, 0, 0, 1]\n",
      "[0, 0, 0, 0]\n"
     ]
    }
   ],
   "source": [
    "tetris.rotateTetromino(grid, direction='clockwise')"
   ]
  },
  {
   "cell_type": "code",
   "execution_count": 171,
   "metadata": {},
   "outputs": [
    {
     "name": "stdout",
     "output_type": "stream",
     "text": [
      "[0, 0, 1, 0]\n",
      "[0, 0, 1, 0]\n",
      "[0, 1, 1, 0]\n",
      "[0, 0, 0, 0]\n"
     ]
    }
   ],
   "source": [
    "tetris.rotateTetromino(grid, direction='clockwise')"
   ]
  },
  {
   "cell_type": "code",
   "execution_count": 172,
   "metadata": {},
   "outputs": [
    {
     "name": "stdout",
     "output_type": "stream",
     "text": [
      "[0, 1, 0, 0]\n",
      "[0, 1, 1, 1]\n",
      "[0, 0, 0, 0]\n",
      "[0, 0, 0, 0]\n"
     ]
    }
   ],
   "source": [
    "tetris.rotateTetromino(grid, direction='clockwise')"
   ]
  },
  {
   "cell_type": "code",
   "execution_count": 173,
   "metadata": {},
   "outputs": [
    {
     "name": "stdout",
     "output_type": "stream",
     "text": [
      "[0, 0, 1, 0]\n",
      "[0, 0, 1, 0]\n",
      "[0, 1, 1, 0]\n",
      "[0, 0, 0, 0]\n"
     ]
    }
   ],
   "source": [
    "tetris.rotateTetromino(grid, direction='anticlockwise')"
   ]
  },
  {
   "cell_type": "code",
   "execution_count": 174,
   "metadata": {},
   "outputs": [
    {
     "name": "stdout",
     "output_type": "stream",
     "text": [
      "[0, 0, 0, 0]\n",
      "[0, 1, 1, 1]\n",
      "[0, 0, 0, 1]\n",
      "[0, 0, 0, 0]\n"
     ]
    }
   ],
   "source": [
    "tetris.rotateTetromino(grid, direction='anticlockwise')"
   ]
  },
  {
   "cell_type": "code",
   "execution_count": 175,
   "metadata": {},
   "outputs": [
    {
     "name": "stdout",
     "output_type": "stream",
     "text": [
      "[0, 0, 1, 1]\n",
      "[0, 0, 1, 0]\n",
      "[0, 0, 1, 0]\n",
      "[0, 0, 0, 0]\n"
     ]
    }
   ],
   "source": [
    "tetris.rotateTetromino(grid, direction='anticlockwise')"
   ]
  },
  {
   "cell_type": "code",
   "execution_count": 176,
   "metadata": {},
   "outputs": [
    {
     "name": "stdout",
     "output_type": "stream",
     "text": [
      "[0, 1, 0, 0]\n",
      "[0, 1, 1, 1]\n",
      "[0, 0, 0, 0]\n",
      "[0, 0, 0, 0]\n"
     ]
    }
   ],
   "source": [
    "tetris.rotateTetromino(grid, direction='anticlockwise')"
   ]
  },
  {
   "cell_type": "markdown",
   "metadata": {},
   "source": [
    "### Test 'L' tetrominoe"
   ]
  },
  {
   "cell_type": "code",
   "execution_count": 273,
   "metadata": {},
   "outputs": [
    {
     "name": "stdout",
     "output_type": "stream",
     "text": [
      "[0, 0, 0, 1]\n",
      "[0, 1, 1, 1]\n",
      "[0, 0, 0, 0]\n",
      "[0, 0, 0, 0]\n"
     ]
    }
   ],
   "source": [
    "grid = [\n",
    "[0,0,0,1],\n",
    "[0,1,1,1],\n",
    "[0,0,0,0],\n",
    "[0,0,0,0]\n",
    "]\n",
    "\n",
    "tetris = TetrisBoard()\n",
    "tetris.print_grid(grid)"
   ]
  },
  {
   "cell_type": "code",
   "execution_count": 274,
   "metadata": {},
   "outputs": [
    {
     "name": "stdout",
     "output_type": "stream",
     "text": [
      "[0, 0, 1, 0]\n",
      "[0, 0, 1, 0]\n",
      "[0, 0, 1, 1]\n",
      "[0, 0, 0, 0]\n"
     ]
    }
   ],
   "source": [
    "tetris.rotateTetromino(grid, direction='clockwise')"
   ]
  },
  {
   "cell_type": "code",
   "execution_count": 275,
   "metadata": {},
   "outputs": [
    {
     "name": "stdout",
     "output_type": "stream",
     "text": [
      "[0, 0, 0, 0]\n",
      "[0, 1, 1, 1]\n",
      "[0, 1, 0, 0]\n",
      "[0, 0, 0, 0]\n"
     ]
    }
   ],
   "source": [
    "tetris.rotateTetromino(grid, direction='clockwise')"
   ]
  },
  {
   "cell_type": "code",
   "execution_count": 276,
   "metadata": {},
   "outputs": [
    {
     "name": "stdout",
     "output_type": "stream",
     "text": [
      "[0, 1, 1, 0]\n",
      "[0, 0, 1, 0]\n",
      "[0, 0, 1, 0]\n",
      "[0, 0, 0, 0]\n"
     ]
    }
   ],
   "source": [
    "tetris.rotateTetromino(grid, direction='clockwise')"
   ]
  },
  {
   "cell_type": "code",
   "execution_count": 277,
   "metadata": {},
   "outputs": [
    {
     "name": "stdout",
     "output_type": "stream",
     "text": [
      "[0, 0, 0, 1]\n",
      "[0, 1, 1, 1]\n",
      "[0, 0, 0, 0]\n",
      "[0, 0, 0, 0]\n"
     ]
    }
   ],
   "source": [
    "tetris.rotateTetromino(grid, direction='clockwise')"
   ]
  },
  {
   "cell_type": "code",
   "execution_count": 278,
   "metadata": {},
   "outputs": [
    {
     "name": "stdout",
     "output_type": "stream",
     "text": [
      "[0, 1, 1, 0]\n",
      "[0, 0, 1, 0]\n",
      "[0, 0, 1, 0]\n",
      "[0, 0, 0, 0]\n"
     ]
    }
   ],
   "source": [
    "tetris.rotateTetromino(grid, direction='anticlockwise')"
   ]
  },
  {
   "cell_type": "code",
   "execution_count": 279,
   "metadata": {},
   "outputs": [
    {
     "name": "stdout",
     "output_type": "stream",
     "text": [
      "[0, 0, 0, 0]\n",
      "[0, 1, 1, 1]\n",
      "[0, 1, 0, 0]\n",
      "[0, 0, 0, 0]\n"
     ]
    }
   ],
   "source": [
    "tetris.rotateTetromino(grid, direction='anticlockwise')"
   ]
  },
  {
   "cell_type": "code",
   "execution_count": 280,
   "metadata": {},
   "outputs": [
    {
     "name": "stdout",
     "output_type": "stream",
     "text": [
      "[0, 0, 1, 0]\n",
      "[0, 0, 1, 0]\n",
      "[0, 0, 1, 1]\n",
      "[0, 0, 0, 0]\n"
     ]
    }
   ],
   "source": [
    "tetris.rotateTetromino(grid, direction='anticlockwise')"
   ]
  },
  {
   "cell_type": "code",
   "execution_count": 281,
   "metadata": {},
   "outputs": [
    {
     "name": "stdout",
     "output_type": "stream",
     "text": [
      "[0, 0, 0, 1]\n",
      "[0, 1, 1, 1]\n",
      "[0, 0, 0, 0]\n",
      "[0, 0, 0, 0]\n"
     ]
    }
   ],
   "source": [
    "tetris.rotateTetromino(grid, direction='anticlockwise')"
   ]
  },
  {
   "cell_type": "markdown",
   "metadata": {},
   "source": [
    "### Test 'O' tetrominoe"
   ]
  },
  {
   "cell_type": "code",
   "execution_count": 156,
   "metadata": {},
   "outputs": [
    {
     "name": "stdout",
     "output_type": "stream",
     "text": [
      "[0, 1, 1, 0]\n",
      "[0, 1, 1, 0]\n",
      "[0, 0, 0, 0]\n",
      "[0, 0, 0, 0]\n"
     ]
    }
   ],
   "source": [
    "grid = [\n",
    "[0,1,1,0],\n",
    "[0,1,1,0],\n",
    "[0,0,0,0],\n",
    "[0,0,0,0]\n",
    "]\n",
    "\n",
    "tetris = TetrisBoard()\n",
    "tetris.print_grid(grid)"
   ]
  },
  {
   "cell_type": "code",
   "execution_count": 157,
   "metadata": {},
   "outputs": [
    {
     "name": "stdout",
     "output_type": "stream",
     "text": [
      "[0, 1, 1, 0]\n",
      "[0, 1, 1, 0]\n",
      "[0, 0, 0, 0]\n",
      "[0, 0, 0, 0]\n"
     ]
    }
   ],
   "source": [
    "tetris.rotateTetromino(grid, direction='clockwise')"
   ]
  },
  {
   "cell_type": "code",
   "execution_count": 158,
   "metadata": {},
   "outputs": [
    {
     "name": "stdout",
     "output_type": "stream",
     "text": [
      "[0, 1, 1, 0]\n",
      "[0, 1, 1, 0]\n",
      "[0, 0, 0, 0]\n",
      "[0, 0, 0, 0]\n"
     ]
    }
   ],
   "source": [
    "tetris.rotateTetromino(grid, direction='anticlockwise')"
   ]
  },
  {
   "cell_type": "markdown",
   "metadata": {},
   "source": [
    "### Test 'S' tetrominoe"
   ]
  },
  {
   "cell_type": "code",
   "execution_count": 283,
   "metadata": {},
   "outputs": [
    {
     "name": "stdout",
     "output_type": "stream",
     "text": [
      "[0, 0, 1, 1]\n",
      "[0, 1, 1, 0]\n",
      "[0, 0, 0, 0]\n",
      "[0, 0, 0, 0]\n"
     ]
    }
   ],
   "source": [
    "grid = [\n",
    "[0,0,1,1],\n",
    "[0,1,1,0],\n",
    "[0,0,0,0],\n",
    "[0,0,0,0]\n",
    "]\n",
    "tetris = TetrisBoard()\n",
    "tetris.print_grid(grid)"
   ]
  },
  {
   "cell_type": "code",
   "execution_count": 284,
   "metadata": {},
   "outputs": [
    {
     "name": "stdout",
     "output_type": "stream",
     "text": [
      "[0, 0, 1, 0]\n",
      "[0, 0, 1, 1]\n",
      "[0, 0, 0, 1]\n",
      "[0, 0, 0, 0]\n"
     ]
    }
   ],
   "source": [
    "tetris.rotateTetromino(grid, direction='clockwise')"
   ]
  },
  {
   "cell_type": "code",
   "execution_count": 285,
   "metadata": {},
   "outputs": [
    {
     "name": "stdout",
     "output_type": "stream",
     "text": [
      "[0, 0, 0, 0]\n",
      "[0, 0, 1, 1]\n",
      "[0, 1, 1, 0]\n",
      "[0, 0, 0, 0]\n"
     ]
    }
   ],
   "source": [
    "tetris.rotateTetromino(grid, direction='clockwise')"
   ]
  },
  {
   "cell_type": "code",
   "execution_count": 286,
   "metadata": {},
   "outputs": [
    {
     "name": "stdout",
     "output_type": "stream",
     "text": [
      "[0, 1, 0, 0]\n",
      "[0, 1, 1, 0]\n",
      "[0, 0, 1, 0]\n",
      "[0, 0, 0, 0]\n"
     ]
    }
   ],
   "source": [
    "tetris.rotateTetromino(grid, direction='clockwise')"
   ]
  },
  {
   "cell_type": "code",
   "execution_count": 287,
   "metadata": {},
   "outputs": [
    {
     "name": "stdout",
     "output_type": "stream",
     "text": [
      "[0, 0, 1, 1]\n",
      "[0, 1, 1, 0]\n",
      "[0, 0, 0, 0]\n",
      "[0, 0, 0, 0]\n"
     ]
    }
   ],
   "source": [
    "tetris.rotateTetromino(grid, direction='clockwise')"
   ]
  },
  {
   "cell_type": "code",
   "execution_count": 288,
   "metadata": {},
   "outputs": [
    {
     "name": "stdout",
     "output_type": "stream",
     "text": [
      "[0, 1, 0, 0]\n",
      "[0, 1, 1, 0]\n",
      "[0, 0, 1, 0]\n",
      "[0, 0, 0, 0]\n"
     ]
    }
   ],
   "source": [
    "tetris.rotateTetromino(grid, direction='anticlockwise')"
   ]
  },
  {
   "cell_type": "code",
   "execution_count": 289,
   "metadata": {},
   "outputs": [
    {
     "name": "stdout",
     "output_type": "stream",
     "text": [
      "[0, 0, 0, 0]\n",
      "[0, 0, 1, 1]\n",
      "[0, 1, 1, 0]\n",
      "[0, 0, 0, 0]\n"
     ]
    }
   ],
   "source": [
    "tetris.rotateTetromino(grid, direction='anticlockwise')"
   ]
  },
  {
   "cell_type": "code",
   "execution_count": 290,
   "metadata": {},
   "outputs": [
    {
     "name": "stdout",
     "output_type": "stream",
     "text": [
      "[0, 0, 1, 0]\n",
      "[0, 0, 1, 1]\n",
      "[0, 0, 0, 1]\n",
      "[0, 0, 0, 0]\n"
     ]
    }
   ],
   "source": [
    "tetris.rotateTetromino(grid, direction='anticlockwise')"
   ]
  },
  {
   "cell_type": "code",
   "execution_count": 291,
   "metadata": {},
   "outputs": [
    {
     "name": "stdout",
     "output_type": "stream",
     "text": [
      "[0, 0, 1, 1]\n",
      "[0, 1, 1, 0]\n",
      "[0, 0, 0, 0]\n",
      "[0, 0, 0, 0]\n"
     ]
    }
   ],
   "source": [
    "tetris.rotateTetromino(grid, direction='anticlockwise')"
   ]
  },
  {
   "cell_type": "markdown",
   "metadata": {},
   "source": [
    "### Test 'T' tetrominoe"
   ]
  },
  {
   "cell_type": "code",
   "execution_count": 303,
   "metadata": {},
   "outputs": [
    {
     "name": "stdout",
     "output_type": "stream",
     "text": [
      "[0, 0, 1, 0]\n",
      "[0, 1, 1, 1]\n",
      "[0, 0, 0, 0]\n",
      "[0, 0, 0, 0]\n"
     ]
    }
   ],
   "source": [
    "grid = [\n",
    "[0,0,1,0],\n",
    "[0,1,1,1],\n",
    "[0,0,0,0],\n",
    "[0,0,0,0]\n",
    "]\n",
    "\n",
    "tetris = TetrisBoard()\n",
    "tetris.print_grid(grid)"
   ]
  },
  {
   "cell_type": "code",
   "execution_count": 294,
   "metadata": {},
   "outputs": [
    {
     "name": "stdout",
     "output_type": "stream",
     "text": [
      "[0, 0, 1, 0]\n",
      "[0, 0, 1, 1]\n",
      "[0, 0, 1, 0]\n",
      "[0, 0, 0, 0]\n"
     ]
    }
   ],
   "source": [
    "tetris.rotateTetromino(grid, direction='clockwise')"
   ]
  },
  {
   "cell_type": "code",
   "execution_count": 295,
   "metadata": {},
   "outputs": [
    {
     "name": "stdout",
     "output_type": "stream",
     "text": [
      "[0, 0, 0, 0]\n",
      "[0, 1, 1, 1]\n",
      "[0, 0, 1, 0]\n",
      "[0, 0, 0, 0]\n"
     ]
    }
   ],
   "source": [
    "tetris.rotateTetromino(grid, direction='clockwise')"
   ]
  },
  {
   "cell_type": "code",
   "execution_count": 296,
   "metadata": {},
   "outputs": [
    {
     "name": "stdout",
     "output_type": "stream",
     "text": [
      "[0, 0, 1, 0]\n",
      "[0, 1, 1, 0]\n",
      "[0, 0, 1, 0]\n",
      "[0, 0, 0, 0]\n"
     ]
    }
   ],
   "source": [
    "tetris.rotateTetromino(grid, direction='clockwise')"
   ]
  },
  {
   "cell_type": "code",
   "execution_count": 297,
   "metadata": {},
   "outputs": [
    {
     "name": "stdout",
     "output_type": "stream",
     "text": [
      "[0, 0, 1, 0]\n",
      "[0, 1, 1, 1]\n",
      "[0, 0, 0, 0]\n",
      "[0, 0, 0, 0]\n"
     ]
    }
   ],
   "source": [
    "tetris.rotateTetromino(grid, direction='clockwise')"
   ]
  },
  {
   "cell_type": "code",
   "execution_count": 298,
   "metadata": {},
   "outputs": [
    {
     "name": "stdout",
     "output_type": "stream",
     "text": [
      "[0, 0, 1, 0]\n",
      "[0, 1, 1, 0]\n",
      "[0, 0, 1, 0]\n",
      "[0, 0, 0, 0]\n"
     ]
    }
   ],
   "source": [
    "tetris.rotateTetromino(grid, direction='anticlockwise')"
   ]
  },
  {
   "cell_type": "code",
   "execution_count": 299,
   "metadata": {},
   "outputs": [
    {
     "name": "stdout",
     "output_type": "stream",
     "text": [
      "[0, 0, 0, 0]\n",
      "[0, 1, 1, 1]\n",
      "[0, 0, 1, 0]\n",
      "[0, 0, 0, 0]\n"
     ]
    }
   ],
   "source": [
    "tetris.rotateTetromino(grid, direction='anticlockwise')"
   ]
  },
  {
   "cell_type": "code",
   "execution_count": 300,
   "metadata": {},
   "outputs": [
    {
     "name": "stdout",
     "output_type": "stream",
     "text": [
      "[0, 0, 1, 0]\n",
      "[0, 0, 1, 1]\n",
      "[0, 0, 1, 0]\n",
      "[0, 0, 0, 0]\n"
     ]
    }
   ],
   "source": [
    "tetris.rotateTetromino(grid, direction='anticlockwise')"
   ]
  },
  {
   "cell_type": "code",
   "execution_count": 301,
   "metadata": {},
   "outputs": [
    {
     "name": "stdout",
     "output_type": "stream",
     "text": [
      "[0, 0, 1, 0]\n",
      "[0, 1, 1, 1]\n",
      "[0, 0, 0, 0]\n",
      "[0, 0, 0, 0]\n"
     ]
    }
   ],
   "source": [
    "tetris.rotateTetromino(grid, direction='anticlockwise')"
   ]
  },
  {
   "cell_type": "markdown",
   "metadata": {},
   "source": [
    "### Test 'Z' tetrominoe"
   ]
  },
  {
   "cell_type": "code",
   "execution_count": 304,
   "metadata": {},
   "outputs": [
    {
     "name": "stdout",
     "output_type": "stream",
     "text": [
      "[1, 1, 0, 0]\n",
      "[0, 1, 1, 0]\n",
      "[0, 0, 0, 0]\n",
      "[0, 0, 0, 0]\n"
     ]
    }
   ],
   "source": [
    "grid = [\n",
    "[1,1,0,0],\n",
    "[0,1,1,0],\n",
    "[0,0,0,0],\n",
    "[0,0,0,0]\n",
    "]\n",
    "\n",
    "tetris = TetrisBoard()\n",
    "tetris.print_grid(grid)"
   ]
  },
  {
   "cell_type": "code",
   "execution_count": 305,
   "metadata": {},
   "outputs": [
    {
     "name": "stdout",
     "output_type": "stream",
     "text": [
      "[0, 0, 1, 0]\n",
      "[0, 1, 1, 0]\n",
      "[0, 1, 0, 0]\n",
      "[0, 0, 0, 0]\n"
     ]
    }
   ],
   "source": [
    "tetris.rotateTetromino(grid, direction='clockwise')"
   ]
  },
  {
   "cell_type": "code",
   "execution_count": 306,
   "metadata": {},
   "outputs": [
    {
     "name": "stdout",
     "output_type": "stream",
     "text": [
      "[0, 0, 0, 0]\n",
      "[1, 1, 0, 0]\n",
      "[0, 1, 1, 0]\n",
      "[0, 0, 0, 0]\n"
     ]
    }
   ],
   "source": [
    "tetris.rotateTetromino(grid, direction='clockwise')"
   ]
  },
  {
   "cell_type": "code",
   "execution_count": 307,
   "metadata": {},
   "outputs": [
    {
     "name": "stdout",
     "output_type": "stream",
     "text": [
      "[0, 1, 0, 0]\n",
      "[1, 1, 0, 0]\n",
      "[1, 0, 0, 0]\n",
      "[0, 0, 0, 0]\n"
     ]
    }
   ],
   "source": [
    "tetris.rotateTetromino(grid, direction='clockwise')"
   ]
  },
  {
   "cell_type": "code",
   "execution_count": 308,
   "metadata": {},
   "outputs": [
    {
     "name": "stdout",
     "output_type": "stream",
     "text": [
      "[1, 1, 0, 0]\n",
      "[0, 1, 1, 0]\n",
      "[0, 0, 0, 0]\n",
      "[0, 0, 0, 0]\n"
     ]
    }
   ],
   "source": [
    "tetris.rotateTetromino(grid, direction='clockwise')"
   ]
  },
  {
   "cell_type": "code",
   "execution_count": 309,
   "metadata": {},
   "outputs": [
    {
     "name": "stdout",
     "output_type": "stream",
     "text": [
      "[0, 1, 0, 0]\n",
      "[1, 1, 0, 0]\n",
      "[1, 0, 0, 0]\n",
      "[0, 0, 0, 0]\n"
     ]
    }
   ],
   "source": [
    "tetris.rotateTetromino(grid, direction='anticlockwise')"
   ]
  },
  {
   "cell_type": "code",
   "execution_count": 310,
   "metadata": {},
   "outputs": [
    {
     "name": "stdout",
     "output_type": "stream",
     "text": [
      "[0, 0, 0, 0]\n",
      "[1, 1, 0, 0]\n",
      "[0, 1, 1, 0]\n",
      "[0, 0, 0, 0]\n"
     ]
    }
   ],
   "source": [
    "tetris.rotateTetromino(grid, direction='anticlockwise')"
   ]
  },
  {
   "cell_type": "code",
   "execution_count": 311,
   "metadata": {},
   "outputs": [
    {
     "name": "stdout",
     "output_type": "stream",
     "text": [
      "[0, 0, 1, 0]\n",
      "[0, 1, 1, 0]\n",
      "[0, 1, 0, 0]\n",
      "[0, 0, 0, 0]\n"
     ]
    }
   ],
   "source": [
    "tetris.rotateTetromino(grid, direction='anticlockwise')"
   ]
  },
  {
   "cell_type": "code",
   "execution_count": 312,
   "metadata": {},
   "outputs": [
    {
     "name": "stdout",
     "output_type": "stream",
     "text": [
      "[1, 1, 0, 0]\n",
      "[0, 1, 1, 0]\n",
      "[0, 0, 0, 0]\n",
      "[0, 0, 0, 0]\n"
     ]
    }
   ],
   "source": [
    "tetris.rotateTetromino(grid, direction='anticlockwise')"
   ]
  },
  {
   "cell_type": "code",
   "execution_count": null,
   "metadata": {},
   "outputs": [],
   "source": []
  }
 ],
 "metadata": {
  "kernelspec": {
   "display_name": "Python 3",
   "language": "python",
   "name": "python3"
  },
  "language_info": {
   "codemirror_mode": {
    "name": "ipython",
    "version": 3
   },
   "file_extension": ".py",
   "mimetype": "text/x-python",
   "name": "python",
   "nbconvert_exporter": "python",
   "pygments_lexer": "ipython3",
   "version": "3.8.5"
  }
 },
 "nbformat": 4,
 "nbformat_minor": 4
}
