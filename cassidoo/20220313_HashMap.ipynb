{
 "cells": [
  {
   "cell_type": "markdown",
   "metadata": {},
   "source": [
    "Implement a hashmap from scratch without any existing libraries in your preferred language. \n",
    "\n",
    "A hashmap should:\n",
    "\n",
    "1. Be empty when initialized\n",
    "2. Have the function `put(int key, int value)` which inserts a (key, value) pair into the hashmap. If the key already exists, update the corresponding value.\n",
    "3. Have the function `get(int key)` which returns the value to which the specified key is mapped, or -1 if there’s no mapping for the key.\n",
    "4. Have the function `remove(key)` which removes the key and its value if it exists in the map."
   ]
  },
  {
   "cell_type": "markdown",
   "metadata": {},
   "source": [
    "References: \n",
    "  - https://algs4.cs.princeton.edu/34hash/"
   ]
  },
  {
   "cell_type": "markdown",
   "metadata": {},
   "source": [
    "### Expected usage\n",
    "```\n",
    "hashmap.put(key=3, value=100)\n",
    "hashmap.get(key=3)\n",
    ">> 100\n",
    "hashmap.remove(key=3)\n",
    "hashmap.get(key=3)\n",
    ">> -1\n",
    "```"
   ]
  },
  {
   "cell_type": "markdown",
   "metadata": {},
   "source": [
    "### Solution sketch\n",
    "1. **Hashing input to an array index for storage**. Since we are dealing only with integer keys, we can hash the input integer with modulo M, where M is an arbitrarily chosen prime number signifying the size of the array, whose indices we are hashing the integer to e.g. if M is 11, and input integer is 23, 23 will be hashed to `23 % 11 = 1`, and hence 23 will be stored in the array at index 1\n",
    "2. **Collision handling**. What do we do if another number hashes to the same index already occupied by 23? e.g. `12 % 11 = 1`, 12 also maps to index 1. We will represent this by storing these input numbers in a list of tuples at that array's index. Technically this should be implemented as a linked-list but we can keep things simple as Python lists can grow dynamically.\n",
    "\n",
    "e.g.\n",
    "```\n",
    "[0]\n",
    "[1] -> [ (23, val_1), (12, val_2) ]\n",
    "[2]\n",
    "[3]\n",
    "[4]\n",
    "[5]\n",
    "...\n",
    "[10]\n",
    "```"
   ]
  },
  {
   "cell_type": "code",
   "execution_count": 100,
   "metadata": {},
   "outputs": [],
   "source": [
    "# Here we choose an arbitrary hashmap size of 101 (array size is 101, so indices range from 0 to 100)\n",
    "# Note that this number should be prime to reduce index collisions.\n",
    "HASHMAP_SIZE = 101"
   ]
  },
  {
   "cell_type": "code",
   "execution_count": 101,
   "metadata": {},
   "outputs": [],
   "source": [
    "class SimpleHashMap:\n",
    "    def __init__(self, hashmap_size):\n",
    "        self.hashmap_size = hashmap_size\n",
    "        self.hashmap_arr = [ None for i in range(self.hashmap_size)]\n",
    "        \n",
    "    def put(self, key: int, value: int) -> None:\n",
    "        index = key % self.hashmap_size\n",
    "        \n",
    "        # There are keys stored at this index.\n",
    "        if self.hashmap_arr[index]:\n",
    "            key_val_chain = self.hashmap_arr[index]\n",
    "            \n",
    "            # Iterate through each key to check if it already exists in key_val_chain. If it exists, overwrite the value\n",
    "            found_key_idx = self._find_key_index_in_key_val_chain(key=key, key_val_chain=key_val_chain)\n",
    "            \n",
    "            # Found key-val tuple with input key\n",
    "            if found_key_idx > -1:\n",
    "                # Overwrite the old value with the new input value\n",
    "                self.hashmap_arr[index][found_key_idx] = (key, value)\n",
    "            else:\n",
    "                # Append key and value as tuple in key_val_chain\n",
    "                key_val_chain.append((key, value))\n",
    "            \n",
    "        # No keys stored at this index.\n",
    "        else:\n",
    "            # Make key_val_chain and store key, value as tuple.\n",
    "            key_val_chain = [(key, value)]\n",
    "            self.hashmap_arr[index] = key_val_chain\n",
    "        \n",
    "        return\n",
    "    \n",
    "    def get(self, key: int) -> int:\n",
    "        index = key % self.hashmap_size\n",
    "        \n",
    "        # There is a key_val_chain stored at this index. \n",
    "        if self.hashmap_arr[index]:\n",
    "            key_val_chain = self.hashmap_arr[index]\n",
    "            # key_val_chain has length of 0 due to previous removals\n",
    "            if len(key_val_chain) == 0:\n",
    "                return -1\n",
    "            \n",
    "            # There are keys stored in the key_val_chain\n",
    "            # Search for input key.\n",
    "            found_key_idx = self._find_key_index_in_key_val_chain(key=key, key_val_chain=key_val_chain)\n",
    "            \n",
    "            # Found key-val tuple with input key\n",
    "            if found_key_idx > -1:\n",
    "                return key_val_chain[found_key_idx][1]\n",
    "            # Searched through the whole key_val_chain, input key not found\n",
    "            else:\n",
    "                return -1\n",
    "        \n",
    "        # No keys stored at this index.\n",
    "        else:    \n",
    "            return -1\n",
    "    \n",
    "    def remove(self, key: int):\n",
    "        index = key % self.hashmap_size\n",
    "        \n",
    "        # There are keys stored at this index. \n",
    "        if self.hashmap_arr[index]:\n",
    "            # Search for input key.\n",
    "            key_val_chain = self.hashmap_arr[index]\n",
    "            \n",
    "            # Iterate through each key to check if it already exists in key_val_chain. If it exists, overwrite the value\n",
    "            found_key_idx = self._find_key_index_in_key_val_chain(key=key, key_val_chain=key_val_chain)\n",
    "            \n",
    "            # Found key-val tuple with input key\n",
    "            if found_key_idx > -1:\n",
    "                # Delete key-val tuple in key_val_chain at found_key_idx\n",
    "                del self.hashmap_arr[index][found_key_idx]\n",
    "    \n",
    "    def _find_key_index_in_key_val_chain(self, key: int, key_val_chain: list) -> int:\n",
    "        found_key_val_chain_idx = -1\n",
    "        for key_val_idx, key_val_tuple in enumerate(key_val_chain):\n",
    "            _key, _val = key_val_tuple\n",
    "            # Found input key in key_val_chain, need to overwrite the old value with the new input value\n",
    "            if _key == key:\n",
    "                found_key_val_chain_idx = key_val_idx\n",
    "                break\n",
    "                \n",
    "        return found_key_val_chain_idx\n",
    "        "
   ]
  },
  {
   "cell_type": "code",
   "execution_count": 102,
   "metadata": {},
   "outputs": [],
   "source": [
    "hashmap = SimpleHashMap(hashmap_size=HASHMAP_SIZE)"
   ]
  },
  {
   "cell_type": "code",
   "execution_count": 103,
   "metadata": {},
   "outputs": [
    {
     "data": {
      "text/plain": [
       "-1"
      ]
     },
     "execution_count": 103,
     "metadata": {},
     "output_type": "execute_result"
    }
   ],
   "source": [
    "hashmap.get(key=3)"
   ]
  },
  {
   "cell_type": "code",
   "execution_count": 104,
   "metadata": {},
   "outputs": [],
   "source": [
    "hashmap.put(key=3, value=100)"
   ]
  },
  {
   "cell_type": "code",
   "execution_count": 105,
   "metadata": {},
   "outputs": [
    {
     "data": {
      "text/plain": [
       "100"
      ]
     },
     "execution_count": 105,
     "metadata": {},
     "output_type": "execute_result"
    }
   ],
   "source": [
    "hashmap.get(key=3)"
   ]
  },
  {
   "cell_type": "code",
   "execution_count": 106,
   "metadata": {},
   "outputs": [],
   "source": [
    "hashmap.put(key=3, value=9999)"
   ]
  },
  {
   "cell_type": "code",
   "execution_count": 107,
   "metadata": {},
   "outputs": [
    {
     "data": {
      "text/plain": [
       "9999"
      ]
     },
     "execution_count": 107,
     "metadata": {},
     "output_type": "execute_result"
    }
   ],
   "source": [
    "hashmap.get(key=3)"
   ]
  },
  {
   "cell_type": "code",
   "execution_count": 108,
   "metadata": {},
   "outputs": [],
   "source": [
    "hashmap.remove(key=3)"
   ]
  },
  {
   "cell_type": "code",
   "execution_count": 109,
   "metadata": {},
   "outputs": [
    {
     "data": {
      "text/plain": [
       "-1"
      ]
     },
     "execution_count": 109,
     "metadata": {},
     "output_type": "execute_result"
    }
   ],
   "source": [
    "hashmap.get(key=3)"
   ]
  },
  {
   "cell_type": "code",
   "execution_count": 110,
   "metadata": {},
   "outputs": [
    {
     "data": {
      "text/plain": [
       "-1"
      ]
     },
     "execution_count": 110,
     "metadata": {},
     "output_type": "execute_result"
    }
   ],
   "source": [
    "hashmap.get(key=10004314)"
   ]
  },
  {
   "cell_type": "code",
   "execution_count": 111,
   "metadata": {},
   "outputs": [],
   "source": [
    "hashmap.put(key=10004314, value=12121)"
   ]
  },
  {
   "cell_type": "code",
   "execution_count": 112,
   "metadata": {},
   "outputs": [
    {
     "data": {
      "text/plain": [
       "12121"
      ]
     },
     "execution_count": 112,
     "metadata": {},
     "output_type": "execute_result"
    }
   ],
   "source": [
    "hashmap.get(key=10004314)"
   ]
  },
  {
   "cell_type": "code",
   "execution_count": 113,
   "metadata": {},
   "outputs": [],
   "source": [
    "hashmap.remove(key=210)"
   ]
  },
  {
   "cell_type": "code",
   "execution_count": 114,
   "metadata": {},
   "outputs": [
    {
     "data": {
      "text/plain": [
       "-1"
      ]
     },
     "execution_count": 114,
     "metadata": {},
     "output_type": "execute_result"
    }
   ],
   "source": [
    "hashmap.get(key=210)"
   ]
  },
  {
   "cell_type": "code",
   "execution_count": 115,
   "metadata": {},
   "outputs": [],
   "source": [
    "hashmap.remove(key=10004314)"
   ]
  },
  {
   "cell_type": "code",
   "execution_count": 116,
   "metadata": {},
   "outputs": [
    {
     "data": {
      "text/plain": [
       "-1"
      ]
     },
     "execution_count": 116,
     "metadata": {},
     "output_type": "execute_result"
    }
   ],
   "source": [
    "hashmap.get(key=10004314)"
   ]
  },
  {
   "cell_type": "code",
   "execution_count": null,
   "metadata": {},
   "outputs": [],
   "source": []
  }
 ],
 "metadata": {
  "kernelspec": {
   "display_name": "Python 3",
   "language": "python",
   "name": "python3"
  },
  "language_info": {
   "codemirror_mode": {
    "name": "ipython",
    "version": 3
   },
   "file_extension": ".py",
   "mimetype": "text/x-python",
   "name": "python",
   "nbconvert_exporter": "python",
   "pygments_lexer": "ipython3",
   "version": "3.8.5"
  }
 },
 "nbformat": 4,
 "nbformat_minor": 4
}
