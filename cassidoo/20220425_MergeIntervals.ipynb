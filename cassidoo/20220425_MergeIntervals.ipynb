{
 "cells": [
  {
   "cell_type": "markdown",
   "id": "c5f147f0",
   "metadata": {},
   "source": [
    "Given an array of intervals, merge the overlapping intervals, and return an array of the resulting intervals. \n",
    "\n",
    "```\n",
    "$ mergeIntervals([[1,4],[2,6],[8,10],[15,20]])\n",
    "$ [[1,6],[8,10],[15,20]]\n",
    "\n",
    "$ mergeIntervals([[1,2],[2,7]])\n",
    "$ [[1,7]]\n",
    "```\n",
    "\n",
    "### Solution Sketch\n",
    "1. Assume range intervals are in ascending order (sorted by the start of each range). \n",
    "2. Maintain a dictionary of ranges range_dict = {} where the keys are the start of the range and values are the end of the range.\n",
    "3. For each range interval, check if the start is smaller than the previous interval's end. If so, there overlap, and replace the previous interval's end with the current interval end. If there's no overlap, create a new interval in the dictionary.\n",
    "\n",
    "### Time complexity \n",
    "- If the input is not sorted, O(nlogn + n) = O(nlogn)\n",
    "- If the input is sorted, O(n)"
   ]
  },
  {
   "cell_type": "code",
   "execution_count": 11,
   "id": "c60acede",
   "metadata": {},
   "outputs": [],
   "source": [
    "def mergeIntervals(intervals, sort=False):\n",
    "    # To sort when input intervals are not sorted\n",
    "    if sort:\n",
    "        intervals = sorted(intervals)\n",
    "        \n",
    "    range_dict = {}\n",
    "    prev_start = None\n",
    "    for interval in intervals:\n",
    "        curr_start, curr_end = interval\n",
    "        if prev_start is None:\n",
    "            range_dict[curr_start] = curr_end\n",
    "            prev_start = curr_start\n",
    "        else:\n",
    "            prev_end = range_dict[prev_start]\n",
    "            # There is overlap, update the prev range in dict\n",
    "            if curr_start <= prev_end:\n",
    "                # If current range overlaps beyond previous range, \n",
    "                # update prev range to end where current range ends\n",
    "                if curr_end > prev_end:\n",
    "                    range_dict[prev_start] = curr_end\n",
    "                # Prev range completely covers current range, do nothing\n",
    "                else:\n",
    "                    continue\n",
    "            # No overlap, create new range in dict\n",
    "            else:\n",
    "                range_dict[curr_start] = curr_end\n",
    "                prev_start = curr_start\n",
    "                \n",
    "    merged_ranges = [[start, end] for start, end in range_dict.items()]\n",
    "    \n",
    "    return merged_ranges\n",
    "    "
   ]
  },
  {
   "cell_type": "code",
   "execution_count": 12,
   "id": "9bd6778c",
   "metadata": {},
   "outputs": [
    {
     "data": {
      "text/plain": [
       "[[1, 6], [8, 10], [15, 20]]"
      ]
     },
     "execution_count": 12,
     "metadata": {},
     "output_type": "execute_result"
    }
   ],
   "source": [
    "mergeIntervals([[1,4], [2,6], [8,10], [15,20]])"
   ]
  },
  {
   "cell_type": "code",
   "execution_count": 13,
   "id": "99664e1f",
   "metadata": {},
   "outputs": [
    {
     "data": {
      "text/plain": [
       "[[1, 6], [8, 10], [15, 20]]"
      ]
     },
     "execution_count": 13,
     "metadata": {},
     "output_type": "execute_result"
    }
   ],
   "source": [
    "# When input intervals is not sorted, sort intervals. This makes the time complexity O(nlogn)\n",
    "mergeIntervals([[15, 20], [2, 6], [1, 4], [8, 10]], sort=True)"
   ]
  },
  {
   "cell_type": "code",
   "execution_count": 14,
   "id": "8d0281a9",
   "metadata": {},
   "outputs": [
    {
     "data": {
      "text/plain": [
       "[[1, 7]]"
      ]
     },
     "execution_count": 14,
     "metadata": {},
     "output_type": "execute_result"
    }
   ],
   "source": [
    "mergeIntervals([[1, 2], [2, 7]])"
   ]
  },
  {
   "cell_type": "code",
   "execution_count": 15,
   "id": "dbccfd66",
   "metadata": {},
   "outputs": [
    {
     "data": {
      "text/plain": [
       "[[1, 2], [6, 20]]"
      ]
     },
     "execution_count": 15,
     "metadata": {},
     "output_type": "execute_result"
    }
   ],
   "source": [
    "mergeIntervals([[1, 2], [6, 20], [7, 15]])"
   ]
  },
  {
   "cell_type": "code",
   "execution_count": null,
   "id": "33b5d0aa",
   "metadata": {},
   "outputs": [],
   "source": []
  }
 ],
 "metadata": {
  "kernelspec": {
   "display_name": "Python 3 (ipykernel)",
   "language": "python",
   "name": "python3"
  },
  "language_info": {
   "codemirror_mode": {
    "name": "ipython",
    "version": 3
   },
   "file_extension": ".py",
   "mimetype": "text/x-python",
   "name": "python",
   "nbconvert_exporter": "python",
   "pygments_lexer": "ipython3",
   "version": "3.8.12"
  }
 },
 "nbformat": 4,
 "nbformat_minor": 5
}
