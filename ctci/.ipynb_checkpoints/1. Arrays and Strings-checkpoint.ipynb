{
 "cells": [
  {
   "cell_type": "markdown",
   "metadata": {},
   "source": [
    "# Sorts"
   ]
  },
  {
   "cell_type": "markdown",
   "metadata": {},
   "source": [
    "- Quicksort vs Mergesort https://www.geeksforgeeks.org/quick-sort-vs-merge-sort/"
   ]
  },
  {
   "cell_type": "markdown",
   "metadata": {},
   "source": [
    "## 1. Quicksort"
   ]
  },
  {
   "cell_type": "code",
   "execution_count": null,
   "metadata": {},
   "outputs": [],
   "source": []
  },
  {
   "cell_type": "markdown",
   "metadata": {},
   "source": [
    "## 2. Mergesort\n",
    " - In-place: https://www.geeksforgeeks.org/in-place-merge-sort/"
   ]
  },
  {
   "cell_type": "markdown",
   "metadata": {},
   "source": [
    "### Not in-place"
   ]
  },
  {
   "cell_type": "code",
   "execution_count": 8,
   "metadata": {},
   "outputs": [],
   "source": [
    "def merge_sort(arr, ascending=True):\n",
    "    if len(arr) <= 1:\n",
    "        return arr\n",
    "    \n",
    "    split = int(len(arr)/2)\n",
    "    arr_1 = merge_sort(arr[:split], ascending)\n",
    "    arr_2 = merge_sort(arr[split:], ascending)\n",
    "    return merge(arr_1, arr_2, ascending)\n",
    "\n",
    "def merge(arr_1, arr_2, ascending=True):\n",
    "    output_arr = []\n",
    "    ptr_1 = 0\n",
    "    ptr_2 = 0\n",
    "    \n",
    "    if ascending:\n",
    "        while ptr_1 < len(arr_1) and ptr_2 < len(arr_2):\n",
    "            element_1 = arr_1[ptr_1]\n",
    "            element_2 = arr_2[ptr_2]\n",
    "            if element_1 < element_2:\n",
    "                output_arr.append(element_1)\n",
    "                ptr_1 += 1\n",
    "            elif element_2 < element_1:\n",
    "                output_arr.append(element_2)\n",
    "                ptr_2 += 1\n",
    "            elif element_1 == element_2:\n",
    "                output_arr.append(element_1)\n",
    "                ptr_1 += 1\n",
    "    else:\n",
    "        while ptr_1 < len(arr_1) and ptr_2 < len(arr_2):\n",
    "            element_1 = arr_1[ptr_1]\n",
    "            element_2 = arr_2[ptr_2]\n",
    "            if element_1 > element_2:\n",
    "                output_arr.append(element_1)\n",
    "                ptr_1 += 1\n",
    "            elif element_2 > element_1:\n",
    "                output_arr.append(element_2)\n",
    "                ptr_2 += 1\n",
    "            elif element_1 == element_2:\n",
    "                output_arr.append(element_1)\n",
    "                ptr_1 += 1\n",
    "        \n",
    "            \n",
    "    # Clean up arr_1\n",
    "    if ptr_1 < len(arr_1):\n",
    "        output_arr.extend(arr_1[ptr_1:])\n",
    "    \n",
    "    # Clean up arr_2\n",
    "    if ptr_2 < len(arr_2):\n",
    "        output_arr.extend(arr_2[ptr_2:])\n",
    "    \n",
    "    return output_arr\n",
    "            \n",
    "            "
   ]
  },
  {
   "cell_type": "code",
   "execution_count": 76,
   "metadata": {},
   "outputs": [
    {
     "data": {
      "text/plain": [
       "[7, 6, 5, 4, 3, 2, 1]"
      ]
     },
     "execution_count": 76,
     "metadata": {},
     "output_type": "execute_result"
    }
   ],
   "source": [
    "merge_sort([1,2,3,4,5,6,7], ascending=False)"
   ]
  },
  {
   "cell_type": "markdown",
   "metadata": {},
   "source": [
    "## Timsort"
   ]
  },
  {
   "cell_type": "code",
   "execution_count": null,
   "metadata": {},
   "outputs": [],
   "source": []
  },
  {
   "cell_type": "markdown",
   "metadata": {},
   "source": [
    "# 1.1 Is Unique: Implement an algorithm to determine if a string has all unique characters. \n",
    "\n",
    "What if you cannot use additional data structures?"
   ]
  },
  {
   "cell_type": "markdown",
   "metadata": {},
   "source": [
    "## 1.1 Approach 1: Hash map, count number of occurences of each char. O(n) time O(n) space"
   ]
  },
  {
   "cell_type": "code",
   "execution_count": 66,
   "metadata": {},
   "outputs": [],
   "source": [
    "def is_unique(arr):\n",
    "    d = {}\n",
    "    is_unique = True\n",
    "    for char in arr:\n",
    "        if char not in d:\n",
    "            d[char] = 1\n",
    "        else:\n",
    "            d[char] += 1\n",
    "            \n",
    "    for k in d:\n",
    "        if d[k] > 1:\n",
    "            return False\n",
    "    \n",
    "    return True\n",
    "        "
   ]
  },
  {
   "cell_type": "markdown",
   "metadata": {},
   "source": [
    "## 1.1 Approach 2: Bit-vector to save space (just need 1 byte). \n",
    "Only same case letters (all lower or all upper) allowed. O(n) time and O(1) space.\n",
    "\n",
    "https://stackoverflow.com/questions/9141830/explain-the-use-of-a-bit-vector-for-determining-if-all-characters-are-unique"
   ]
  },
  {
   "cell_type": "code",
   "execution_count": 67,
   "metadata": {},
   "outputs": [],
   "source": [
    "def is_unique(arr):\n",
    "    a_int = ord('a') # ord('a') == 97, ord('z') == 122, ord('A') == 65, ord('Z') == 90\n",
    "    bit_vec = 0 \n",
    "    for char in arr:\n",
    "        char_int = ord(char) - a_int\n",
    "        # If char has been seen before, the bit_vec will have 1 bit at that position. \n",
    "        # & operation will result in at least 1.\n",
    "        # If char has not been seen before, & will result in 0\n",
    "        #\n",
    "        # 1 << 3 == shift 00001 by 3 -> 01000\n",
    "        char_vec = (1 << char_int)\n",
    "        if (char_vec & bit_vec) >= 1:\n",
    "            return False\n",
    "        bit_vec = bit_vec | char_vec\n",
    "    \n",
    "    return True\n",
    "            \n",
    "    \n",
    "    "
   ]
  },
  {
   "cell_type": "markdown",
   "metadata": {},
   "source": [
    "## 1.1 Approach 3: Sort array and then check for adjacent duplicates. O(nlogn) time, O(1) space if in-place sort"
   ]
  },
  {
   "cell_type": "code",
   "execution_count": 78,
   "metadata": {},
   "outputs": [],
   "source": [
    "def is_unique(arr):\n",
    "    arr = merge_sort(arr)\n",
    "    i = 0\n",
    "    while i < len(arr) - 1:\n",
    "        if arr[i] == arr[i+1]:\n",
    "            return False\n",
    "        i += 1\n",
    "    \n",
    "    return True"
   ]
  },
  {
   "cell_type": "markdown",
   "metadata": {},
   "source": [
    "# 1.2 Check Permutation: Given two strings, write a function that will return True if they are permutations of each other, False otherwise"
   ]
  },
  {
   "cell_type": "markdown",
   "metadata": {},
   "source": [
    "## 1.2 Approach 1: use dictionary to count number of occurences of each letter. Should be the same for both strings. O(n) time, O(n) space."
   ]
  },
  {
   "cell_type": "markdown",
   "metadata": {},
   "source": [
    "An added optimization could be to use only 1 dictionary instead of two. First string will build a dictionary and increment character counts, second string will decrement character counts. Lastly, check that all characters (keys) should have 0 counts if both strings are permutations."
   ]
  },
  {
   "cell_type": "code",
   "execution_count": 3,
   "metadata": {},
   "outputs": [],
   "source": [
    "def check_permutation(str_1, str_2):\n",
    "    # Permutations must be of same length\n",
    "    if len(str_1) != len(str_2):\n",
    "        return False\n",
    "    \n",
    "    dict_1 = {}\n",
    "    dict_2 = {}\n",
    "    \n",
    "    # Build hashmaps for str_1 and str_2\n",
    "    for i in range(len(str_1)):\n",
    "        char_1 = str_1[i]\n",
    "        char_2 = str_2[i]\n",
    "        if char_1 not in dict_1:\n",
    "            dict_1[char_1] = 1\n",
    "        else:\n",
    "            dict_1[char_1] += 1\n",
    "            \n",
    "        if char_2 not in dict_2:\n",
    "            dict_2[char_2] = 1\n",
    "        else:\n",
    "            dict_2[char_2] += 1\n",
    "        \n",
    "    # Compare char counts between hashmaps\n",
    "    for key in dict_1:\n",
    "        if key not in dict_2:\n",
    "            return False\n",
    "    \n",
    "    for key in dict_2:\n",
    "        if key not in dict_1:\n",
    "            return False\n",
    "        if dict_2[key] != dict_1[key]:\n",
    "            return False\n",
    "    \n",
    "    return True"
   ]
  },
  {
   "cell_type": "markdown",
   "metadata": {},
   "source": [
    "## 1.2 Approach 2: sort the strings. Permutations should have equality. O(nlogn) time, O(1) space."
   ]
  },
  {
   "cell_type": "code",
   "execution_count": 12,
   "metadata": {},
   "outputs": [],
   "source": [
    "def check_permutation(str_1, str_2):\n",
    "    # Permutations must be same length\n",
    "    if len(str_1) != len(str_2):\n",
    "        return False\n",
    "    \n",
    "    # Sort strings\n",
    "    sorted_str_1 = merge_sort(str_1)\n",
    "    sorted_str_2 = merge_sort(str_2)\n",
    "    return sorted_str_1 == sorted_str_2"
   ]
  },
  {
   "cell_type": "code",
   "execution_count": 14,
   "metadata": {},
   "outputs": [
    {
     "data": {
      "text/plain": [
       "True"
      ]
     },
     "execution_count": 14,
     "metadata": {},
     "output_type": "execute_result"
    }
   ],
   "source": [
    "check_permutation('malls', 'small')"
   ]
  },
  {
   "cell_type": "markdown",
   "metadata": {},
   "source": [
    "# 1.3 Check Palindrome Permutation: write a function which takes in a string, and returns True if the string is a permutation of a palindrome, False otherwise. \n",
    "\n",
    "A palindrome is a string which can be read the same forwards or backwards (e.g. abba, aba, 73337 )"
   ]
  },
  {
   "cell_type": "markdown",
   "metadata": {},
   "source": [
    "## 1.3 Approach 1: Use dictionary to count number of character occurences. Then validate that there is at most only one odd character. O(n) time, O(1) space."
   ]
  },
  {
   "cell_type": "code",
   "execution_count": 2,
   "metadata": {},
   "outputs": [],
   "source": [
    "def check_palindrome_permutation(str_1):\n",
    "    dict_1 = {}\n",
    "    num_odd = 0\n",
    "    # Build dictionary\n",
    "    for char in str_1:\n",
    "        if char not in dict_1:\n",
    "            dict_1[char] = 1\n",
    "        else:\n",
    "            dict_1[char] += 1\n",
    "    \n",
    "    # Check for odd cases\n",
    "    for char in dict_1:\n",
    "        if dict_1[char] % 2 != 0:\n",
    "            num_odd += 1\n",
    "    \n",
    "    return num_odd <= 1"
   ]
  },
  {
   "cell_type": "markdown",
   "metadata": {},
   "source": [
    "## 1.3 Approach 2: Use a set to count the number of ODD character occurences. O(n) time, O(1) space."
   ]
  },
  {
   "cell_type": "code",
   "execution_count": 81,
   "metadata": {},
   "outputs": [],
   "source": [
    "def check_palindrome_permutation(str_1):\n",
    "    odds_set = set()\n",
    "    for char in str_1:\n",
    "        if char not in odds_set:\n",
    "            odds_set.add(char)\n",
    "        else:\n",
    "            odds_set.remove(char)\n",
    "    \n",
    "    return len(odds_set) <= 1"
   ]
  },
  {
   "cell_type": "markdown",
   "metadata": {},
   "source": [
    "## 1.3 Approach 3: Use a bit-vector instead of a set to count the number of ODD character occurences. Assume only all same-case letters. O(n) time, O(1) space."
   ]
  },
  {
   "cell_type": "markdown",
   "metadata": {},
   "source": [
    "- Bit vector when all characters are even: 00000\n",
    "- Bit vector when 1 character is odd: 10000\n",
    "    - Subtracting 1 produces 01111\n",
    "    - AND them together produces 00000"
   ]
  },
  {
   "cell_type": "code",
   "execution_count": 2,
   "metadata": {},
   "outputs": [],
   "source": [
    "def check_palindrome_permutation(str_1):\n",
    "    int_a = ord('a')\n",
    "    bit_vector = 0\n",
    "    \n",
    "    # Create bit-vector\n",
    "    for char in str_1:\n",
    "        # a = 1, ..., z = 26\n",
    "        int_char = ord(char) - int_a\n",
    "        bit_vector = flip_bit_vector(bit_vector, int_char)\n",
    "\n",
    "    # All chars appeared even number of times\n",
    "    if bit_vector == 0:\n",
    "        return True\n",
    "    # One char appeared an odd number of times\n",
    "    elif bit_vector & (bit_vector - 1) == 0:\n",
    "        return True\n",
    "    # More than one char appeared an odd number of times, so bit\n",
    "    else:\n",
    "        return False"
   ]
  },
  {
   "cell_type": "code",
   "execution_count": 3,
   "metadata": {},
   "outputs": [],
   "source": [
    "def flip_bit_vector(bit_vector, index):\n",
    "    # Index starts from 0. Int value 1 = 1 << 0 \n",
    "    bit_mask = 1 << index\n",
    "    # This number's bit position in the bit vector has not been flipped to 1 yet, so flip it to 1 at that position\n",
    "    if (bit_mask & bit_vector) == 0:\n",
    "        bit_vector |= bit_mask\n",
    "    # This number's bit position is already 1 in the bit vector, flip it to 0\n",
    "    else:\n",
    "        bit_vector = bit_vector & (~bit_mask)\n",
    "    return bit_vector"
   ]
  },
  {
   "cell_type": "code",
   "execution_count": 4,
   "metadata": {},
   "outputs": [],
   "source": [
    "def convert_bit_string_to_vector(bit_str):\n",
    "    length = len(bit_str)\n",
    "    bit_vector = 0\n",
    "    for idx in range(length):\n",
    "        # Skip any 0s as they do not affect the bit-vector\n",
    "        if bit_str[idx] == '0':\n",
    "            continue\n",
    "            \n",
    "        # To make it 0-indexed\n",
    "        position = length - idx - 1\n",
    "        bit_vector |= 1 << position\n",
    "        \n",
    "    return bit_vector "
   ]
  },
  {
   "cell_type": "code",
   "execution_count": 5,
   "metadata": {},
   "outputs": [],
   "source": [
    "# Tests\n",
    "\n",
    "bit_vector = convert_bit_string_to_vector('1101')\n",
    "assert bit_vector == 13, \"1101 should be equal to 13\"\n",
    "assert flip_bit_vector(bit_vector, 0) == 12, \"1101 should flip to 1100 which is equal to 12\"\n",
    "assert flip_bit_vector(flip_bit_vector(bit_vector, 0), 0) == 13, \"Should flip back to 1101, which is equal to 13\""
   ]
  },
  {
   "cell_type": "code",
   "execution_count": 6,
   "metadata": {},
   "outputs": [
    {
     "data": {
      "text/plain": [
       "True"
      ]
     },
     "execution_count": 6,
     "metadata": {},
     "output_type": "execute_result"
    }
   ],
   "source": [
    "check_palindrome_permutation('abbba')"
   ]
  },
  {
   "cell_type": "code",
   "execution_count": 7,
   "metadata": {},
   "outputs": [
    {
     "data": {
      "text/plain": [
       "False"
      ]
     },
     "execution_count": 7,
     "metadata": {},
     "output_type": "execute_result"
    }
   ],
   "source": [
    "check_palindrome_permutation('abcbad')"
   ]
  },
  {
   "cell_type": "code",
   "execution_count": null,
   "metadata": {},
   "outputs": [],
   "source": []
  }
 ],
 "metadata": {
  "kernelspec": {
   "display_name": "Python 3",
   "language": "python",
   "name": "python3"
  },
  "language_info": {
   "codemirror_mode": {
    "name": "ipython",
    "version": 3
   },
   "file_extension": ".py",
   "mimetype": "text/x-python",
   "name": "python",
   "nbconvert_exporter": "python",
   "pygments_lexer": "ipython3",
   "version": "3.6.9"
  }
 },
 "nbformat": 4,
 "nbformat_minor": 4
}
