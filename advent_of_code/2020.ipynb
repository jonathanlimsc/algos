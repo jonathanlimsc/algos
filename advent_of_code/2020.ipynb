{
 "cells": [
  {
   "cell_type": "markdown",
   "metadata": {},
   "source": [
    "## Day 1"
   ]
  },
  {
   "cell_type": "markdown",
   "metadata": {},
   "source": [
    "Of course, your expense report is much larger. Find the two entries that sum to 2020; what do you get if you multiply them together?"
   ]
  },
  {
   "cell_type": "code",
   "execution_count": 2,
   "metadata": {},
   "outputs": [],
   "source": [
    "text = \"\"\"2010\n",
    "1856\n",
    "1905\n",
    "1786\n",
    "1557\n",
    "1995\n",
    "1830\n",
    "1971\n",
    "1909\n",
    "1500\n",
    "1806\n",
    "1846\n",
    "2003\n",
    "1839\n",
    "1943\n",
    "1977\n",
    "1537\n",
    "689\n",
    "1861\n",
    "1886\n",
    "1815\n",
    "1763\n",
    "1834\n",
    "1881\n",
    "1952\n",
    "1853\n",
    "1775\n",
    "1835\n",
    "1874\n",
    "1948\n",
    "1978\n",
    "347\n",
    "1672\n",
    "885\n",
    "1709\n",
    "1826\n",
    "1911\n",
    "1644\n",
    "1064\n",
    "1561\n",
    "1966\n",
    "1352\n",
    "1347\n",
    "1928\n",
    "1756\n",
    "615\n",
    "1513\n",
    "1932\n",
    "1968\n",
    "1762\n",
    "1842\n",
    "1475\n",
    "1921\n",
    "1716\n",
    "1533\n",
    "1975\n",
    "1924\n",
    "1850\n",
    "1456\n",
    "1783\n",
    "1587\n",
    "1913\n",
    "1908\n",
    "1502\n",
    "1993\n",
    "1635\n",
    "1691\n",
    "1706\n",
    "1871\n",
    "1857\n",
    "1915\n",
    "1604\n",
    "1618\n",
    "1902\n",
    "1860\n",
    "1648\n",
    "1933\n",
    "1999\n",
    "1960\n",
    "1389\n",
    "1858\n",
    "1793\n",
    "1609\n",
    "1484\n",
    "1735\n",
    "1535\n",
    "1891\n",
    "1879\n",
    "1517\n",
    "1766\n",
    "1926\n",
    "1668\n",
    "1495\n",
    "1585\n",
    "1831\n",
    "1308\n",
    "1767\n",
    "1479\n",
    "1638\n",
    "1600\n",
    "710\n",
    "1685\n",
    "1818\n",
    "1859\n",
    "1822\n",
    "1844\n",
    "1550\n",
    "1872\n",
    "1719\n",
    "1863\n",
    "1987\n",
    "199\n",
    "1840\n",
    "1817\n",
    "1752\n",
    "1612\n",
    "1983\n",
    "1838\n",
    "1504\n",
    "1997\n",
    "716\n",
    "1862\n",
    "1931\n",
    "1356\n",
    "1645\n",
    "1962\n",
    "1574\n",
    "1914\n",
    "1869\n",
    "1919\n",
    "1487\n",
    "1961\n",
    "1728\n",
    "1867\n",
    "1177\n",
    "1757\n",
    "1316\n",
    "1875\n",
    "1991\n",
    "1646\n",
    "700\n",
    "1972\n",
    "2004\n",
    "1577\n",
    "118\n",
    "1954\n",
    "1483\n",
    "1516\n",
    "2007\n",
    "1506\n",
    "1588\n",
    "1698\n",
    "1725\n",
    "2006\n",
    "179\n",
    "1849\n",
    "1894\n",
    "1695\n",
    "1399\n",
    "1726\n",
    "1658\n",
    "1920\n",
    "1825\n",
    "1837\n",
    "1878\n",
    "1591\n",
    "1611\n",
    "1409\n",
    "1553\n",
    "1705\n",
    "1845\n",
    "1718\n",
    "1732\n",
    "1639\n",
    "1885\n",
    "1929\n",
    "1887\n",
    "1787\n",
    "1541\n",
    "1946\n",
    "1391\n",
    "1884\n",
    "1938\n",
    "1496\n",
    "1720\n",
    "1669\n",
    "1965\n",
    "1967\n",
    "1890\n",
    "1743\n",
    "1889\n",
    "1970\n",
    "1866\n",
    "1912\n",
    "1785\n",
    "1998\n",
    "1708\n",
    "1810\n",
    "1939\n",
    "2005\"\"\""
   ]
  },
  {
   "cell_type": "code",
   "execution_count": 22,
   "metadata": {},
   "outputs": [],
   "source": [
    "text_arr = [int(num) for num in text.split(\"\\n\")]"
   ]
  },
  {
   "cell_type": "code",
   "execution_count": 54,
   "metadata": {},
   "outputs": [],
   "source": [
    "def two_sum(arr, target, skip_idx=None):\n",
    "    _hash = {}\n",
    "    for idx, num in enumerate(arr):\n",
    "        if num in _hash:\n",
    "            if skip_idx is not None: \n",
    "                if idx != skip_idx and _hash[num] != skip_idx:\n",
    "                    return (num, arr[_hash[num]])\n",
    "            else:\n",
    "                return (num, arr[_hash[num]])\n",
    "        \n",
    "        _hash[target-num] = idx\n",
    "    \n",
    "    return (None, None)"
   ]
  },
  {
   "cell_type": "code",
   "execution_count": 20,
   "metadata": {},
   "outputs": [
    {
     "data": {
      "text/plain": [
       "(None, None)"
      ]
     },
     "execution_count": 20,
     "metadata": {},
     "output_type": "execute_result"
    }
   ],
   "source": [
    "two_sum([1,3,2,4], 8)"
   ]
  },
  {
   "cell_type": "code",
   "execution_count": 55,
   "metadata": {},
   "outputs": [
    {
     "data": {
      "text/plain": [
       "(118, 1902)"
      ]
     },
     "execution_count": 55,
     "metadata": {},
     "output_type": "execute_result"
    }
   ],
   "source": [
    "two_sum(text_arr, 2020)"
   ]
  },
  {
   "cell_type": "code",
   "execution_count": 80,
   "metadata": {},
   "outputs": [
    {
     "name": "stdout",
     "output_type": "stream",
     "text": [
      "(118, 1902)\n",
      "224436\n"
     ]
    }
   ],
   "source": [
    "res = two_sum(text_arr, 2020)\n",
    "print(res)\n",
    "assert (res[0] + res[1]) == 2020\n",
    "print(res[0] * res[1])"
   ]
  },
  {
   "cell_type": "code",
   "execution_count": 81,
   "metadata": {},
   "outputs": [],
   "source": [
    "def three_sum(arr, target):\n",
    "    _hash_1 = {}\n",
    "    _hash_2 = {}\n",
    "    \n",
    "    for idx, num in enumerate(arr):\n",
    "        # Saving the index of c\n",
    "        _hash_1[target - num] = idx\n",
    "        \n",
    "        two_sum_target = target - num\n",
    "        res = two_sum(arr, two_sum_target, skip_idx=idx)\n",
    "        if res[0]:\n",
    "            return (res[0], res[1], arr[idx])\n",
    "    \n",
    "    return (None, None, None)"
   ]
  },
  {
   "cell_type": "code",
   "execution_count": 82,
   "metadata": {},
   "outputs": [
    {
     "data": {
      "text/plain": [
       "(3, 2, 1)"
      ]
     },
     "execution_count": 82,
     "metadata": {},
     "output_type": "execute_result"
    }
   ],
   "source": [
    "three_sum([1,2,3], 6)"
   ]
  },
  {
   "cell_type": "code",
   "execution_count": 83,
   "metadata": {},
   "outputs": [
    {
     "name": "stdout",
     "output_type": "stream",
     "text": [
      "(716, 615, 689)\n",
      "303394260\n"
     ]
    }
   ],
   "source": [
    "res = three_sum(text_arr, 2020)\n",
    "print(res)\n",
    "assert (res[0] + res[1] + res[2]) == 2020\n",
    "print(res[0] * res[1] * res[2])"
   ]
  }
 ],
 "metadata": {
  "kernelspec": {
   "display_name": "Python (py35)",
   "language": "python",
   "name": "py35"
  },
  "language_info": {
   "codemirror_mode": {
    "name": "ipython",
    "version": 3
   },
   "file_extension": ".py",
   "mimetype": "text/x-python",
   "name": "python",
   "nbconvert_exporter": "python",
   "pygments_lexer": "ipython3",
   "version": "3.5.4"
  }
 },
 "nbformat": 4,
 "nbformat_minor": 2
}
